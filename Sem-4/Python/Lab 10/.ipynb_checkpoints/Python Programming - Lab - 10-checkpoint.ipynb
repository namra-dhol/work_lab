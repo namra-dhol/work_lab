{
 "cells": [
  {
   "cell_type": "markdown",
   "metadata": {},
   "source": [
    "<a href='https://www.darshan.ac.in/'> <img src='https://www.darshan.ac.in/Content/media/DU_Logo.svg' width=\"250\" height=\"300\"/></a>\n",
    "<pre>\n",
    "<center><b><h1>Python Programming - 2301CS404</b></center>\n",
    "<center><b><h1>Lab - 10</b></center>    \n",
    "<pre>"
   ]
  },
  {
   "cell_type": "markdown",
   "metadata": {},
   "source": [
    "# Exception Handling"
   ]
  },
  {
   "cell_type": "markdown",
   "metadata": {},
   "source": [
    "### 01) WAP to handle following exceptions:\n",
    "1. ZeroDivisionError\n",
    "2. ValueError\n",
    "3. TypeError\n",
    "#### Note: handle them using separate except blocks and also using single except block too."
   ]
  },
  {
   "cell_type": "code",
   "execution_count": 34,
   "metadata": {},
   "outputs": [
    {
     "name": "stdin",
     "output_type": "stream",
     "text": [
      "Enter the numerator:  10\n",
      "Enter the denominator:  5\n"
     ]
    },
    {
     "name": "stdout",
     "output_type": "stream",
     "text": [
      "2.0\n",
      "TypeError\n"
     ]
    }
   ],
   "source": [
    "    try:\n",
    "      \n",
    "        n1 = int(input(\"Enter the numerator: \"))\n",
    "        n2 = int(input(\"Enter the denominator: \"))\n",
    "        print(n1/n2)\n",
    "        \n",
    "    \n",
    "        result_add = n1 + \"5\"\n",
    "        print(f\"Result of addition: {result_add}\")\n",
    "    \n",
    "    except ZeroDivisionError:\n",
    "        print(\"ZeroDivisionError\")\n",
    "    except ValueError:\n",
    "        print(\"ValueError\")\n",
    "    except TypeError:\n",
    "        print(\"TypeError\")\n",
    "    \n",
    "\n",
    "    except (ZeroDivisionError, ValueError, TypeError) as e:\n",
    "        print(f\"An error occurred: {e}\")\n"
   ]
  },
  {
   "cell_type": "markdown",
   "metadata": {},
   "source": [
    "### 02)  WAP to handle following exceptions:\n",
    "1. IndexError\n",
    "2. KeyError"
   ]
  },
  {
   "cell_type": "code",
   "execution_count": 51,
   "metadata": {},
   "outputs": [
    {
     "name": "stdout",
     "output_type": "stream",
     "text": [
      "<class 'list'>\n",
      "2\n",
      "An error occurred: 3\n"
     ]
    }
   ],
   "source": [
    "try:\n",
    "    list = [1,2,3,3,4,5,9]\n",
    "    print(type(list))\n",
    "    print(list[1])\n",
    "    d1 = {1:\"asdf\",2:\"asdfg\"}\n",
    "    print(d1[3])\n",
    "# except IndexError:\n",
    "#     print(\"IndexError\")\n",
    "# except KeyError:\n",
    "#     print(\"KeyError\")\n",
    "except (IndexError, KeyError) as e:\n",
    "        print(f\"An error occurred: {e}\")"
   ]
  },
  {
   "cell_type": "markdown",
   "metadata": {},
   "source": [
    "### 03) WAP to handle following exceptions:\n",
    "1. FileNotFoundError\n",
    "2. ModuleNotFoundError"
   ]
  },
  {
   "cell_type": "code",
   "execution_count": 60,
   "metadata": {},
   "outputs": [
    {
     "name": "stdout",
     "output_type": "stream",
     "text": [
      "module not found\n"
     ]
    }
   ],
   "source": [
    "try:\n",
    "    # fp = open(\"abc.txt\",\"r\")\n",
    "    # print(fp.read())\n",
    "    # fp.close()\n",
    "    import asdfghjkl\n",
    "except FileNotFoundError:\n",
    "    print(\"fileNotFound\")\n",
    "except ModuleNotFoundError:\n",
    "    print(\"module not found\")"
   ]
  },
  {
   "cell_type": "markdown",
   "metadata": {},
   "source": [
    "### 04) WAP that catches all type of exceptions in a single except block."
   ]
  },
  {
   "cell_type": "code",
   "execution_count": 67,
   "metadata": {},
   "outputs": [
    {
     "name": "stdout",
     "output_type": "stream",
     "text": [
      "[Errno 2] No such file or directory: 'abc.txt'\n"
     ]
    }
   ],
   "source": [
    "try:\n",
    "    fp = open(\"abc.txt\",\"r\")\n",
    "    print(fp.read())\n",
    "    fp.close()\n",
    "except Exception as err:\n",
    "    print(err) "
   ]
  },
  {
   "cell_type": "markdown",
   "metadata": {},
   "source": [
    "### 05) WAP to demonstrate else  and finally block."
   ]
  },
  {
   "cell_type": "code",
   "execution_count": 87,
   "metadata": {},
   "outputs": [
    {
     "name": "stdout",
     "output_type": "stream",
     "text": [
      "\n",
      "else block excuted\n",
      "finally block excuated\n"
     ]
    }
   ],
   "source": [
    "try:\n",
    "    fp = open(\"abc.txt\",\"r\")\n",
    "    print(fp.read())\n",
    "    fp.close()\n",
    "except Exception as err:\n",
    "    print(err)\n",
    "else:\n",
    "    print(\"else block excuted\")\n",
    "finally:\n",
    "    print(\"finally block excuated\")"
   ]
  },
  {
   "cell_type": "markdown",
   "metadata": {},
   "source": [
    "### 06) Create a short program that prompts the user for a list of grades separated by commas. \n",
    "### Split the string into individual grades and use a list comprehension to convert each string to an integer. \n",
    "### You should use a try statement to inform the user when the values they entered cannot be converted."
   ]
  },
  {
   "cell_type": "code",
   "execution_count": 107,
   "metadata": {},
   "outputs": [
    {
     "name": "stdin",
     "output_type": "stream",
     "text": [
      "Enter a list of grades separated by commas:  1gffgy\n"
     ]
    },
    {
     "name": "stdout",
     "output_type": "stream",
     "text": [
      "ValueError\n"
     ]
    }
   ],
   "source": [
    "\n",
    "    grade_input = input(\"Enter a list of grades separated by commas: \")\n",
    "    \n",
    "    try:\n",
    "        grade_strings = grade_input.split(\",\")\n",
    "        \n",
    "        grades = [int(grade.strip()) for grade in grade_strings]\n",
    "        \n",
    "        print(\"Grades entered:\", grades)\n",
    "    \n",
    "    except ValueError:\n",
    "        print(\"ValueError\")\n",
    "\n",
    "\n"
   ]
  },
  {
   "cell_type": "markdown",
   "metadata": {},
   "source": [
    "### 07) WAP to create an udf divide(a,b) that handles ZeroDivisionError."
   ]
  },
  {
   "cell_type": "code",
   "execution_count": 99,
   "metadata": {},
   "outputs": [
    {
     "name": "stdout",
     "output_type": "stream",
     "text": [
      "Error accurd : division by zero\n"
     ]
    }
   ],
   "source": [
    "def Divide(a,b):\n",
    "    try:\n",
    "        print(a/b)\n",
    "    except Exception as error:\n",
    "        print(\"Error accurd :\",error)\n",
    "\n",
    "Divide(5,0)"
   ]
  },
  {
   "cell_type": "markdown",
   "metadata": {},
   "source": [
    "### 08) WAP that gets an age of a person form the user and raises ValueError with error message: \"Enter Valid Age\" :\n",
    "#### If the age is less than 18. \n",
    "#### otherwise print the age."
   ]
  },
  {
   "cell_type": "code",
   "execution_count": 142,
   "metadata": {},
   "outputs": [
    {
     "name": "stdin",
     "output_type": "stream",
     "text": [
      "Enter a list of grades separated by commas:  10\n"
     ]
    },
    {
     "name": "stdout",
     "output_type": "stream",
     "text": [
      "ValueError\n"
     ]
    }
   ],
   "source": [
    " try:\n",
    "     age = int(input(\"Enter a list of grades separated by commas: \"))\n",
    "     if(age > 18):\n",
    "         print(age)\n",
    "     else:\n",
    "         raise ValueError\n",
    " except ValueError:\n",
    "                print(\"ValueError\")\n",
    "     \n",
    "\n",
    "\n"
   ]
  },
  {
   "cell_type": "markdown",
   "metadata": {},
   "source": [
    "### 09) WAP to raise your custom Exception named InvalidUsernameError with the error message : \"Username must be between 5 and 15 characters long\":\n",
    "#### if the given name is having characters less than 5 or greater than 15.\n",
    "#### otherwise print the given username."
   ]
  },
  {
   "cell_type": "code",
   "execution_count": 182,
   "metadata": {},
   "outputs": [
    {
     "name": "stdin",
     "output_type": "stream",
     "text": [
      "enter a user name :; as\n"
     ]
    },
    {
     "name": "stdout",
     "output_type": "stream",
     "text": [
      "abcd\n"
     ]
    }
   ],
   "source": [
    "try:\n",
    "    s1 = input(\"enter a user name :;\")\n",
    "    if(len(s1) >= 5  and len(s1) <=15):\n",
    "        print(s1)\n",
    "    else:\n",
    "        raise ValueError(\"abcd\")\n",
    "except ValueError as err:\n",
    "    print(err)"
   ]
  },
  {
   "cell_type": "markdown",
   "metadata": {},
   "source": [
    "### 10) WAP to raise your custom Exception named NegativeNumberError with the error message : \"Cannot calculate the square root of a negative number\" :\n",
    "#### if the given number is negative.\n",
    "#### otherwise print the square root of the given number."
   ]
  },
  {
   "cell_type": "code",
   "execution_count": 172,
   "metadata": {},
   "outputs": [
    {
     "name": "stdin",
     "output_type": "stream",
     "text": [
      "Enter a number:  -5\n"
     ]
    },
    {
     "name": "stdout",
     "output_type": "stream",
     "text": [
      "Error: Cannot calculate the square root of a negative number\n"
     ]
    }
   ],
   "source": [
    "\n",
    "import math\n",
    "\n",
    "class NegativeNumberError(Exception):\n",
    "    def __init__(self, message=\"Cannot calculate the square root of a negative number\"):\n",
    "        self.message = message\n",
    "        super().__init__(self.message)\n",
    "\n",
    "def calculate_square_root(number):\n",
    "    if number < 0:\n",
    "        raise NegativeNumberError()\n",
    "    print(f\"Square root: {math.sqrt(number)}\")\n",
    "\n",
    "try:\n",
    "    number = float(input(\"Enter a number: \"))\n",
    "    calculate_square_root(number)\n",
    "except NegativeNumberError as e:\n",
    "    print(f\"Error: {e}\")\n",
    "\n"
   ]
  },
  {
   "cell_type": "code",
   "execution_count": null,
   "metadata": {},
   "outputs": [],
   "source": []
  }
 ],
 "metadata": {
  "kernelspec": {
   "display_name": "Python 3 (ipykernel)",
   "language": "python",
   "name": "python3"
  },
  "language_info": {
   "codemirror_mode": {
    "name": "ipython",
    "version": 3
   },
   "file_extension": ".py",
   "mimetype": "text/x-python",
   "name": "python",
   "nbconvert_exporter": "python",
   "pygments_lexer": "ipython3",
   "version": "3.12.7"
  }
 },
 "nbformat": 4,
 "nbformat_minor": 4
}
