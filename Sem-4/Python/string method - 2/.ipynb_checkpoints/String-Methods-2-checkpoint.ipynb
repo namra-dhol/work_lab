{
 "cells": [
  {
   "cell_type": "markdown",
   "id": "64fa3603-2cff-4fd2-a1cb-3df4f1736a20",
   "metadata": {},
   "source": [
    "## capitalize(), upper(), lower(), title(), swapcase()"
   ]
  },
  {
   "cell_type": "code",
   "execution_count": 2,
   "id": "e40b2faa-7d4f-4013-b493-3efe8e490cba",
   "metadata": {},
   "outputs": [],
   "source": [
    "s = 'hello students'"
   ]
  },
  {
   "cell_type": "code",
   "execution_count": 3,
   "id": "d4d83488-eda1-4cbd-9ca9-e30e30d695a5",
   "metadata": {},
   "outputs": [
    {
     "data": {
      "text/plain": [
       "'Hello students'"
      ]
     },
     "execution_count": 3,
     "metadata": {},
     "output_type": "execute_result"
    }
   ],
   "source": [
    "s.capitalize()"
   ]
  },
  {
   "cell_type": "code",
   "execution_count": 6,
   "id": "2af961dd-21df-4e61-aec3-b3790d60c816",
   "metadata": {},
   "outputs": [
    {
     "data": {
      "text/plain": [
       "'HELLO STUDENTS'"
      ]
     },
     "execution_count": 6,
     "metadata": {},
     "output_type": "execute_result"
    }
   ],
   "source": [
    "s.upper()"
   ]
  },
  {
   "cell_type": "code",
   "execution_count": 8,
   "id": "eba9cce5-0ddd-4c65-9cce-22f8fbe7d946",
   "metadata": {},
   "outputs": [
    {
     "data": {
      "text/plain": [
       "'hello students'"
      ]
     },
     "execution_count": 8,
     "metadata": {},
     "output_type": "execute_result"
    }
   ],
   "source": [
    "s.lower()"
   ]
  },
  {
   "cell_type": "code",
   "execution_count": 10,
   "id": "10ddfafa-2513-4a5f-a472-8f032ecf9c7a",
   "metadata": {},
   "outputs": [
    {
     "data": {
      "text/plain": [
       "'Hello Students'"
      ]
     },
     "execution_count": 10,
     "metadata": {},
     "output_type": "execute_result"
    }
   ],
   "source": [
    "s.title()"
   ]
  },
  {
   "cell_type": "code",
   "execution_count": 12,
   "id": "c69f03ec-9081-447e-8ea1-dd214cf3f197",
   "metadata": {},
   "outputs": [
    {
     "data": {
      "text/plain": [
       "'HELLO STUDENTS'"
      ]
     },
     "execution_count": 12,
     "metadata": {},
     "output_type": "execute_result"
    }
   ],
   "source": [
    "s.swapcase()"
   ]
  },
  {
   "cell_type": "markdown",
   "id": "82a4e4a6-8c34-45e8-90af-ab06ddfb5b7c",
   "metadata": {},
   "source": [
    "## isupper(), islower(), istitle()"
   ]
  },
  {
   "cell_type": "code",
   "execution_count": 15,
   "id": "5605cca8-a9cd-463c-a057-981b189086ac",
   "metadata": {},
   "outputs": [],
   "source": [
    "s = 'HELLO'"
   ]
  },
  {
   "cell_type": "code",
   "execution_count": 17,
   "id": "795ceeb3-2295-4263-aea8-70bc8112df46",
   "metadata": {},
   "outputs": [
    {
     "data": {
      "text/plain": [
       "True"
      ]
     },
     "execution_count": 17,
     "metadata": {},
     "output_type": "execute_result"
    }
   ],
   "source": [
    "s.isupper()"
   ]
  },
  {
   "cell_type": "code",
   "execution_count": 19,
   "id": "543bbe3e-d92d-41cf-95d1-4411265503dd",
   "metadata": {},
   "outputs": [
    {
     "data": {
      "text/plain": [
       "False"
      ]
     },
     "execution_count": 19,
     "metadata": {},
     "output_type": "execute_result"
    }
   ],
   "source": [
    "s.islower()"
   ]
  },
  {
   "cell_type": "code",
   "execution_count": 21,
   "id": "9ce0c877-3594-4460-a7e7-b2cfa5a3e4f4",
   "metadata": {},
   "outputs": [
    {
     "data": {
      "text/plain": [
       "False"
      ]
     },
     "execution_count": 21,
     "metadata": {},
     "output_type": "execute_result"
    }
   ],
   "source": [
    "s.istitle()"
   ]
  },
  {
   "cell_type": "code",
   "execution_count": 23,
   "id": "78b766ad-73d0-4e34-8599-51d1f8e02a22",
   "metadata": {},
   "outputs": [],
   "source": [
    "s = ''"
   ]
  },
  {
   "cell_type": "code",
   "execution_count": 25,
   "id": "398e5aca-d58f-4280-a666-b244e6d5fa43",
   "metadata": {},
   "outputs": [
    {
     "data": {
      "text/plain": [
       "False"
      ]
     },
     "execution_count": 25,
     "metadata": {},
     "output_type": "execute_result"
    }
   ],
   "source": [
    "s.istitle()"
   ]
  },
  {
   "cell_type": "code",
   "execution_count": 27,
   "id": "6d3c9eb1-fbd3-4918-9546-2f76d7c7d508",
   "metadata": {},
   "outputs": [
    {
     "data": {
      "text/plain": [
       "False"
      ]
     },
     "execution_count": 27,
     "metadata": {},
     "output_type": "execute_result"
    }
   ],
   "source": [
    "s.isupper()"
   ]
  },
  {
   "cell_type": "code",
   "execution_count": null,
   "id": "eeb9b7ac-9cbf-49ec-8178-8d5747f0b215",
   "metadata": {},
   "outputs": [],
   "source": []
  },
  {
   "cell_type": "markdown",
   "id": "6ea377c9-9bcf-4aea-822d-42c4fb77a32e",
   "metadata": {},
   "source": [
    "## isalnum(), isalpha(), isascii()"
   ]
  },
  {
   "cell_type": "code",
   "execution_count": 31,
   "id": "43e7c3b0-deee-40cc-b7e3-44f5ecfc5222",
   "metadata": {},
   "outputs": [],
   "source": [
    "s ='abcz123'"
   ]
  },
  {
   "cell_type": "code",
   "execution_count": 33,
   "id": "b27118ce-b0a9-474d-ad64-0a1e8cc64bf7",
   "metadata": {},
   "outputs": [
    {
     "data": {
      "text/plain": [
       "True"
      ]
     },
     "execution_count": 33,
     "metadata": {},
     "output_type": "execute_result"
    }
   ],
   "source": [
    "s.isalnum()"
   ]
  },
  {
   "cell_type": "code",
   "execution_count": 35,
   "id": "b0d94da7-bbf1-4ea1-8dbc-539c8251f6d4",
   "metadata": {},
   "outputs": [],
   "source": [
    "s = 'abc#s'"
   ]
  },
  {
   "cell_type": "code",
   "execution_count": 37,
   "id": "19e017c4-1632-4cf9-835e-05ba51ff239c",
   "metadata": {},
   "outputs": [
    {
     "data": {
      "text/plain": [
       "False"
      ]
     },
     "execution_count": 37,
     "metadata": {},
     "output_type": "execute_result"
    }
   ],
   "source": [
    "s.isalnum()"
   ]
  },
  {
   "cell_type": "code",
   "execution_count": 39,
   "id": "14a21c00-f2c8-422a-a1dc-8c1a6cd542db",
   "metadata": {},
   "outputs": [],
   "source": [
    "s = '123'"
   ]
  },
  {
   "cell_type": "code",
   "execution_count": 41,
   "id": "d2f12bc9-a8bd-4c4f-95bc-8a7173f0a3ae",
   "metadata": {},
   "outputs": [
    {
     "data": {
      "text/plain": [
       "True"
      ]
     },
     "execution_count": 41,
     "metadata": {},
     "output_type": "execute_result"
    }
   ],
   "source": [
    "s.isalnum()"
   ]
  },
  {
   "cell_type": "code",
   "execution_count": 47,
   "id": "dc5304c8-df40-4f0f-bf62-6d665a1f9220",
   "metadata": {},
   "outputs": [],
   "source": [
    "s = '\\u03b1\\u03b2\\u03b3' #alpha-beta-gama in greek language"
   ]
  },
  {
   "cell_type": "code",
   "execution_count": 49,
   "id": "b5e74a7a-3d2d-412c-a4a9-67040460bfd6",
   "metadata": {},
   "outputs": [
    {
     "data": {
      "text/plain": [
       "'αβγ'"
      ]
     },
     "execution_count": 49,
     "metadata": {},
     "output_type": "execute_result"
    }
   ],
   "source": [
    "s"
   ]
  },
  {
   "cell_type": "code",
   "execution_count": 51,
   "id": "6b9865c9-4142-4a50-a421-e3fd2377b186",
   "metadata": {},
   "outputs": [
    {
     "data": {
      "text/plain": [
       "True"
      ]
     },
     "execution_count": 51,
     "metadata": {},
     "output_type": "execute_result"
    }
   ],
   "source": [
    "s.isalnum()"
   ]
  },
  {
   "cell_type": "code",
   "execution_count": 53,
   "id": "70c3e24c-8b94-4a4a-a0ed-76691dec4227",
   "metadata": {},
   "outputs": [
    {
     "data": {
      "text/plain": [
       "True"
      ]
     },
     "execution_count": 53,
     "metadata": {},
     "output_type": "execute_result"
    }
   ],
   "source": [
    "s.isalpha()"
   ]
  },
  {
   "cell_type": "code",
   "execution_count": 55,
   "id": "df997660-dade-4e92-a98b-e53f33229645",
   "metadata": {},
   "outputs": [
    {
     "data": {
      "text/plain": [
       "False"
      ]
     },
     "execution_count": 55,
     "metadata": {},
     "output_type": "execute_result"
    }
   ],
   "source": [
    "s.isascii()"
   ]
  },
  {
   "cell_type": "code",
   "execution_count": 57,
   "id": "d3640518-3e82-41bb-9928-a65470efd5d7",
   "metadata": {},
   "outputs": [],
   "source": [
    "s = '\\u0AE7\\u0AE8\\u0ae9'  #unicodes for gujrati 1 - 2 - 3"
   ]
  },
  {
   "cell_type": "code",
   "execution_count": 59,
   "id": "99bdf9da-20bf-43c9-bab3-ea6be60f88f2",
   "metadata": {},
   "outputs": [
    {
     "data": {
      "text/plain": [
       "'૧૨૩'"
      ]
     },
     "execution_count": 59,
     "metadata": {},
     "output_type": "execute_result"
    }
   ],
   "source": [
    "s"
   ]
  },
  {
   "cell_type": "code",
   "execution_count": 61,
   "id": "83d05349-3844-4011-bedd-a55137968c97",
   "metadata": {},
   "outputs": [
    {
     "data": {
      "text/plain": [
       "True"
      ]
     },
     "execution_count": 61,
     "metadata": {},
     "output_type": "execute_result"
    }
   ],
   "source": [
    "s.isalnum()"
   ]
  },
  {
   "cell_type": "code",
   "execution_count": 63,
   "id": "733069f2-0083-49d3-bd17-264cf6c47f80",
   "metadata": {},
   "outputs": [
    {
     "data": {
      "text/plain": [
       "False"
      ]
     },
     "execution_count": 63,
     "metadata": {},
     "output_type": "execute_result"
    }
   ],
   "source": [
    "s.isalpha()"
   ]
  },
  {
   "cell_type": "code",
   "execution_count": 65,
   "id": "0275c567-b4c7-48b2-bc82-d81730e08b57",
   "metadata": {},
   "outputs": [
    {
     "data": {
      "text/plain": [
       "False"
      ]
     },
     "execution_count": 65,
     "metadata": {},
     "output_type": "execute_result"
    }
   ],
   "source": [
    "s.isascii()"
   ]
  },
  {
   "cell_type": "markdown",
   "id": "c75fcb2f-f02d-476a-a882-5336e5242b95",
   "metadata": {},
   "source": [
    "## isidentifier()"
   ]
  },
  {
   "cell_type": "code",
   "execution_count": 68,
   "id": "0c81b925-6d1e-4b51-a8d0-bda100a088fa",
   "metadata": {},
   "outputs": [],
   "source": [
    "s = 'length'"
   ]
  },
  {
   "cell_type": "code",
   "execution_count": 70,
   "id": "559ea862-2a3d-4ba1-b4d4-af43f6de4e81",
   "metadata": {},
   "outputs": [
    {
     "data": {
      "text/plain": [
       "True"
      ]
     },
     "execution_count": 70,
     "metadata": {},
     "output_type": "execute_result"
    }
   ],
   "source": [
    "s.isidentifier()"
   ]
  },
  {
   "cell_type": "code",
   "execution_count": 72,
   "id": "5b2377a1-a7e6-47e3-8b79-ae3a9c8c393b",
   "metadata": {},
   "outputs": [],
   "source": [
    "s = '1length'"
   ]
  },
  {
   "cell_type": "code",
   "execution_count": 74,
   "id": "1aa4b42a-0eb3-4ba7-8fd9-7c34bdecae94",
   "metadata": {},
   "outputs": [
    {
     "data": {
      "text/plain": [
       "False"
      ]
     },
     "execution_count": 74,
     "metadata": {},
     "output_type": "execute_result"
    }
   ],
   "source": [
    "s.isidentifier()"
   ]
  },
  {
   "cell_type": "code",
   "execution_count": 76,
   "id": "cfee9a58-3608-41f5-9a58-17d01fbc05ea",
   "metadata": {},
   "outputs": [],
   "source": [
    "s = 'length#'"
   ]
  },
  {
   "cell_type": "code",
   "execution_count": 78,
   "id": "e6033281-8cab-4249-bec9-4dec9b9735c0",
   "metadata": {},
   "outputs": [
    {
     "data": {
      "text/plain": [
       "False"
      ]
     },
     "execution_count": 78,
     "metadata": {},
     "output_type": "execute_result"
    }
   ],
   "source": [
    "s.isidentifier()"
   ]
  },
  {
   "cell_type": "code",
   "execution_count": 80,
   "id": "64cb1dc7-8dbc-415d-bb91-560dc1a1941d",
   "metadata": {},
   "outputs": [],
   "source": [
    "s = 'if'"
   ]
  },
  {
   "cell_type": "code",
   "execution_count": 82,
   "id": "629a1c89-2173-4577-9f66-84033e83e158",
   "metadata": {},
   "outputs": [
    {
     "data": {
      "text/plain": [
       "True"
      ]
     },
     "execution_count": 82,
     "metadata": {},
     "output_type": "execute_result"
    }
   ],
   "source": [
    "s.isidentifier()"
   ]
  },
  {
   "cell_type": "markdown",
   "id": "01685b87-9d7c-4b31-94b6-0747f7db0774",
   "metadata": {},
   "source": [
    "## isdecimal(), isdigit() and isnumeric()"
   ]
  },
  {
   "cell_type": "code",
   "execution_count": 85,
   "id": "084e0cc1-f8ad-4a13-b1d9-dfb96181e261",
   "metadata": {},
   "outputs": [],
   "source": [
    "s = '123'"
   ]
  },
  {
   "cell_type": "code",
   "execution_count": 87,
   "id": "6e3e4b94-9696-4c71-aaf6-289c18ad6f34",
   "metadata": {},
   "outputs": [
    {
     "data": {
      "text/plain": [
       "True"
      ]
     },
     "execution_count": 87,
     "metadata": {},
     "output_type": "execute_result"
    }
   ],
   "source": [
    "s.isdecimal()"
   ]
  },
  {
   "cell_type": "code",
   "execution_count": 89,
   "id": "3e72a715-ac51-4d7f-84a7-2345ad7bc6bb",
   "metadata": {},
   "outputs": [],
   "source": [
    "s = '123.5'"
   ]
  },
  {
   "cell_type": "code",
   "execution_count": 91,
   "id": "deab3542-73da-4f9c-baed-099c09a79032",
   "metadata": {},
   "outputs": [
    {
     "data": {
      "text/plain": [
       "False"
      ]
     },
     "execution_count": 91,
     "metadata": {},
     "output_type": "execute_result"
    }
   ],
   "source": [
    "s.isdecimal()"
   ]
  },
  {
   "cell_type": "code",
   "execution_count": 93,
   "id": "f0ef1925-3252-4ab2-ae14-d78a71309e25",
   "metadata": {},
   "outputs": [],
   "source": [
    "s = '\\u0AE7\\u0AE8\\u0ae9'  #unicodes for gujrati 1 - 2 - 3"
   ]
  },
  {
   "cell_type": "code",
   "execution_count": 95,
   "id": "60ddc72c-157d-4676-b6c6-6bb371c3351c",
   "metadata": {},
   "outputs": [
    {
     "data": {
      "text/plain": [
       "'૧૨૩'"
      ]
     },
     "execution_count": 95,
     "metadata": {},
     "output_type": "execute_result"
    }
   ],
   "source": [
    "s"
   ]
  },
  {
   "cell_type": "code",
   "execution_count": 97,
   "id": "72a6bc97-2f76-4081-ad23-4f44c8f0136b",
   "metadata": {},
   "outputs": [
    {
     "data": {
      "text/plain": [
       "True"
      ]
     },
     "execution_count": 97,
     "metadata": {},
     "output_type": "execute_result"
    }
   ],
   "source": [
    "s.isdecimal()"
   ]
  },
  {
   "cell_type": "code",
   "execution_count": 99,
   "id": "3ca1d404-f8f6-447d-b006-33819d97a879",
   "metadata": {},
   "outputs": [],
   "source": [
    "s = '\\u0AE7\\u0AE8\\u0ae9.\\u0ae9'"
   ]
  },
  {
   "cell_type": "code",
   "execution_count": 101,
   "id": "3bf473d2-03b8-49e7-998d-eb902504b97f",
   "metadata": {},
   "outputs": [
    {
     "data": {
      "text/plain": [
       "'૧૨૩.૩'"
      ]
     },
     "execution_count": 101,
     "metadata": {},
     "output_type": "execute_result"
    }
   ],
   "source": [
    "s"
   ]
  },
  {
   "cell_type": "code",
   "execution_count": 103,
   "id": "445691f8-0713-4aa0-886f-aeb59bb830e5",
   "metadata": {},
   "outputs": [
    {
     "data": {
      "text/plain": [
       "False"
      ]
     },
     "execution_count": 103,
     "metadata": {},
     "output_type": "execute_result"
    }
   ],
   "source": [
    "s.isdecimal()"
   ]
  },
  {
   "cell_type": "code",
   "execution_count": 105,
   "id": "aa515ed5-257b-4e92-a566-0834f29be586",
   "metadata": {},
   "outputs": [],
   "source": [
    "s = '162\\u00B2'  # unicodes for superscript 2"
   ]
  },
  {
   "cell_type": "code",
   "execution_count": 107,
   "id": "597d37e1-b587-47bd-8331-015a93c06f33",
   "metadata": {},
   "outputs": [
    {
     "data": {
      "text/plain": [
       "'162²'"
      ]
     },
     "execution_count": 107,
     "metadata": {},
     "output_type": "execute_result"
    }
   ],
   "source": [
    "s"
   ]
  },
  {
   "cell_type": "code",
   "execution_count": 109,
   "id": "89b2d40a-8954-4005-8587-991d7dec7193",
   "metadata": {},
   "outputs": [
    {
     "data": {
      "text/plain": [
       "False"
      ]
     },
     "execution_count": 109,
     "metadata": {},
     "output_type": "execute_result"
    }
   ],
   "source": [
    "s.isdecimal()"
   ]
  },
  {
   "cell_type": "code",
   "execution_count": 111,
   "id": "dd68fa74-2157-4567-9e52-1a749309c6a8",
   "metadata": {},
   "outputs": [
    {
     "data": {
      "text/plain": [
       "True"
      ]
     },
     "execution_count": 111,
     "metadata": {},
     "output_type": "execute_result"
    }
   ],
   "source": [
    "s.isdigit()"
   ]
  },
  {
   "cell_type": "code",
   "execution_count": 113,
   "id": "eccbe286-e4f9-4750-b32d-dc062c01ce94",
   "metadata": {},
   "outputs": [],
   "source": [
    "s = '5\\u00BD'  # unicode for 1/2 superscript"
   ]
  },
  {
   "cell_type": "code",
   "execution_count": 115,
   "id": "439bd0a0-4ca4-4304-b6dd-3c5c1a740ffe",
   "metadata": {},
   "outputs": [
    {
     "data": {
      "text/plain": [
       "'5½'"
      ]
     },
     "execution_count": 115,
     "metadata": {},
     "output_type": "execute_result"
    }
   ],
   "source": [
    "s"
   ]
  },
  {
   "cell_type": "code",
   "execution_count": 117,
   "id": "46f89251-38fa-499c-931c-66e1e83e24f8",
   "metadata": {},
   "outputs": [
    {
     "data": {
      "text/plain": [
       "False"
      ]
     },
     "execution_count": 117,
     "metadata": {},
     "output_type": "execute_result"
    }
   ],
   "source": [
    "s.isdecimal()"
   ]
  },
  {
   "cell_type": "code",
   "execution_count": 119,
   "id": "26b141c9-091b-4a40-acef-86160a376718",
   "metadata": {},
   "outputs": [
    {
     "data": {
      "text/plain": [
       "False"
      ]
     },
     "execution_count": 119,
     "metadata": {},
     "output_type": "execute_result"
    }
   ],
   "source": [
    "s.isdigit()"
   ]
  },
  {
   "cell_type": "code",
   "execution_count": 121,
   "id": "9583e485-ba49-49e4-b3a7-e91dacff4ad7",
   "metadata": {},
   "outputs": [
    {
     "data": {
      "text/plain": [
       "True"
      ]
     },
     "execution_count": 121,
     "metadata": {},
     "output_type": "execute_result"
    }
   ],
   "source": [
    "s.isnumeric()"
   ]
  },
  {
   "cell_type": "code",
   "execution_count": 123,
   "id": "044351f4-8a9a-4c31-8afd-e0f0fe52fab8",
   "metadata": {},
   "outputs": [],
   "source": [
    "s = '\\u0661\\u0662\\u0663' #unicodes for arabic 1 - 2- 3"
   ]
  },
  {
   "cell_type": "code",
   "execution_count": 125,
   "id": "618cf4f5-7be8-492c-bb22-d2c426213d2c",
   "metadata": {},
   "outputs": [
    {
     "data": {
      "text/plain": [
       "'١٢٣'"
      ]
     },
     "execution_count": 125,
     "metadata": {},
     "output_type": "execute_result"
    }
   ],
   "source": [
    "s"
   ]
  },
  {
   "cell_type": "code",
   "execution_count": 127,
   "id": "298f2f3b-e99f-4e8a-9bc0-33fe27bb5acc",
   "metadata": {},
   "outputs": [
    {
     "data": {
      "text/plain": [
       "True"
      ]
     },
     "execution_count": 127,
     "metadata": {},
     "output_type": "execute_result"
    }
   ],
   "source": [
    "s.isdecimal()"
   ]
  },
  {
   "cell_type": "code",
   "execution_count": 129,
   "id": "de4570a5-684a-4705-83c0-83fc95b4b31c",
   "metadata": {},
   "outputs": [
    {
     "data": {
      "text/plain": [
       "True"
      ]
     },
     "execution_count": 129,
     "metadata": {},
     "output_type": "execute_result"
    }
   ],
   "source": [
    "s.isdigit()"
   ]
  },
  {
   "cell_type": "code",
   "execution_count": 131,
   "id": "ecd508e5-c707-47a4-aaa9-4287bb560fdc",
   "metadata": {},
   "outputs": [
    {
     "data": {
      "text/plain": [
       "True"
      ]
     },
     "execution_count": 131,
     "metadata": {},
     "output_type": "execute_result"
    }
   ],
   "source": [
    "s.isnumeric()"
   ]
  },
  {
   "cell_type": "markdown",
   "id": "eda37a95-0a29-4578-9193-1347985d2553",
   "metadata": {},
   "source": [
    "## startswith(), endswith(), removesuffix(), removeprefix(), partition(), rpartition()"
   ]
  },
  {
   "cell_type": "code",
   "execution_count": 134,
   "id": "1d47501c-0243-4651-9b60-29edc0a55533",
   "metadata": {},
   "outputs": [],
   "source": [
    "s = 'python is very easy'"
   ]
  },
  {
   "cell_type": "code",
   "execution_count": 136,
   "id": "7e938109-5a6c-48a0-85c9-51f3b8ec2575",
   "metadata": {},
   "outputs": [
    {
     "data": {
      "text/plain": [
       "True"
      ]
     },
     "execution_count": 136,
     "metadata": {},
     "output_type": "execute_result"
    }
   ],
   "source": [
    "s.startswith('python')"
   ]
  },
  {
   "cell_type": "code",
   "execution_count": 138,
   "id": "63a34a48-8f02-4ce0-adec-012c3cabdef1",
   "metadata": {},
   "outputs": [
    {
     "data": {
      "text/plain": [
       "True"
      ]
     },
     "execution_count": 138,
     "metadata": {},
     "output_type": "execute_result"
    }
   ],
   "source": [
    "s.startswith('py')"
   ]
  },
  {
   "cell_type": "code",
   "execution_count": 140,
   "id": "f8cd7c68-1597-4057-b0b7-4d03a93a2adf",
   "metadata": {},
   "outputs": [
    {
     "data": {
      "text/plain": [
       "False"
      ]
     },
     "execution_count": 140,
     "metadata": {},
     "output_type": "execute_result"
    }
   ],
   "source": [
    "s.startswith('is')"
   ]
  },
  {
   "cell_type": "code",
   "execution_count": 142,
   "id": "4a271859-3d47-4d17-86d2-f6b8d65d19b9",
   "metadata": {},
   "outputs": [
    {
     "data": {
      "text/plain": [
       "True"
      ]
     },
     "execution_count": 142,
     "metadata": {},
     "output_type": "execute_result"
    }
   ],
   "source": [
    "s.startswith('is',7)"
   ]
  },
  {
   "cell_type": "code",
   "execution_count": 144,
   "id": "3d2b25f8-5a20-4c0d-b953-12e5fc656694",
   "metadata": {},
   "outputs": [
    {
     "data": {
      "text/plain": [
       "True"
      ]
     },
     "execution_count": 144,
     "metadata": {},
     "output_type": "execute_result"
    }
   ],
   "source": [
    "s.endswith('easy')"
   ]
  },
  {
   "cell_type": "code",
   "execution_count": 146,
   "id": "86491d42-2c8f-437b-a10f-b559f9d20712",
   "metadata": {},
   "outputs": [
    {
     "data": {
      "text/plain": [
       "False"
      ]
     },
     "execution_count": 146,
     "metadata": {},
     "output_type": "execute_result"
    }
   ],
   "source": [
    "s.endswith('is')"
   ]
  },
  {
   "cell_type": "code",
   "execution_count": 148,
   "id": "d59ffe79-9573-4563-b310-31d242562acf",
   "metadata": {},
   "outputs": [
    {
     "data": {
      "text/plain": [
       "True"
      ]
     },
     "execution_count": 148,
     "metadata": {},
     "output_type": "execute_result"
    }
   ],
   "source": [
    "s.endswith('is',0, 9)"
   ]
  },
  {
   "cell_type": "code",
   "execution_count": 150,
   "id": "571ea4dc-f01d-4a1e-a272-f092135e94a3",
   "metadata": {},
   "outputs": [],
   "source": [
    "s = 'abcd@gmail.com'"
   ]
  },
  {
   "cell_type": "code",
   "execution_count": 152,
   "id": "4d784f1b-94eb-43d8-b911-6fb398a06683",
   "metadata": {},
   "outputs": [
    {
     "data": {
      "text/plain": [
       "True"
      ]
     },
     "execution_count": 152,
     "metadata": {},
     "output_type": "execute_result"
    }
   ],
   "source": [
    "s.endswith('gmail.com')"
   ]
  },
  {
   "cell_type": "code",
   "execution_count": 154,
   "id": "687f5b66-ab63-4fb8-b00f-3423b4d9267c",
   "metadata": {},
   "outputs": [],
   "source": [
    "s = 'python is very easy'"
   ]
  },
  {
   "cell_type": "code",
   "execution_count": 156,
   "id": "8e0ef550-c632-478a-bfa3-e0bcdafffb49",
   "metadata": {},
   "outputs": [
    {
     "data": {
      "text/plain": [
       "'thon is very easy'"
      ]
     },
     "execution_count": 156,
     "metadata": {},
     "output_type": "execute_result"
    }
   ],
   "source": [
    "s.removeprefix('py')"
   ]
  },
  {
   "cell_type": "code",
   "execution_count": 158,
   "id": "ff1cf3b0-3cab-48a4-94a5-ee1bbce84973",
   "metadata": {},
   "outputs": [
    {
     "data": {
      "text/plain": [
       "'python is very easy'"
      ]
     },
     "execution_count": 158,
     "metadata": {},
     "output_type": "execute_result"
    }
   ],
   "source": [
    "s.removeprefix('very')"
   ]
  },
  {
   "cell_type": "code",
   "execution_count": 160,
   "id": "097b4e97-8341-4cc8-8217-23bf2376ca64",
   "metadata": {},
   "outputs": [
    {
     "data": {
      "text/plain": [
       "'python is very ea'"
      ]
     },
     "execution_count": 160,
     "metadata": {},
     "output_type": "execute_result"
    }
   ],
   "source": [
    "s.removesuffix('sy')"
   ]
  },
  {
   "cell_type": "code",
   "execution_count": 162,
   "id": "33c67c1f-78f5-4366-9b1b-360375e20e33",
   "metadata": {},
   "outputs": [
    {
     "data": {
      "text/plain": [
       "'python is very '"
      ]
     },
     "execution_count": 162,
     "metadata": {},
     "output_type": "execute_result"
    }
   ],
   "source": [
    "s.removesuffix('easy')"
   ]
  },
  {
   "cell_type": "code",
   "execution_count": 164,
   "id": "a5c5400c-34c9-4ecc-95a7-b810aa56986e",
   "metadata": {},
   "outputs": [
    {
     "data": {
      "text/plain": [
       "'python is very easy'"
      ]
     },
     "execution_count": 164,
     "metadata": {},
     "output_type": "execute_result"
    }
   ],
   "source": [
    "s.removesuffix('py')"
   ]
  },
  {
   "cell_type": "code",
   "execution_count": 166,
   "id": "e818e1a9-924a-4850-8e9b-7de9e179e3d2",
   "metadata": {},
   "outputs": [],
   "source": [
    "s = 'python is very easy it is very easy'"
   ]
  },
  {
   "cell_type": "code",
   "execution_count": 168,
   "id": "7b5ebc44-edd3-4946-a27e-c34ece9fc1ed",
   "metadata": {},
   "outputs": [
    {
     "data": {
      "text/plain": [
       "('python ', 'is', ' very easy it is very easy')"
      ]
     },
     "execution_count": 168,
     "metadata": {},
     "output_type": "execute_result"
    }
   ],
   "source": [
    "s.partition('is')"
   ]
  },
  {
   "cell_type": "code",
   "execution_count": 170,
   "id": "6fe86bfd-e078-4ca8-a442-f093b84fee75",
   "metadata": {},
   "outputs": [],
   "source": [
    "ps = s.partition('is')"
   ]
  },
  {
   "cell_type": "code",
   "execution_count": 172,
   "id": "40f28450-4a86-44a2-8083-16defa34aba6",
   "metadata": {},
   "outputs": [
    {
     "name": "stdout",
     "output_type": "stream",
     "text": [
      "<class 'tuple'>\n"
     ]
    }
   ],
   "source": [
    "print(type(ps))"
   ]
  },
  {
   "cell_type": "code",
   "execution_count": 174,
   "id": "487d9099-e196-4db2-a54a-7318cebd97ca",
   "metadata": {},
   "outputs": [
    {
     "data": {
      "text/plain": [
       "('python is very easy it ', 'is', ' very easy')"
      ]
     },
     "execution_count": 174,
     "metadata": {},
     "output_type": "execute_result"
    }
   ],
   "source": [
    "s.rpartition('is')"
   ]
  },
  {
   "cell_type": "markdown",
   "id": "ef07a7e9-ca2a-4c9f-a7f9-38f05f7baeaf",
   "metadata": {},
   "source": [
    "## replace()"
   ]
  },
  {
   "cell_type": "code",
   "execution_count": 177,
   "id": "fa6e6dc9-f161-4a2b-888e-485d54b1a558",
   "metadata": {},
   "outputs": [],
   "source": [
    "s = 'a-b-c-d-e'  #with count parameter"
   ]
  },
  {
   "cell_type": "code",
   "execution_count": 179,
   "id": "4a4c1528-10a8-4328-9c2e-a4c81aa94ac3",
   "metadata": {},
   "outputs": [
    {
     "data": {
      "text/plain": [
       "'a,b,c,d,e'"
      ]
     },
     "execution_count": 179,
     "metadata": {},
     "output_type": "execute_result"
    }
   ],
   "source": [
    "s.replace('-',',')"
   ]
  },
  {
   "cell_type": "code",
   "execution_count": 181,
   "id": "abfa5935-fd3b-4f5b-94c0-f5610e5946d8",
   "metadata": {},
   "outputs": [
    {
     "data": {
      "text/plain": [
       "'a,b,c-d-e'"
      ]
     },
     "execution_count": 181,
     "metadata": {},
     "output_type": "execute_result"
    }
   ],
   "source": [
    "s.replace('-',',',2)"
   ]
  },
  {
   "cell_type": "code",
   "execution_count": 183,
   "id": "731e7346-5b3d-40d6-bb4b-93961c642abe",
   "metadata": {},
   "outputs": [
    {
     "data": {
      "text/plain": [
       "'a,b,c,d,e'"
      ]
     },
     "execution_count": 183,
     "metadata": {},
     "output_type": "execute_result"
    }
   ],
   "source": [
    "s.replace('-',',',7)"
   ]
  },
  {
   "cell_type": "markdown",
   "id": "3a60f7d0-aba9-4aab-a1a6-08fe0851d110",
   "metadata": {},
   "source": [
    "## join()"
   ]
  },
  {
   "cell_type": "code",
   "execution_count": 186,
   "id": "e0f2bba8-189f-4e5e-86d8-16100dc94683",
   "metadata": {},
   "outputs": [],
   "source": [
    "s1 = 'xyz'"
   ]
  },
  {
   "cell_type": "code",
   "execution_count": 188,
   "id": "584a64a1-23cb-4001-8b56-e226d47ae035",
   "metadata": {},
   "outputs": [],
   "source": [
    "s2 = 'abc'"
   ]
  },
  {
   "cell_type": "code",
   "execution_count": 190,
   "id": "d2f33e99-ff24-4401-ab27-b5dddfcd5212",
   "metadata": {},
   "outputs": [
    {
     "data": {
      "text/plain": [
       "'axyzbxyzc'"
      ]
     },
     "execution_count": 190,
     "metadata": {},
     "output_type": "execute_result"
    }
   ],
   "source": [
    "s1.join(s2)"
   ]
  },
  {
   "cell_type": "code",
   "execution_count": 192,
   "id": "7e3d09cc-ed9b-48ca-8320-a1b5bccf3fd5",
   "metadata": {},
   "outputs": [],
   "source": [
    "s1 = '  xyz  '"
   ]
  },
  {
   "cell_type": "code",
   "execution_count": 194,
   "id": "a495aa07-700e-4429-9e0f-340c6c7d3b13",
   "metadata": {},
   "outputs": [],
   "source": [
    "s2 = 'abc'"
   ]
  },
  {
   "cell_type": "code",
   "execution_count": 196,
   "id": "9165a07a-3cad-4fe3-8c96-e03c2e6d07aa",
   "metadata": {},
   "outputs": [
    {
     "data": {
      "text/plain": [
       "'a  xyz  b  xyz  c'"
      ]
     },
     "execution_count": 196,
     "metadata": {},
     "output_type": "execute_result"
    }
   ],
   "source": [
    "s1.join(s2)"
   ]
  },
  {
   "cell_type": "code",
   "execution_count": 198,
   "id": "3275f2fa-6ccc-4574-bf23-8a664bfd2683",
   "metadata": {},
   "outputs": [],
   "source": [
    "s1 = ' '"
   ]
  },
  {
   "cell_type": "code",
   "execution_count": 200,
   "id": "b2eeab82-f743-4ebd-a263-c22c67c014f8",
   "metadata": {},
   "outputs": [],
   "source": [
    "s2 = 'abc'"
   ]
  },
  {
   "cell_type": "code",
   "execution_count": 202,
   "id": "2ea5754e-8eab-4c6b-b82b-16fcd3367fe3",
   "metadata": {},
   "outputs": [
    {
     "data": {
      "text/plain": [
       "'a b c'"
      ]
     },
     "execution_count": 202,
     "metadata": {},
     "output_type": "execute_result"
    }
   ],
   "source": [
    "s1.join(s2)"
   ]
  },
  {
   "cell_type": "code",
   "execution_count": 204,
   "id": "49d0b0cc-f8bc-4b88-8ddb-03df1c4627a9",
   "metadata": {},
   "outputs": [
    {
     "data": {
      "text/plain": [
       "'a/b/c'"
      ]
     },
     "execution_count": 204,
     "metadata": {},
     "output_type": "execute_result"
    }
   ],
   "source": [
    "'/'.join(s2)"
   ]
  },
  {
   "cell_type": "code",
   "execution_count": 206,
   "id": "051a27d6-202b-4bf9-8bcf-be9db4da972d",
   "metadata": {},
   "outputs": [],
   "source": [
    "li = ['hi', 'hello', 'how', 'are', 'you']"
   ]
  },
  {
   "cell_type": "code",
   "execution_count": 208,
   "id": "d60428fa-85fe-44d2-8548-4753ac62f817",
   "metadata": {},
   "outputs": [],
   "source": [
    "ans = ' '.join(li)"
   ]
  },
  {
   "cell_type": "code",
   "execution_count": 210,
   "id": "51276953-e58c-4acc-bdfd-ae572f6139fe",
   "metadata": {},
   "outputs": [
    {
     "data": {
      "text/plain": [
       "'hi hello how are you'"
      ]
     },
     "execution_count": 210,
     "metadata": {},
     "output_type": "execute_result"
    }
   ],
   "source": [
    "ans"
   ]
  },
  {
   "cell_type": "markdown",
   "id": "49dba63a-129a-459a-95ce-fd7267adb50e",
   "metadata": {},
   "source": [
    "## split()"
   ]
  },
  {
   "cell_type": "code",
   "execution_count": 213,
   "id": "8e3e3716-3dbd-444f-b21d-afe5fec2a6b0",
   "metadata": {},
   "outputs": [],
   "source": [
    "s = 'communication dbms python maths c c++ java'   #max split parameter"
   ]
  },
  {
   "cell_type": "code",
   "execution_count": 215,
   "id": "1de95b83-cb80-40b3-b842-e96e11decd2a",
   "metadata": {},
   "outputs": [
    {
     "data": {
      "text/plain": [
       "['communication', 'dbms', 'python', 'maths', 'c', 'c++', 'java']"
      ]
     },
     "execution_count": 215,
     "metadata": {},
     "output_type": "execute_result"
    }
   ],
   "source": [
    "s.split()"
   ]
  },
  {
   "cell_type": "code",
   "execution_count": 217,
   "id": "4113804b-caf9-4d16-9763-f632d6f69480",
   "metadata": {},
   "outputs": [
    {
     "data": {
      "text/plain": [
       "['communication', 'dbms', 'python', 'maths', 'c', 'c++', 'java']"
      ]
     },
     "execution_count": 217,
     "metadata": {},
     "output_type": "execute_result"
    }
   ],
   "source": [
    "s.split(' ')"
   ]
  },
  {
   "cell_type": "code",
   "execution_count": 219,
   "id": "f9e93336-ea3c-42ef-b99f-3d85046ba8fe",
   "metadata": {},
   "outputs": [
    {
     "data": {
      "text/plain": [
       "['communication', 'dbms', 'python maths c c++ java']"
      ]
     },
     "execution_count": 219,
     "metadata": {},
     "output_type": "execute_result"
    }
   ],
   "source": [
    "s.split(' ',2)"
   ]
  },
  {
   "cell_type": "code",
   "execution_count": 221,
   "id": "0034405c-cf62-4b01-9ad5-cbdd73c13ac4",
   "metadata": {},
   "outputs": [],
   "source": [
    "s = 'communication,dbms,python,maths, c, c++, java'"
   ]
  },
  {
   "cell_type": "code",
   "execution_count": 223,
   "id": "3304e31c-62da-423f-816f-7e7c7cb7330d",
   "metadata": {},
   "outputs": [
    {
     "data": {
      "text/plain": [
       "['communication', 'dbms', 'python', 'maths', ' c', ' c++', ' java']"
      ]
     },
     "execution_count": 223,
     "metadata": {},
     "output_type": "execute_result"
    }
   ],
   "source": [
    "s.split(',')"
   ]
  },
  {
   "cell_type": "code",
   "execution_count": 225,
   "id": "5a1e0443-0fcc-4f5a-948c-19580a9e8a27",
   "metadata": {},
   "outputs": [
    {
     "data": {
      "text/plain": [
       "['communication', 'dbms', 'python', 'maths', ' c, c++, java']"
      ]
     },
     "execution_count": 225,
     "metadata": {},
     "output_type": "execute_result"
    }
   ],
   "source": [
    "s.split(',',4)"
   ]
  },
  {
   "cell_type": "code",
   "execution_count": 227,
   "id": "a3eb59e5-fc98-49a8-8a66-8b7b1893f81f",
   "metadata": {},
   "outputs": [],
   "source": [
    "s = s.replace(',','-')"
   ]
  },
  {
   "cell_type": "code",
   "execution_count": 229,
   "id": "5b69af00-005f-4187-82b5-20157243a8fc",
   "metadata": {},
   "outputs": [
    {
     "data": {
      "text/plain": [
       "'communication-dbms-python-maths- c- c++- java'"
      ]
     },
     "execution_count": 229,
     "metadata": {},
     "output_type": "execute_result"
    }
   ],
   "source": [
    "s"
   ]
  },
  {
   "cell_type": "code",
   "execution_count": 231,
   "id": "d95c5c28-ade6-48fb-973e-05c6008d0209",
   "metadata": {},
   "outputs": [
    {
     "data": {
      "text/plain": [
       "['communication', 'dbms', 'python-maths- c- c++- java']"
      ]
     },
     "execution_count": 231,
     "metadata": {},
     "output_type": "execute_result"
    }
   ],
   "source": [
    "s.split('-',2)"
   ]
  },
  {
   "cell_type": "markdown",
   "id": "8739b2ea-c048-4726-9da5-298bd57bd005",
   "metadata": {},
   "source": [
    "## rsplit()"
   ]
  },
  {
   "cell_type": "code",
   "execution_count": 234,
   "id": "a9527af1-7266-44f1-b1e8-f1b2efd411ba",
   "metadata": {},
   "outputs": [],
   "source": [
    "s = 'communication dbms python maths c c++ java' "
   ]
  },
  {
   "cell_type": "code",
   "execution_count": 236,
   "id": "434e1a96-7859-411f-ad21-747fb2e04c32",
   "metadata": {},
   "outputs": [
    {
     "data": {
      "text/plain": [
       "['communication', 'dbms', 'python', 'maths', 'c', 'c++', 'java']"
      ]
     },
     "execution_count": 236,
     "metadata": {},
     "output_type": "execute_result"
    }
   ],
   "source": [
    "s.rsplit()"
   ]
  },
  {
   "cell_type": "code",
   "execution_count": 238,
   "id": "bcea629d-19a2-4e48-8ccd-86db9f250772",
   "metadata": {},
   "outputs": [
    {
     "data": {
      "text/plain": [
       "['communication', 'dbms', 'python', 'maths', 'c', 'c++', 'java']"
      ]
     },
     "execution_count": 238,
     "metadata": {},
     "output_type": "execute_result"
    }
   ],
   "source": [
    "s.rsplit(' ')"
   ]
  },
  {
   "cell_type": "code",
   "execution_count": 240,
   "id": "911e7d17-4a38-45d8-bfcc-05a885962bed",
   "metadata": {},
   "outputs": [
    {
     "data": {
      "text/plain": [
       "['communication', 'dbms', 'python maths c c++ java']"
      ]
     },
     "execution_count": 240,
     "metadata": {},
     "output_type": "execute_result"
    }
   ],
   "source": [
    "s.split(' ',2)"
   ]
  },
  {
   "cell_type": "code",
   "execution_count": 242,
   "id": "4de12897-10c3-4850-8209-7fee76bc6876",
   "metadata": {},
   "outputs": [
    {
     "data": {
      "text/plain": [
       "['communication dbms python maths c', 'c++', 'java']"
      ]
     },
     "execution_count": 242,
     "metadata": {},
     "output_type": "execute_result"
    }
   ],
   "source": [
    "s.rsplit(' ',2)"
   ]
  },
  {
   "cell_type": "markdown",
   "id": "7e1a12fb-5823-4677-9c30-b3510c73031d",
   "metadata": {},
   "source": [
    "## splitlines()"
   ]
  },
  {
   "cell_type": "code",
   "execution_count": 245,
   "id": "bc4d458a-c5fc-40be-990b-adf69677ec5c",
   "metadata": {},
   "outputs": [],
   "source": [
    "s = 'professional\\tcommunication\\ndbms\\npython\\tprogramming\\nmaths\\nc\\nc++\\njava' "
   ]
  },
  {
   "cell_type": "code",
   "execution_count": 247,
   "id": "38dc0466-5281-4c26-a4fb-933fc1c8ab6b",
   "metadata": {},
   "outputs": [
    {
     "data": {
      "text/plain": [
       "'professional\\tcommunication\\ndbms\\npython\\tprogramming\\nmaths\\nc\\nc++\\njava'"
      ]
     },
     "execution_count": 247,
     "metadata": {},
     "output_type": "execute_result"
    }
   ],
   "source": [
    "s"
   ]
  },
  {
   "cell_type": "code",
   "execution_count": 249,
   "id": "6fca7d0c-c2fb-42e8-a71f-d9e5bf204299",
   "metadata": {},
   "outputs": [
    {
     "name": "stdout",
     "output_type": "stream",
     "text": [
      "professional\tcommunication\n",
      "dbms\n",
      "python\tprogramming\n",
      "maths\n",
      "c\n",
      "c++\n",
      "java\n"
     ]
    }
   ],
   "source": [
    "print(s)"
   ]
  },
  {
   "cell_type": "code",
   "execution_count": 251,
   "id": "8402f681-014e-44e6-aec5-8548d196385a",
   "metadata": {},
   "outputs": [
    {
     "data": {
      "text/plain": [
       "['professional\\tcommunication',\n",
       " 'dbms',\n",
       " 'python\\tprogramming',\n",
       " 'maths',\n",
       " 'c',\n",
       " 'c++',\n",
       " 'java']"
      ]
     },
     "execution_count": 251,
     "metadata": {},
     "output_type": "execute_result"
    }
   ],
   "source": [
    "s.splitlines()"
   ]
  },
  {
   "cell_type": "code",
   "execution_count": 253,
   "id": "1ebac18e-0097-4dc8-bc05-0456843fb035",
   "metadata": {},
   "outputs": [
    {
     "data": {
      "text/plain": [
       "['professional\\tcommunication\\n',\n",
       " 'dbms\\n',\n",
       " 'python\\tprogramming\\n',\n",
       " 'maths\\n',\n",
       " 'c\\n',\n",
       " 'c++\\n',\n",
       " 'java']"
      ]
     },
     "execution_count": 253,
     "metadata": {},
     "output_type": "execute_result"
    }
   ],
   "source": [
    "s.splitlines(keepends=True)"
   ]
  },
  {
   "cell_type": "code",
   "execution_count": 255,
   "id": "b98ac937-527d-4aa1-9883-5e656df8957c",
   "metadata": {},
   "outputs": [],
   "source": [
    "#differentiate between split() and splitlines()"
   ]
  },
  {
   "cell_type": "code",
   "execution_count": 257,
   "id": "079ccd43-ff2a-429f-843c-7120899c8cf4",
   "metadata": {},
   "outputs": [
    {
     "data": {
      "text/plain": [
       "['professional\\tcommunication',\n",
       " 'dbms',\n",
       " 'python\\tprogramming',\n",
       " 'maths',\n",
       " 'c',\n",
       " 'c++',\n",
       " 'java']"
      ]
     },
     "execution_count": 257,
     "metadata": {},
     "output_type": "execute_result"
    }
   ],
   "source": [
    "s.splitlines()"
   ]
  },
  {
   "cell_type": "code",
   "execution_count": 259,
   "id": "94e8d52a-c858-46b9-8b81-4e25c0a805ef",
   "metadata": {},
   "outputs": [
    {
     "data": {
      "text/plain": [
       "['professional',\n",
       " 'communication',\n",
       " 'dbms',\n",
       " 'python',\n",
       " 'programming',\n",
       " 'maths',\n",
       " 'c',\n",
       " 'c++',\n",
       " 'java']"
      ]
     },
     "execution_count": 259,
     "metadata": {},
     "output_type": "execute_result"
    }
   ],
   "source": [
    "s.split()"
   ]
  }
 ],
 "metadata": {
  "kernelspec": {
   "display_name": "Python 3 (ipykernel)",
   "language": "python",
   "name": "python3"
  },
  "language_info": {
   "codemirror_mode": {
    "name": "ipython",
    "version": 3
   },
   "file_extension": ".py",
   "mimetype": "text/x-python",
   "name": "python",
   "nbconvert_exporter": "python",
   "pygments_lexer": "ipython3",
   "version": "3.12.7"
  }
 },
 "nbformat": 4,
 "nbformat_minor": 5
}
