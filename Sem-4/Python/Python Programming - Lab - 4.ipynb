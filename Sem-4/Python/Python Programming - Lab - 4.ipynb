{
 "cells": [
  {
   "cell_type": "markdown",
   "metadata": {},
   "source": [
    "\n",
    "<a href='https://www.darshan.ac.in/'> <img src='https://www.darshan.ac.in/Content/media/DU_Logo.svg' width=\"250\" height=\"300\"/></a>\n",
    "<pre>\n",
    "<center><b><h1>Python Programming - 2301CS404</b></center>\n",
    "<center><b><h1>Lab - 4</b></center>\n",
    "<center><b><h1>Dhol Namra</b></center> \n",
    "<center><b><h1>23010101407</b></center>  \n",
    "<center><b><h1>16-12-2024</b></center>  \n",
    "<pre>"
   ]
  },
  {
   "cell_type": "markdown",
   "metadata": {},
   "source": [
    "# String"
   ]
  },
  {
   "cell_type": "markdown",
   "metadata": {},
   "source": [
    "### 01) WAP to check whether the given string is palindrome or not."
   ]
  },
  {
   "cell_type": "code",
   "execution_count": 3,
   "metadata": {},
   "outputs": [
    {
     "name": "stdin",
     "output_type": "stream",
     "text": [
      "Enter String gsdhf\n"
     ]
    }
   ],
   "source": [
    "str = input(\"Enter String\");\n",
    "str2 = str[::-1]\n",
    "if str2==str:\n",
    "    print(\"String is Palindrome\");\n",
    "else:\n",
    "    print(\"String is Not Palindrome\");"
   ]
  },
  {
   "cell_type": "markdown",
   "metadata": {},
   "source": [
    "### 02) WAP to reverse the words in the given string."
   ]
  },
  {
   "cell_type": "code",
   "execution_count": 2,
   "metadata": {},
   "outputs": [
    {
     "name": "stdin",
     "output_type": "stream",
     "text": [
      "Enter String: sjad sadiufg asdugf\n"
     ]
    },
    {
     "name": "stdout",
     "output_type": "stream",
     "text": [
      "asdugfsadiufgsjad\n"
     ]
    }
   ],
   "source": [
    "str = input(\"Enter String:\");\n",
    "newstr = str.split()[::-1];\n",
    "arr = []\n",
    "for i in newstr:\n",
    "    arr.append(i)\n",
    "print(\" \".join(arr));"
   ]
  },
  {
   "cell_type": "markdown",
   "metadata": {},
   "source": [
    "### 03) WAP to remove ith character from given string."
   ]
  },
  {
   "cell_type": "code",
   "execution_count": 3,
   "metadata": {},
   "outputs": [
    {
     "name": "stdin",
     "output_type": "stream",
     "text": [
      "Enter String sdf\n",
      "Enter index 2\n"
     ]
    },
    {
     "name": "stdout",
     "output_type": "stream",
     "text": [
      "sd\n"
     ]
    }
   ],
   "source": [
    "str = input(\"Enter String\");\n",
    "i = int(input(\"Enter index\"));\n",
    "result = str[:i] + str[i+1:]\n",
    "print(result)"
   ]
  },
  {
   "cell_type": "markdown",
   "metadata": {},
   "source": [
    "### 04) WAP to find length of string without using len function."
   ]
  },
  {
   "cell_type": "code",
   "execution_count": 4,
   "metadata": {},
   "outputs": [
    {
     "name": "stdin",
     "output_type": "stream",
     "text": [
      "Enter String sjdkf\n"
     ]
    },
    {
     "name": "stdout",
     "output_type": "stream",
     "text": [
      "5\n"
     ]
    }
   ],
   "source": [
    "str = input(\"Enter String\");\n",
    "count=0;\n",
    "for i in str:\n",
    "    if i==\" \":\n",
    "        break\n",
    "    count+=1\n",
    "print(count)"
   ]
  },
  {
   "cell_type": "markdown",
   "metadata": {},
   "source": [
    "### 05) WAP to print even length word in string."
   ]
  },
  {
   "cell_type": "code",
   "execution_count": 5,
   "metadata": {},
   "outputs": [
    {
     "name": "stdin",
     "output_type": "stream",
     "text": [
      "Enter String sdfh sdhsdlh aidhf difh\n"
     ]
    },
    {
     "name": "stdout",
     "output_type": "stream",
     "text": [
      "sdfh\n",
      "difh\n"
     ]
    }
   ],
   "source": [
    "str = input(\"Enter String\")\n",
    "for word in str.split():\n",
    "    if len(word) % 2 == 0:\n",
    "        print(word)"
   ]
  },
  {
   "cell_type": "markdown",
   "metadata": {},
   "source": [
    "### 06) WAP to count numbers of vowels in given string."
   ]
  },
  {
   "cell_type": "code",
   "execution_count": 23,
   "metadata": {},
   "outputs": [
    {
     "name": "stdin",
     "output_type": "stream",
     "text": [
      "Enter String: aeiouaeiou\n"
     ]
    },
    {
     "name": "stdout",
     "output_type": "stream",
     "text": [
      "10\n"
     ]
    }
   ],
   "source": [
    "str = input(\"Enter String:\")\n",
    "count = 0;\n",
    "for i in str:\n",
    "    if(i in \"a\" or i in \"e\" or i in \"i\" or i in \"o\" or i in \"u\"):\n",
    "        count+=1;\n",
    "print(count)"
   ]
  },
  {
   "cell_type": "markdown",
   "metadata": {},
   "source": [
    "### 07) WAP to capitalize the first and last character of each word in a string."
   ]
  },
  {
   "cell_type": "code",
   "execution_count": 6,
   "metadata": {},
   "outputs": [
    {
     "name": "stdin",
     "output_type": "stream",
     "text": [
      "Enter a string:  dlsdig sihgsi siprg\n"
     ]
    },
    {
     "name": "stdout",
     "output_type": "stream",
     "text": [
      "Output string is: DlsdiG SihgsI SiprG\n"
     ]
    }
   ],
   "source": [
    "str = input(\"Enter a string: \")\n",
    "result = []\n",
    "for word in str.split():\n",
    "    nword = word[0].upper() + word[1:-1] + word[-1].upper() if len(word) > 1 else word.upper()\n",
    "    result.append(nword)\n",
    "\n",
    "outstr = \" \".join(result)\n",
    "print(\"Output string is:\", outstr)\n"
   ]
  },
  {
   "cell_type": "markdown",
   "metadata": {},
   "source": [
    "### 08) WAP to convert given array to string."
   ]
  },
  {
   "cell_type": "code",
   "execution_count": 11,
   "metadata": {},
   "outputs": [
    {
     "name": "stdin",
     "output_type": "stream",
     "text": [
      "Enter Array Size 3\n",
      "Enter num 1\n",
      "Enter num 2\n",
      "Enter num 3\n"
     ]
    },
    {
     "name": "stdout",
     "output_type": "stream",
     "text": [
      "123\n"
     ]
    }
   ],
   "source": [
    "num = int(input(\"Enter Array Size\"))\n",
    "arr=[];\n",
    "for i in range(num):\n",
    "    arr.append(input(\"Enter num\"))\n",
    "result=\"\".join(arr)\n",
    "print(result)"
   ]
  },
  {
   "cell_type": "markdown",
   "metadata": {},
   "source": [
    "### 09) Check if the password and confirm password is same or not. \n",
    "### In case of only case's mistake, show the error message."
   ]
  },
  {
   "cell_type": "code",
   "execution_count": 13,
   "metadata": {},
   "outputs": [
    {
     "name": "stdin",
     "output_type": "stream",
     "text": [
      "Enter Password: pass123\n",
      "Enter Confirm Password: Pass123\n"
     ]
    },
    {
     "name": "stdout",
     "output_type": "stream",
     "text": [
      "Password Matches but case not mathces\n"
     ]
    }
   ],
   "source": [
    "password = input(\"Enter Password:\")\n",
    "co_pass = input(\"Enter Confirm Password:\")\n",
    "\n",
    "if (password.lower() == co_pass.lower()):\n",
    "    if(password == co_pass):\n",
    "        print(\"Password Matches\")\n",
    "    else:\n",
    "        print(\"Password Matches but case not mathces\")\n",
    "else:\n",
    "    print(\"Wrong Password\")"
   ]
  },
  {
   "cell_type": "markdown",
   "metadata": {},
   "source": [
    "### 10) : Display credit card number. \n",
    "### card no. : 1234 5678 9012 3456\n",
    "### display as  : **** **** **** 3456"
   ]
  },
  {
   "cell_type": "code",
   "execution_count": 23,
   "metadata": {},
   "outputs": [
    {
     "name": "stdin",
     "output_type": "stream",
     "text": [
      "Enter Card Number: 2131231231232131\n"
     ]
    },
    {
     "name": "stdout",
     "output_type": "stream",
     "text": [
      "**** **** **** 2131\n"
     ]
    }
   ],
   "source": [
    "cnum = input(\"Enter Card Number:\")\n",
    "cardnum = \"**** **** **** \"+cnum[-4:]\n",
    "print(cardnum)"
   ]
  },
  {
   "cell_type": "markdown",
   "metadata": {},
   "source": [
    "### 11) : Checking if the two strings are Anagram or not.\n",
    "### s1 = decimal and s2 = medical are Anagram"
   ]
  },
  {
   "cell_type": "code",
   "execution_count": 1,
   "metadata": {},
   "outputs": [
    {
     "name": "stdin",
     "output_type": "stream",
     "text": [
      "Enter First String: asdfg\n",
      "Enter Second String: gfdsa\n"
     ]
    },
    {
     "name": "stdout",
     "output_type": "stream",
     "text": [
      "Both string are Anagram\n"
     ]
    }
   ],
   "source": [
    "s1 = input(\"Enter First String:\")\n",
    "s2 = input(\"Enter Second String:\")\n",
    "\n",
    "if (sorted(s1) == sorted(s2)):\n",
    "    print(\"Both string are Anagram\")\n",
    "else:\n",
    "    print(\"Both string are Not Anagram\")"
   ]
  },
  {
   "cell_type": "markdown",
   "metadata": {},
   "source": [
    "### 12) : Rearrange the given string. First lowercase then uppercase alphabets.\n",
    "### input : EHlsarwiwhtwMV\n",
    "### output : lsarwiwhtwEHMV"
   ]
  },
  {
   "cell_type": "code",
   "execution_count": 29,
   "metadata": {},
   "outputs": [
    {
     "name": "stdin",
     "output_type": "stream",
     "text": [
      "Enter String:  HJFksjdHJFHjdsf\n"
     ]
    },
    {
     "name": "stdout",
     "output_type": "stream",
     "text": [
      "ksjdjdsfHJFHJFH\n"
     ]
    }
   ],
   "source": [
    "string = input(\"Enter String: \")\n",
    "upper=\"\"\n",
    "lower=\"\"\n",
    "for i in string:\n",
    "    if (i.isupper()):\n",
    "        upper += i\n",
    "    else:\n",
    "        lower += i\n",
    "print(lower+upper)"
   ]
  }
 ],
 "metadata": {
  "kernelspec": {
   "display_name": "Python 3 (ipykernel)",
   "language": "python",
   "name": "python3"
  },
  "language_info": {
   "codemirror_mode": {
    "name": "ipython",
    "version": 3
   },
   "file_extension": ".py",
   "mimetype": "text/x-python",
   "name": "python",
   "nbconvert_exporter": "python",
   "pygments_lexer": "ipython3",
   "version": "3.12.7"
  },
  "vscode": {
   "interpreter": {
    "hash": "31f2aee4e71d21fbe5cf8b01ff0e069b9275f58929596ceb00d14d90e3e16cd6"
   }
  }
 },
 "nbformat": 4,
 "nbformat_minor": 4
}
