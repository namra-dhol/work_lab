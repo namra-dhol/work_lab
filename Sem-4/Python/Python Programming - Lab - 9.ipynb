{
 "cells": [
  {
   "cell_type": "markdown",
   "metadata": {},
   "source": [
    "<a href='https://www.darshan.ac.in/'> <img src='https://www.darshan.ac.in/Content/media/DU_Logo.svg' width=\"250\" height=\"300\"/></a>\n",
    "<pre>\n",
    "<center><b><h1>Python Programming - 2301CS404</b></center>\n",
    "<center><b><h1>Lab - 9</b></center>   \n",
    "<center><b><h1>Dhol Namra</b></center>\n",
    "<center><b><h1>Enroll:23010101407</b></center>\n",
    "<center><b><h1>22-01-2025</b></center>\n",
    "<pre>"
   ]
  },
  {
   "cell_type": "markdown",
   "metadata": {},
   "source": [
    "# File I/O"
   ]
  },
  {
   "cell_type": "markdown",
   "metadata": {},
   "source": [
    "### 01) WAP to read and display the contents of a text file. (also try to open the file in some other directory) \n",
    "#### - in the form of a string\n",
    "#### - line by line\n",
    "#### - in the form of a list"
   ]
  },
  {
   "cell_type": "code",
   "execution_count": 7,
   "metadata": {},
   "outputs": [
    {
     "name": "stdout",
     "output_type": "stream",
     "text": [
      "asdfghjklqwertyuioj\n",
      "sdfghjkl\n",
      "asdfghjklqwertyuioj\n",
      "\n",
      "['asdfghjklqwertyuioj\\n', 'sdfghjkl']\n"
     ]
    }
   ],
   "source": [
    "fp = open(\"abc.txt\",\"r\")\n",
    "print(fp.read())\n",
    "fp.close()\n",
    "#line by line\n",
    "fp = open(\"abc.txt\",\"r\")\n",
    "print(fp.readline())\n",
    "fp.close()\n",
    "# in the form of a list\n",
    "fp = open(\"abc.txt\",\"r\")\n",
    "print(fp.readlines())\n",
    "fp.close()"
   ]
  },
  {
   "cell_type": "markdown",
   "metadata": {},
   "source": [
    "### 02) WAP to create file named \"new.txt\" only if it doesn't exist."
   ]
  },
  {
   "cell_type": "code",
   "execution_count": 1,
   "metadata": {},
   "outputs": [
    {
     "name": "stdout",
     "output_type": "stream",
     "text": [
      "File 'new.txt' created successfully.\n"
     ]
    }
   ],
   "source": [
    "import os\n",
    "\n",
    "filename = \"new.txt\"\n",
    "\n",
    "if not os.path.exists(filename):\n",
    "    with open(filename, \"w\") as file:\n",
    "        print(f\"File '{filename}' created successfully.\")\n",
    "else:\n",
    "    print(f\"File '{filename}' already exists.\")\n"
   ]
  },
  {
   "cell_type": "markdown",
   "metadata": {},
   "source": [
    "### 03) WAP to read first 5 lines from the text file."
   ]
  },
  {
   "cell_type": "code",
   "execution_count": 21,
   "metadata": {
    "scrolled": true
   },
   "outputs": [
    {
     "name": "stdout",
     "output_type": "stream",
     "text": [
      "sdfghj\n",
      "\n",
      "asdfghj\n",
      "\n",
      "sdfgh\n",
      "\n",
      "sdfgh\n",
      "\n",
      "aewertet\n",
      "\n"
     ]
    }
   ],
   "source": [
    "fp = open(\"new.txt\",\"r\")\n",
    "for i in range(5):\n",
    "        print(fp.readline())\n",
    "fp.close()"
   ]
  },
  {
   "cell_type": "markdown",
   "metadata": {},
   "source": [
    "### 04) WAP to find the longest word(s) in a file"
   ]
  },
  {
   "cell_type": "code",
   "execution_count": 50,
   "metadata": {},
   "outputs": [
    {
     "name": "stdout",
     "output_type": "stream",
     "text": [
      "aewertet\n"
     ]
    }
   ],
   "source": [
    "f = open('new.txt','r')\n",
    "s = f.read().split()\n",
    "# st = list(s.split(' '))\n",
    "# longest = ''\n",
    "# for i in st:\n",
    "#     if(len(longest) < len(i) ):\n",
    "#         longest = i\n",
    "\n",
    "# print(longest)\n",
    "# fp.close()\n",
    "longest=\"\"\n",
    "# print(s)\n",
    "for i in s:\n",
    "    if(len(longest) < len(i)):\n",
    "        longest = i\n",
    "print(longest)"
   ]
  },
  {
   "cell_type": "markdown",
   "metadata": {},
   "source": [
    "### 05) WAP to count the no. of lines, words and characters in a given text file."
   ]
  },
  {
   "cell_type": "code",
   "execution_count": 56,
   "metadata": {},
   "outputs": [
    {
     "name": "stdout",
     "output_type": "stream",
     "text": [
      "6\n",
      "7\n",
      "50\n"
     ]
    }
   ],
   "source": [
    "fp = open(\"abc.txt\",\"rt\")\n",
    "lines=fp.readlines()\n",
    "num_lines = len(lines)\n",
    "num_words = sum(len(line.split()) for line in lines)\n",
    "num_chars = sum(len(line) for line in lines)\n",
    "print(num_lines)\n",
    "print(num_words)\n",
    "print(num_chars)\n",
    "fp.close()"
   ]
  },
  {
   "cell_type": "markdown",
   "metadata": {},
   "source": [
    "### 06) WAP to copy the content of a file to the another file."
   ]
  },
  {
   "cell_type": "code",
   "execution_count": 54,
   "metadata": {},
   "outputs": [],
   "source": [
    "fp = open(\"new.txt\",\"rt\")\n",
    "lines=fp.read()\n",
    "\n",
    "fp = open(\"abc.txt\",\"wt\")\n",
    "fp.write(lines)\n",
    "\n",
    "fp.close()\n",
    "fp.close()"
   ]
  },
  {
   "cell_type": "markdown",
   "metadata": {},
   "source": [
    "### 07) WAP to find the size of the text file. "
   ]
  },
  {
   "cell_type": "code",
   "execution_count": 82,
   "metadata": {},
   "outputs": [
    {
     "name": "stdout",
     "output_type": "stream",
     "text": [
      "55\n"
     ]
    }
   ],
   "source": [
    "fp = open(\"abc.txt\",\"rb\")\n",
    "size=len(fp.read())\n",
    "print(size)\n",
    "fp.close()"
   ]
  },
  {
   "cell_type": "markdown",
   "metadata": {},
   "source": [
    "### 08) WAP to create an UDF named frequency to count occurances of the specific word in a given text file."
   ]
  },
  {
   "cell_type": "code",
   "execution_count": 62,
   "metadata": {},
   "outputs": [
    {
     "name": "stdout",
     "output_type": "stream",
     "text": [
      "2\n"
     ]
    }
   ],
   "source": [
    "def count_word_in_file(words, word):\n",
    "    count = words.count(word)\n",
    "    return count\n",
    "fp = open(\"abc.txt\",\"rt\")\n",
    "data = fp.read()\n",
    "word = \"sdfgh\"\n",
    "words = data.split()\n",
    "fp.close()\n",
    "\n",
    "print(count_word_in_file(words, word))"
   ]
  },
  {
   "cell_type": "markdown",
   "metadata": {},
   "source": [
    "### 09) WAP to get the score of five subjects from the user, store them in a file. Fetch those marks and find the highest score."
   ]
  },
  {
   "cell_type": "code",
   "execution_count": 88,
   "metadata": {},
   "outputs": [
    {
     "name": "stdin",
     "output_type": "stream",
     "text": [
      "Enter the score for subject 1:  8542\n",
      "Enter the score for subject 2:  852\n",
      "Enter the score for subject 3:  /74\n",
      "Enter the score for subject 4:  /85378+\n",
      "Enter the score for subject 5:  5\n"
     ]
    },
    {
     "name": "stdout",
     "output_type": "stream",
     "text": [
      "5\n"
     ]
    }
   ],
   "source": [
    "fp = open(\"score.txt\", \"w\") \n",
    "for i in range(1, 6):\n",
    "    scores = input(f\"Enter the score for subject {i}: \")\n",
    "    fp.write(scores)\n",
    "fp.close()\n",
    "\n",
    "fp = open(\"score.txt\", \"r\") \n",
    "fp.readlines()\n",
    "scores = [int(score.strip()) for score in scores]\n",
    "highest_score = max(scores)\n",
    "print(highest_score)\n",
    "fp.close()\n"
   ]
  },
  {
   "cell_type": "markdown",
   "metadata": {},
   "source": [
    "### 10) WAP to write first 100 prime numbers to a file named primenumbers.txt \n",
    "(Note: each number should be in new line)"
   ]
  },
  {
   "cell_type": "code",
   "execution_count": 3,
   "metadata": {},
   "outputs": [
    {
     "name": "stdout",
     "output_type": "stream",
     "text": [
      "First 100 prime numbers have been written to 'primenumbers.txt'.\n"
     ]
    }
   ],
   "source": [
    "def is_prime(n):\n",
    "    \"\"\"Check if a number is prime.\"\"\"\n",
    "    if n < 2:\n",
    "        return False\n",
    "    for i in range(2, int(n ** 0.5) + 1):\n",
    "        if n % i == 0:\n",
    "            return False\n",
    "    return True\n",
    "\n",
    "def generate_primes(count):\n",
    "    \"\"\"Generate first 'count' prime numbers.\"\"\"\n",
    "    primes = []\n",
    "    num = 2 \n",
    "    while len(primes) < count:\n",
    "        if is_prime(num):\n",
    "            primes.append(num)\n",
    "        num += 1\n",
    "    return primes\n",
    "\n",
    "\n",
    "prime_numbers = generate_primes(100)\n",
    "\n",
    "with open(\"primenumbers.txt\", \"w\") as file:\n",
    "    for prime in prime_numbers:\n",
    "        file.write(str(prime) + \"\\n\")\n",
    "\n",
    "print(\"First 100 prime numbers have been written to 'primenumbers.txt'.\")\n"
   ]
  },
  {
   "cell_type": "markdown",
   "metadata": {},
   "source": [
    "### 11) WAP to merge two files and write it in a new file."
   ]
  },
  {
   "cell_type": "code",
   "execution_count": 7,
   "metadata": {},
   "outputs": [
    {
     "name": "stdout",
     "output_type": "stream",
     "text": [
      "Files 'new.txt' and 'file2.txt' have been merged into 'merged.txt'.\n"
     ]
    }
   ],
   "source": [
    "def merge_files(new, file2, output_file):\n",
    "    \"\"\"Merge contents of file1 and file2 into output_file.\"\"\"\n",
    "    with open(output_file, \"w\") as outfile:\n",
    "        for file in [new, file2]:\n",
    "            with open(new, \"r\") as infile:\n",
    "                outfile.write(infile.read() + \"\\n\")  \n",
    "\n",
    "# File names\n",
    "new = \"new.txt\"\n",
    "file2 = \"file2.txt\"\n",
    "output_file = \"merged.txt\"\n",
    "\n",
    "# Merge the files\n",
    "merge_files(new, file2, output_file)\n",
    "\n",
    "print(f\"Files '{new}' and '{file2}' have been merged into '{output_file}'.\")\n"
   ]
  },
  {
   "cell_type": "markdown",
   "metadata": {},
   "source": [
    "### 12) WAP to replace word1 by word2 of a text file. Write the updated data to new file."
   ]
  },
  {
   "cell_type": "code",
   "execution_count": 22,
   "metadata": {},
   "outputs": [
    {
     "name": "stdout",
     "output_type": "stream",
     "text": [
      "Replaced 'oldword' with 'newword' and saved to 'updated.txt'.\n"
     ]
    }
   ],
   "source": [
    "def replace_word(new, output_file, word1, word2):\n",
    "    \"\"\"Replace all occurrences of word1 with word2 in input_file and save to output_file.\"\"\"\n",
    "    with open(input_file, \"r\") as infile:\n",
    "        data = infile.read()\n",
    "\n",
    "    updated_data = data.replace(word1, word2)  \n",
    "\n",
    "    with open(output_file, \"w\") as outfile:\n",
    "        outfile.write(updated_data)\n",
    "\n",
    "    print(f\"Replaced '{word1}' with '{word2}' and saved to '{output_file}'.\")\n",
    "\n",
    "\n",
    "input_file = \"new.txt\" \n",
    "output_file = \"updated.txt\"  \n",
    "word1 = \"oldword\"  \n",
    "word2 = \"newword\" \n",
    "\n",
    "replace_word(input_file, output_file, word1, word2)\n"
   ]
  },
  {
   "cell_type": "markdown",
   "metadata": {},
   "source": [
    "### 13) Demonstrate tell() and seek() for all the cases(seek from beginning-end-current position) taking a suitable example of your choice."
   ]
  },
  {
   "cell_type": "code",
   "execution_count": 19,
   "metadata": {},
   "outputs": [
    {
     "name": "stdout",
     "output_type": "stream",
     "text": [
      "Initial Position: 0\n",
      "Reading 10 bytes: b'Hello, thi'\n",
      "Current Position: 10\n",
      "After seek(0, 0), Position: 0\n",
      "After seek(5, 1), Position: 5\n",
      "After seek(-10, 2), Position: 54\n",
      "Remaining content: in Python.\n"
     ]
    }
   ],
   "source": [
    "with open(\"new.txt\", \"w\") as file:\n",
    "    file.write(\"Hello, this is a test file.\\nWelcome to file handling in Python.\")\n",
    "\n",
    "with open(\"new.txt\", \"rb\") as file:\n",
    "    print(f\"Initial Position: {file.tell()}\")\n",
    "\n",
    "    print(\"Reading 10 bytes:\", file.read(10))\n",
    "    print(f\"Current Position: {file.tell()}\")\n",
    "\n",
    "    file.seek(0, 0)\n",
    "    print(f\"After seek(0, 0), Position: {file.tell()}\")\n",
    "\n",
    "    file.seek(5, 1)\n",
    "    print(f\"After seek(5, 1), Position: {file.tell()}\")\n",
    "\n",
    "    file.seek(-10, 2)\n",
    "    print(f\"After seek(-10, 2), Position: {file.tell()}\")\n",
    "\n",
    "    print(\"Remaining content:\", file.read().decode(\"utf-8\"))\n"
   ]
  },
  {
   "cell_type": "code",
   "execution_count": null,
   "metadata": {},
   "outputs": [],
   "source": []
  }
 ],
 "metadata": {
  "kernelspec": {
   "display_name": "Python 3 (ipykernel)",
   "language": "python",
   "name": "python3"
  },
  "language_info": {
   "codemirror_mode": {
    "name": "ipython",
    "version": 3
   },
   "file_extension": ".py",
   "mimetype": "text/x-python",
   "name": "python",
   "nbconvert_exporter": "python",
   "pygments_lexer": "ipython3",
   "version": "3.12.7"
  }
 },
 "nbformat": 4,
 "nbformat_minor": 4
}
