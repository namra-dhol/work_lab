{
 "cells": [
  {
   "cell_type": "markdown",
   "metadata": {},
   "source": [
    "\n",
    "<a href='https://www.darshan.ac.in/'> <img src='https://www.darshan.ac.in/Content/media/DU_Logo.svg' width=\"250\" height=\"300\"/></a>\n",
    "<pre>\n",
    "<center><b><h1>Python Programming - 2301CS404</b></center>\n",
    "<center><b><h1>Lab - 5</b></center>    \n",
    "<pre>"
   ]
  },
  {
   "cell_type": "markdown",
   "metadata": {},
   "source": [
    "# List"
   ]
  },
  {
   "cell_type": "markdown",
   "metadata": {},
   "source": [
    "### 01) WAP to find sum of all the elements in a List."
   ]
  },
  {
   "cell_type": "code",
   "execution_count": 13,
   "metadata": {},
   "outputs": [
    {
     "name": "stdin",
     "output_type": "stream",
     "text": [
      "enter a list 123\n"
     ]
    },
    {
     "name": "stdout",
     "output_type": "stream",
     "text": [
      "6\n"
     ]
    }
   ],
   "source": [
    "l1 = list(input(\"enter a list\"))\n",
    "l1\n",
    "sum = 0;\n",
    "for i in l1:\n",
    "    sum+=int(i)\n",
    "print(sum)"
   ]
  },
  {
   "cell_type": "markdown",
   "metadata": {},
   "source": [
    "### 02) WAP to find largest element in a List."
   ]
  },
  {
   "cell_type": "code",
   "execution_count": null,
   "metadata": {},
   "outputs": [],
   "source": []
  },
  {
   "cell_type": "markdown",
   "metadata": {},
   "source": [
    "### 03) WAP to find the length of a List."
   ]
  },
  {
   "cell_type": "code",
   "execution_count": 47,
   "metadata": {},
   "outputs": [
    {
     "name": "stdin",
     "output_type": "stream",
     "text": [
      "enter a list 12346\n"
     ]
    },
    {
     "name": "stdout",
     "output_type": "stream",
     "text": [
      "5\n"
     ]
    }
   ],
   "source": [
    "l1 = list(input(\"enter a list\"))\n",
    "count = 0\n",
    "for i in l1:\n",
    "    count+=1;\n",
    "print(count)"
   ]
  },
  {
   "cell_type": "markdown",
   "metadata": {},
   "source": [
    "### 04) WAP to interchange first and last elements in a list."
   ]
  },
  {
   "cell_type": "code",
   "execution_count": null,
   "metadata": {},
   "outputs": [],
   "source": []
  },
  {
   "cell_type": "markdown",
   "metadata": {},
   "source": [
    "### 05) WAP to split the List into two parts and append the first part to the end."
   ]
  },
  {
   "cell_type": "code",
   "execution_count": null,
   "metadata": {},
   "outputs": [],
   "source": []
  },
  {
   "cell_type": "markdown",
   "metadata": {},
   "source": [
    "### 06) WAP to interchange the elements on two positions entered by a user."
   ]
  },
  {
   "cell_type": "code",
   "execution_count": null,
   "metadata": {},
   "outputs": [],
   "source": []
  },
  {
   "cell_type": "markdown",
   "metadata": {},
   "source": [
    "### 07) WAP to reverse the list entered by user."
   ]
  },
  {
   "cell_type": "code",
   "execution_count": 50,
   "metadata": {},
   "outputs": [
    {
     "name": "stdin",
     "output_type": "stream",
     "text": [
      "enter a list 1234\n"
     ]
    },
    {
     "name": "stdout",
     "output_type": "stream",
     "text": [
      "['4', '3', '2', '1']\n"
     ]
    }
   ],
   "source": [
    "l1 =  list(input(\"enter a list\"))\n",
    "l2 = l1[::-1]\n",
    "print(l2)"
   ]
  },
  {
   "cell_type": "markdown",
   "metadata": {},
   "source": [
    "### 08) WAP to print even numbers in a list."
   ]
  },
  {
   "cell_type": "code",
   "execution_count": 75,
   "metadata": {},
   "outputs": [
    {
     "name": "stdin",
     "output_type": "stream",
     "text": [
      "enter the size of list :: 4\n",
      " 1\n",
      " 2\n",
      " 3\n",
      " 4\n"
     ]
    },
    {
     "name": "stdout",
     "output_type": "stream",
     "text": [
      "2\n",
      "4\n"
     ]
    }
   ],
   "source": [
    "list = [] \n",
    "nList = []\n",
    "n = int(input(\"enter the size of list ::\"))\n",
    "nList = [n]\n",
    "\n",
    "for i in range(0,n):\n",
    "    element = int(input())\n",
    "    list.append(element)\n",
    "    \n",
    "for i in range(0,n):\n",
    "    if(list[i]%2 == 0):\n",
    "       print(list[i])"
   ]
  },
  {
   "cell_type": "markdown",
   "metadata": {},
   "source": [
    "### 09) WAP to count unique items in a list."
   ]
  },
  {
   "cell_type": "code",
   "execution_count": 91,
   "metadata": {},
   "outputs": [
    {
     "name": "stdin",
     "output_type": "stream",
     "text": [
      "enter the size of list :: 5\n",
      " 1\n",
      " 2\n",
      " 3\n",
      " 1\n",
      " 5\n"
     ]
    },
    {
     "name": "stdout",
     "output_type": "stream",
     "text": [
      "4\n"
     ]
    }
   ],
   "source": [
    "list = []\n",
    "nList = []\n",
    "\n",
    "n = int(input(\"enter the size of list ::\"))\n",
    "count = 0\n",
    "\n",
    "for i in range(0,n):\n",
    "    element = int(input())\n",
    "    list.append(element)\n",
    "    \n",
    "for i in list:\n",
    "    if i  not in nList:\n",
    "        count+=1\n",
    "        nList.append(i)\n",
    "        \n",
    "print(count)"
   ]
  },
  {
   "cell_type": "markdown",
   "metadata": {},
   "source": [
    "### 10) WAP to copy a list."
   ]
  },
  {
   "cell_type": "code",
   "execution_count": 93,
   "metadata": {},
   "outputs": [
    {
     "name": "stdin",
     "output_type": "stream",
     "text": [
      "enter the size of list :: 5\n",
      " 1\n",
      " 2\n",
      " 3\n",
      " 4\n",
      " 5\n"
     ]
    },
    {
     "name": "stdout",
     "output_type": "stream",
     "text": [
      "[1, 2, 3, 4, 5]\n"
     ]
    }
   ],
   "source": [
    "list = []\n",
    "nList = []\n",
    "\n",
    "n = int(input(\"enter the size of list ::\"))\n",
    "count = 0\n",
    "\n",
    "for i in range(0,n):\n",
    "    element = int(input())\n",
    "    list.append(element)\n",
    "\n",
    "for i in list:\n",
    "        nList.append(i)\n",
    "    \n",
    "print(nList)"
   ]
  },
  {
   "cell_type": "markdown",
   "metadata": {},
   "source": [
    "### 11) WAP to print all odd numbers in a given range."
   ]
  },
  {
   "cell_type": "code",
   "execution_count": 97,
   "metadata": {},
   "outputs": [
    {
     "name": "stdin",
     "output_type": "stream",
     "text": [
      "enter the size of list :: 5\n",
      " 1\n",
      " 2\n",
      " 3\n",
      " 4\n",
      " 5\n"
     ]
    },
    {
     "name": "stdout",
     "output_type": "stream",
     "text": [
      "[1, 3, 5]\n"
     ]
    }
   ],
   "source": [
    "list = []\n",
    "nList = []\n",
    "\n",
    "n = int(input(\"enter the size of list ::\"))\n",
    "count = 0\n",
    "\n",
    "for i in range(0,n):\n",
    "    element = int(input())\n",
    "    list.append(element)\n",
    "    \n",
    "for i in list:\n",
    "        if(i%2!=0):\n",
    "            nList.append(i)\n",
    "            \n",
    "print(nList)\n"
   ]
  },
  {
   "cell_type": "markdown",
   "metadata": {},
   "source": [
    "### 12) WAP to count occurrences of an element in a list."
   ]
  },
  {
   "cell_type": "code",
   "execution_count": 99,
   "metadata": {},
   "outputs": [
    {
     "name": "stdin",
     "output_type": "stream",
     "text": [
      "enter the size of list :: 5\n",
      "check or accurance in  the size of list :: 1\n",
      " 1\n",
      " 1\n",
      " 2\n",
      " 3\n",
      " 1\n"
     ]
    },
    {
     "name": "stdout",
     "output_type": "stream",
     "text": [
      "3\n"
     ]
    }
   ],
   "source": [
    "list = []\n",
    "nList = []\n",
    "\n",
    "n = int(input(\"enter the size of list ::\"))\n",
    "count = 0\n",
    "m = int(input(\"check or accurance in  the size of list ::\"))\n",
    "\n",
    "for i in range(0,n):\n",
    "    element = int(input())\n",
    "    list.append(element)\n",
    "\n",
    "for i in list:\n",
    "       if(m==list[i]):\n",
    "           count+=1;\n",
    "\n",
    "print(count)"
   ]
  },
  {
   "cell_type": "markdown",
   "metadata": {},
   "source": [
    "### 13) WAP to find second largest number in a list."
   ]
  },
  {
   "cell_type": "code",
   "execution_count": null,
   "metadata": {},
   "outputs": [],
   "source": [
    "list = []\n",
    "nList = []\n",
    "\n",
    "n = int(input(\"enter the size of list ::\"))\n",
    "count = 0\n",
    "max = 0;\n",
    "\n",
    "for i in range(0,n):\n",
    "    element = int(input())\n",
    "    list.append(element)\n",
    "\n",
    "\n",
    "for i in list:\n",
    "      if(list[i]>list[i++]):\n",
    "          max = list[i]\n",
    "          nList.append(i)"
   ]
  },
  {
   "cell_type": "markdown",
   "metadata": {},
   "source": [
    "### 14) WAP to extract elements with frequency greater than K."
   ]
  },
  {
   "cell_type": "code",
   "execution_count": null,
   "metadata": {},
   "outputs": [],
   "source": []
  },
  {
   "cell_type": "markdown",
   "metadata": {},
   "source": [
    "### 15) WAP to create a list of squared numbers from 0 to 9 with and without using List Comprehension."
   ]
  },
  {
   "cell_type": "code",
   "execution_count": null,
   "metadata": {},
   "outputs": [],
   "source": []
  },
  {
   "cell_type": "markdown",
   "metadata": {},
   "source": [
    "### 16) WAP to create a new list (fruit whose name starts with 'b') from the list of fruits given by user."
   ]
  },
  {
   "cell_type": "code",
   "execution_count": null,
   "metadata": {},
   "outputs": [],
   "source": []
  },
  {
   "cell_type": "markdown",
   "metadata": {},
   "source": [
    "### 17) WAP to create a list of common elements from given two lists."
   ]
  },
  {
   "cell_type": "code",
   "execution_count": null,
   "metadata": {},
   "outputs": [],
   "source": []
  }
 ],
 "metadata": {
  "kernelspec": {
   "display_name": "Python 3 (ipykernel)",
   "language": "python",
   "name": "python3"
  },
  "language_info": {
   "codemirror_mode": {
    "name": "ipython",
    "version": 3
   },
   "file_extension": ".py",
   "mimetype": "text/x-python",
   "name": "python",
   "nbconvert_exporter": "python",
   "pygments_lexer": "ipython3",
   "version": "3.12.7"
  }
 },
 "nbformat": 4,
 "nbformat_minor": 4
}
