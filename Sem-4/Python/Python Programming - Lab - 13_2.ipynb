{
 "cells": [
  {
   "cell_type": "markdown",
   "metadata": {},
   "source": [
    "<a href='https://www.darshan.ac.in/'> <img src='https://www.darshan.ac.in/Content/media/DU_Logo.svg' width=\"250\" height=\"300\"/></a>\n",
    "<pre>\n",
    "<center><b><h1>Python Programming - 2301CS404</b></center>\n",
    "<center><b><h1>Lab - 13</b></center>    \n",
    "    <center><b><h1>Dhol Namra</b></center>\n",
    "<center><b><h1>23010101407</b></center>\n",
    "    <center><b><h1>10-03-2025</b></center>\n",
    "<pre>"
   ]
  },
  {
   "cell_type": "markdown",
   "metadata": {},
   "source": [
    "## Continued.."
   ]
  },
  {
   "cell_type": "markdown",
   "metadata": {},
   "source": [
    "### 10) Calculate area of a ractangle using object as an argument to a method."
   ]
  },
  {
   "cell_type": "code",
   "execution_count": 3,
   "metadata": {},
   "outputs": [
    {
     "name": "stdout",
     "output_type": "stream",
     "text": [
      "Area of the rectangle: 50\n"
     ]
    }
   ],
   "source": [
    "class Rectangle:\n",
    "    def __init__(self, length, width):\n",
    "        self.length = length\n",
    "        self.width = width\n",
    "\n",
    "    def calculate_area(self):\n",
    "        return self.length * self.width\n",
    "\n",
    "def display_area(rect):\n",
    "    print(f\"Area of the rectangle: {rect.calculate_area()}\")\n",
    "\n",
    "my_rect = Rectangle(10, 5)\n",
    "\n",
    "display_area(my_rect)"
   ]
  },
  {
   "cell_type": "markdown",
   "metadata": {},
   "source": [
    "### 11) Calculate the area of a square. \n",
    "### Include a Constructor, a method to calculate area named area() and a method named output() that prints the output and is invoked by area()."
   ]
  },
  {
   "cell_type": "code",
   "execution_count": 5,
   "metadata": {},
   "outputs": [
    {
     "name": "stdout",
     "output_type": "stream",
     "text": [
      "Area of the square: 36\n"
     ]
    }
   ],
   "source": [
    "class Square:\n",
    "    def __init__(self, side):\n",
    "        self.side = side\n",
    "\n",
    "    def area(self):\n",
    "        area = self.side * self.side\n",
    "        self.output(area)\n",
    "\n",
    "    def output(self, area):\n",
    "        print(f\"Area of the square: {area}\")\n",
    "\n",
    "square = Square(6)\n",
    "\n",
    "square.area()"
   ]
  },
  {
   "cell_type": "markdown",
   "metadata": {},
   "source": [
    "### 12) Calculate the area of a rectangle. \n",
    "### Include a Constructor, a method to calculate area named area() and a method named output() that prints the output and is invoked by area().\n",
    "### Also define a class method that compares the two sides of reactangle. An object is instantiated only if the two sides are different; otherwise a message should be displayed : THIS IS SQUARE."
   ]
  },
  {
   "cell_type": "code",
   "execution_count": 9,
   "metadata": {},
   "outputs": [
    {
     "name": "stdout",
     "output_type": "stream",
     "text": [
      "The area of the rectangle is: 50\n",
      "THIS IS SQUARE\n"
     ]
    }
   ],
   "source": [
    "class Rectangle:\n",
    "    def __init__(self, length, width):\n",
    "        if self.is_square(length, width):\n",
    "            print(\"THIS IS SQUARE\")\n",
    "            self.length = self.width = None  \n",
    "        else:\n",
    "            self.length = length\n",
    "            self.width = width\n",
    "\n",
    "    def area(self):\n",
    "        if self.length is not None and self.width is not None:\n",
    "            area = self.length * self.width\n",
    "            self.output(area)\n",
    "            return area\n",
    "\n",
    "    def output(self, area):\n",
    "        print(f\"The area of the rectangle is: {area}\")\n",
    "\n",
    "    @staticmethod\n",
    "    def is_square(length, width):\n",
    "        return length == width\n",
    "\n",
    "\n",
    "rect1 = Rectangle(5, 10)\n",
    "if rect1.length is not None:\n",
    "    rect1.area()\n",
    "\n",
    "rect2 = Rectangle(8, 8) \n"
   ]
  },
  {
   "cell_type": "markdown",
   "metadata": {},
   "source": [
    "### 13) Define a class Square having a private attribute \"side\". \n",
    "### Implement get_side and set_side methods to accees the private attribute from outside of the class."
   ]
  },
  {
   "cell_type": "code",
   "execution_count": 11,
   "metadata": {},
   "outputs": [
    {
     "name": "stdout",
     "output_type": "stream",
     "text": [
      "Side: 5\n",
      "Updated Side: 10\n",
      "Side length must be positive.\n"
     ]
    }
   ],
   "source": [
    "class Square:\n",
    "    def __init__(self, side):\n",
    "        self._side = side  \n",
    "        \n",
    "    def get_side(self):\n",
    "        return self._side\n",
    "\n",
    "    def set_side(self, side):\n",
    "        if side > 0:\n",
    "            self._side = side\n",
    "        else:\n",
    "            print(\"Side length must be positive.\")\n",
    "\n",
    "sq = Square(5)\n",
    "print(\"Side:\", sq.get_side()) \n",
    "sq.set_side(10) \n",
    "print(\"Updated Side:\", sq.get_side())\n",
    "\n",
    "sq.set_side(-3)  \n"
   ]
  },
  {
   "cell_type": "markdown",
   "metadata": {},
   "source": [
    "### 14) Create a class Profit that has a method named getProfit that accepts profit from the user.\n",
    "### Create a class Loss that has a method named getLoss that accepts loss from the user.\n",
    "### Create a class BalanceSheet that inherits from both classes Profit and Loss and calculates the balanace. It has two methods getBalance() and printBalance()."
   ]
  },
  {
   "cell_type": "code",
   "execution_count": 15,
   "metadata": {},
   "outputs": [
    {
     "name": "stdin",
     "output_type": "stream",
     "text": [
      "Enter the profit:  1000000\n",
      "Enter the loss:  50000\n"
     ]
    },
    {
     "name": "stdout",
     "output_type": "stream",
     "text": [
      "The balance is: 950000.0\n"
     ]
    }
   ],
   "source": [
    "class Profit:\n",
    "    def __init__(self):\n",
    "        self.profit = 0\n",
    "\n",
    "    \n",
    "    def getProfit(self):\n",
    "        self.profit = float(input(\"Enter the profit: \"))\n",
    "\n",
    "class Loss:\n",
    "    def __init__(self):\n",
    "        self.loss = 0\n",
    "\n",
    "    \n",
    "    def getLoss(self):\n",
    "        self.loss = float(input(\"Enter the loss: \"))\n",
    "\n",
    "class BalanceSheet(Profit, Loss):\n",
    "    def __init__(self):\n",
    "        Profit.__init__(self)\n",
    "        Loss.__init__(self)\n",
    "        self.balance = 0\n",
    "\n",
    "    \n",
    "    def getBalance(self):\n",
    "        self.balance = self.profit - self.loss\n",
    "\n",
    "\n",
    "    def printBalance(self):\n",
    "        print(f\"The balance is: {self.balance}\")\n",
    "\n",
    "\n",
    "balance_sheet = BalanceSheet()\n",
    "balance_sheet.getProfit()  \n",
    "balance_sheet.getLoss()    \n",
    "balance_sheet.getBalance() \n",
    "balance_sheet.printBalance()\n"
   ]
  },
  {
   "attachments": {},
   "cell_type": "markdown",
   "metadata": {},
   "source": [
    "### 15) WAP to demonstrate all types of inheritance."
   ]
  },
  {
   "cell_type": "code",
   "execution_count": 13,
   "metadata": {},
   "outputs": [
    {
     "name": "stdout",
     "output_type": "stream",
     "text": [
      "Fruits have different tastes.\n",
      "Mango is yellow.\n",
      "Fruits have different tastes.\n",
      "Mango is yellow.\n",
      "Alphonso mango is small.\n",
      "Fruits have different tastes.\n",
      "Citrus fruits are rich in Vitamin C.\n",
      "Orange has a thick peel.\n",
      "Fruits have different tastes.\n",
      "Apple is round.\n",
      "Fruits have different tastes.\n",
      "Citrus fruits are rich in Vitamin C.\n",
      "Banana gives instant energy.\n"
     ]
    }
   ],
   "source": [
    "\n",
    "class Fruit:\n",
    "    def taste(self):\n",
    "        print(\"Fruits have different tastes.\")\n",
    "\n",
    "class Mango(Fruit):\n",
    "    def color(self):\n",
    "        print(\"Mango is yellow.\")\n",
    "\n",
    "\n",
    "class Alphonso(Mango):  \n",
    "    def size(self):\n",
    "        print(\"Alphonso mango is small.\")\n",
    "\n",
    "\n",
    "class Citrus:\n",
    "    def vitamin_c(self):\n",
    "        print(\"Citrus fruits are rich in Vitamin C.\")\n",
    "\n",
    "class Orange(Fruit, Citrus):  \n",
    "    def peel(self):\n",
    "        print(\"Orange has a thick peel.\")\n",
    "\n",
    "class Apple(Fruit): \n",
    "    def shape(self):\n",
    "        print(\"Apple is round.\")\n",
    "\n",
    "\n",
    "class Banana(Fruit, Citrus): \n",
    "    def energy(self):\n",
    "        print(\"Banana gives instant energy.\")\n",
    "\n",
    "\n",
    "mango = Mango()\n",
    "mango.taste()\n",
    "mango.color()\n",
    "\n",
    "alphonso = Alphonso()\n",
    "alphonso.taste()\n",
    "alphonso.color()\n",
    "alphonso.size()\n",
    "\n",
    "orange = Orange()\n",
    "orange.taste()\n",
    "orange.vitamin_c()\n",
    "orange.peel()\n",
    "\n",
    "apple = Apple()\n",
    "apple.taste()\n",
    "apple.shape()\n",
    "\n",
    "banana = Banana()\n",
    "banana.taste()\n",
    "banana.vitamin_c()\n",
    "banana.energy()\n"
   ]
  },
  {
   "cell_type": "markdown",
   "metadata": {},
   "source": [
    "### 16) Create a Person class with a constructor that takes two arguments name and age. \n",
    "### Create a child class Employee that inherits from Person and adds a new attribute salary. \n",
    "### Override the __init__ method in Employee to call the parent class's __init__ method using the super() and then initialize the salary attribute."
   ]
  },
  {
   "cell_type": "code",
   "execution_count": 23,
   "metadata": {},
   "outputs": [
    {
     "name": "stdout",
     "output_type": "stream",
     "text": [
      "Name: namra, Age: 30\n",
      "Salary: 50000\n"
     ]
    }
   ],
   "source": [
    "class Person:\n",
    "    def __init__(self, name, age):\n",
    "        self.name = name\n",
    "        self.age = age\n",
    "\n",
    "    def display(self):\n",
    "        print(f\"Name: {self.name}, Age: {self.age}\")\n",
    "\n",
    "class Employee(Person):\n",
    "    def __init__(self, name, age, salary):\n",
    "        super().__init__(name, age) \n",
    "        self.salary = salary\n",
    "\n",
    "    def display(self):\n",
    "        super().display()  \n",
    "        print(f\"Salary: {self.salary}\")\n",
    "\n",
    "emp = Employee(\"namra\", 30, 50000)\n",
    "\n",
    "emp.display()\n"
   ]
  },
  {
   "cell_type": "markdown",
   "metadata": {},
   "source": [
    "### 17) Create a Shape class with a draw method that is not implemented. \n",
    "### Create three child classes Rectangle, Circle, and Triangle that implement the draw method with their respective drawing behaviors. \n",
    "### Create a list of Shape objects that includes one instance of each child class, and then iterate through the list and call the draw method on each object."
   ]
  },
  {
   "cell_type": "code",
   "execution_count": 19,
   "metadata": {},
   "outputs": [
    {
     "name": "stdout",
     "output_type": "stream",
     "text": [
      "Drawing a Rectangle \n",
      "Drawing a Circle \n",
      "Drawing a Triangle \n"
     ]
    }
   ],
   "source": [
    "from abc import ABC, abstractmethod\n",
    "\n",
    "class Shape(ABC):\n",
    "    def draw(self):\n",
    "        pass \n",
    "\n",
    "class Rectangle(Shape):\n",
    "    def draw(self):\n",
    "        print(\"Drawing a Rectangle \")\n",
    "\n",
    "class Circle(Shape):\n",
    "    def draw(self):\n",
    "        print(\"Drawing a Circle \")\n",
    "\n",
    "class Triangle(Shape):\n",
    "    def draw(self):\n",
    "        print(\"Drawing a Triangle \")\n",
    "\n",
    "shapes = [Rectangle(), Circle(), Triangle()]\n",
    "\n",
    "for shape in shapes:\n",
    "    shape.draw()\n"
   ]
  },
  {
   "cell_type": "code",
   "execution_count": null,
   "metadata": {},
   "outputs": [],
   "source": []
  }
 ],
 "metadata": {
  "kernelspec": {
   "display_name": "Python 3 (ipykernel)",
   "language": "python",
   "name": "python3"
  },
  "language_info": {
   "codemirror_mode": {
    "name": "ipython",
    "version": 3
   },
   "file_extension": ".py",
   "mimetype": "text/x-python",
   "name": "python",
   "nbconvert_exporter": "python",
   "pygments_lexer": "ipython3",
   "version": "3.12.7"
  }
 },
 "nbformat": 4,
 "nbformat_minor": 4
}
