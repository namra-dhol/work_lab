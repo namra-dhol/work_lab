{
 "cells": [
  {
   "cell_type": "markdown",
   "metadata": {},
   "source": [
    "<a href='https://www.darshan.ac.in/'> <img src='https://www.darshan.ac.in/Content/media/DU_Logo.svg' width=\"250\" height=\"300\"/></a>\n",
    "<pre>\n",
    "<center><b><h1>Python Programming - 2301CS404</b></center>\n",
    "<center><b><h1>Lab - 13</b></center> \n",
    "<center><b><h1>Dhol Namra</b></center>\n",
    "<center><b><h1>Enroll:23010101407</b></center>\n",
    "<center><b><h1>03-03-2025</b></center>\n",
    "<pre>"
   ]
  },
  {
   "cell_type": "markdown",
   "metadata": {},
   "source": [
    "# OOP"
   ]
  },
  {
   "cell_type": "markdown",
   "metadata": {},
   "source": [
    "### 01) Write a Program to create a class by name Students, and initialize attributes like name, age, and grade while creating an object."
   ]
  },
  {
   "cell_type": "code",
   "execution_count": 2,
   "metadata": {},
   "outputs": [
    {
     "name": "stdout",
     "output_type": "stream",
     "text": [
      "Name = Yash\n",
      "Age = 19\n",
      "Grade = A++\n"
     ]
    }
   ],
   "source": [
    "class Students:\n",
    "    def __init__(self,name,age,grade):\n",
    "        self.name = name\n",
    "        self.age = age\n",
    "        self.grade = grade\n",
    "\n",
    "stu = Students(\"Yash\",19,\"A++\")\n",
    "\n",
    "print(\"Name =\",stu.name)\n",
    "print(\"Age =\",stu.age)\n",
    "print(\"Grade =\",stu.grade)"
   ]
  },
  {
   "cell_type": "markdown",
   "metadata": {},
   "source": [
    "### 02) Create a class named Bank_Account with Account_No, User_Name, Email,Account_Type and Account_Balance data members. Also create a method GetAccountDetails() and DisplayAccountDetails(). Create main method to demonstrate the Bank_Account class."
   ]
  },
  {
   "cell_type": "code",
   "execution_count": 6,
   "metadata": {},
   "outputs": [
    {
     "name": "stdout",
     "output_type": "stream",
     "text": [
      "Account_No : 23010101169\n",
      "User_Name : Yash\n",
      "Email : yash@gmail.com\n",
      "Account_Type : Saving\n",
      "Account_Balance : 3005000\n"
     ]
    }
   ],
   "source": [
    "class Bank_Account:\n",
    "    def __init__(self, Account_No, User_Name, Email, Account_Type, Account_Balance):\n",
    "        self.Account_No = Account_No\n",
    "        self.User_Name = User_Name\n",
    "        self.Email = Email\n",
    "        self.Account_Type = Account_Type\n",
    "        self.Account_Balance = Account_Balance\n",
    "\n",
    "    def GetAccountDetails(self):\n",
    "        return {\n",
    "            \"Account_No\" : self.Account_No,\n",
    "            \"User_Name\" : self.User_Name,\n",
    "            \"Email\" : self.Email,\n",
    "            \"Account_Type\" : self.Account_Type,\n",
    "            \"Account_Balance\" : self.Account_Balance\n",
    "        }\n",
    "\n",
    "    def DisplayAccountDetails(self):\n",
    "        Account_Details = self.GetAccountDetails()\n",
    "        for key, value in Account_Details.items():\n",
    "            print(f\"{key} : {value}\")\n",
    "\n",
    "Account = Bank_Account(23010101169, \"Yash\", \"yash@gmail.com\", \"Saving\",3005000)\n",
    "Account.DisplayAccountDetails()"
   ]
  },
  {
   "cell_type": "markdown",
   "metadata": {},
   "source": [
    "### 03) WAP to create Circle class with area and perimeter function to find area and perimeter of circle."
   ]
  },
  {
   "cell_type": "code",
   "execution_count": 15,
   "metadata": {},
   "outputs": [
    {
     "name": "stdout",
     "output_type": "stream",
     "text": [
      "Area : 78.53981633974483\n",
      "Perimeter : 31.41592653589793\n"
     ]
    }
   ],
   "source": [
    "import math\n",
    "\n",
    "class circle:\n",
    "    def __init__(self,radius):\n",
    "        self.radius = radius\n",
    "\n",
    "    def area(self):\n",
    "        return math.pi * (self.radius ** 2)\n",
    "\n",
    "    def perimeter(self):\n",
    "        return 2 * math.pi * self.radius\n",
    "\n",
    "circle = circle(5)\n",
    "print(\"Area :\",circle.area())\n",
    "print(\"Perimeter :\",circle.perimeter())"
   ]
  },
  {
   "cell_type": "markdown",
   "metadata": {},
   "source": [
    "### 04) Create a class for employees that includes attributes such as name, age, salary, and methods to update and display employee information."
   ]
  },
  {
   "cell_type": "code",
   "execution_count": 21,
   "metadata": {},
   "outputs": [
    {
     "name": "stdout",
     "output_type": "stream",
     "text": [
      "Name = Yash\n",
      "Age = 19\n",
      "Salary = 250000\n",
      "----------------------\n",
      "Name = Yash\n",
      "Age = 22\n",
      "Salary = 150000\n"
     ]
    }
   ],
   "source": [
    "class Employee:\n",
    "    def __init__(self, name, age, salary):\n",
    "        self.name = name\n",
    "        self.age = age\n",
    "        self.salary = salary\n",
    "\n",
    "    def update_salary(self,new_salary):\n",
    "        self.salary = new_salary\n",
    "\n",
    "    def update_age(self, new_age):\n",
    "        self.age = new_age\n",
    "\n",
    "    def display_information(self):\n",
    "        print(\"Name =\",self.name)\n",
    "        print(\"Age =\",self.age)\n",
    "        print(\"Salary =\",self.salary)\n",
    "\n",
    "employee = Employee(\"Yash\",19,250000)\n",
    "employee.display_information()\n",
    "print(\"----------------------\")\n",
    "\n",
    "employee.update_salary(150000)\n",
    "employee.update_age(22)\n",
    "employee.display_information()"
   ]
  },
  {
   "cell_type": "markdown",
   "metadata": {},
   "source": [
    "### 05) Create a bank account class with methods to deposit, withdraw, and check balance."
   ]
  },
  {
   "cell_type": "code",
   "execution_count": 25,
   "metadata": {},
   "outputs": [],
   "source": [
    "class BankAccount:  \n",
    "    def __init__(self, initial_balance=0):  \n",
    "        self.balance = initial_balance  \n",
    "\n",
    "    def deposit(self, amount):  \n",
    "        if amount > 0:  \n",
    "            self.balance += amount  \n",
    "            print(f\"Deposited {amount}. New balance is {self.balance}.\")  \n",
    "        else:  \n",
    "            print(\"Enter Positive Deposit Amount.\")  \n",
    "\n",
    "    def withdraw(self, amount):  \n",
    "        if amount > 0 and amount <= self.balance:  \n",
    "            self.balance -= amount  \n",
    "            print(f\"Withdrew {amount}. New balance is {self.balance}.\")  \n",
    "        else:  \n",
    "            print(\"Invalid withdrawal amount or insufficient balance.\")  \n",
    "\n",
    "    def check_balance(self):  \n",
    "        print(f\"Your current balance is {self.balance}.\")\n",
    "\n"
   ]
  },
  {
   "cell_type": "markdown",
   "metadata": {},
   "source": [
    "### 06) Create a class for managing inventory that includes attributes such as item name, price, quantity, and methods to add, remove, and update items."
   ]
  },
  {
   "cell_type": "code",
   "execution_count": 26,
   "metadata": {},
   "outputs": [],
   "source": [
    "class InventoryItem:  \n",
    "    def __init__(self, name, price, quantity):  \n",
    "        self.name = name  \n",
    "        self.price = price  \n",
    "        self.quantity = quantity  \n",
    "\n",
    "    def add(self, amount):  \n",
    "        self.quantity += amount  \n",
    "\n",
    "    def remove(self, amount):  \n",
    "        if amount <= self.quantity:  \n",
    "            self.quantity -= amount  \n",
    "        else:  \n",
    "            print(\"Not enough items to remove.\")  \n",
    "\n",
    "    def update_price(self, new_price):  \n",
    "        self.price = new_price  \n",
    "\n",
    "    def __str__(self):  \n",
    "        return f\"Item: {self.name}, Price: {self.price}, Quantity: {self.quantity}\"  "
   ]
  },
  {
   "cell_type": "markdown",
   "metadata": {},
   "source": [
    "### 07) Create a Class with instance attributes of your choice."
   ]
  },
  {
   "cell_type": "code",
   "execution_count": 27,
   "metadata": {},
   "outputs": [
    {
     "name": "stdout",
     "output_type": "stream",
     "text": [
      "Lucky\n",
      "Golden Retriever\n",
      "3\n"
     ]
    }
   ],
   "source": [
    "class Dog:  \n",
    "    def __init__(self, name, breed, age):  \n",
    "        self.name = name  \n",
    "        self.breed = breed \n",
    "        self.age = age\n",
    "\n",
    "my_dog = Dog(\"Lucky\", \"Golden Retriever\", 3)  \n",
    "\n",
    "print(my_dog.name)\n",
    "print(my_dog.breed)  \n",
    "print(my_dog.age)"
   ]
  },
  {
   "cell_type": "markdown",
   "metadata": {},
   "source": [
    "### 08) Create one class student_kit\n",
    "#### Within the student_kit class create one class attribute principal name ( Mr ABC )\n",
    "#### Create one attendance method and take input as number of days.\n",
    "#### While creating student take input their name .\n",
    "#### Create one certificate for each student by taking input of number of days present in class."
   ]
  },
  {
   "cell_type": "code",
   "execution_count": 2,
   "metadata": {},
   "outputs": [
    {
     "name": "stdin",
     "output_type": "stream",
     "text": [
      "Enter student name:  demo\n",
      "Enter number of days present:  50\n"
     ]
    },
    {
     "name": "stdout",
     "output_type": "stream",
     "text": [
      "Attendance recorded: demo attended 50 days.\n",
      "\n",
      "\n",
      "        Certificate of Attendance\n",
      "\n",
      "        This is to certify that demo has attended 50 days of classes.\n",
      "        \n",
      "        Principal: Mr ABC\n",
      "\n",
      "        \n"
     ]
    }
   ],
   "source": [
    "class StudentKit:\n",
    "    # Class attribute\n",
    "    principal_name = \"Mr ABC\"\n",
    "\n",
    "    def __init__(self, student_name):\n",
    "        self.student_name = student_name\n",
    "\n",
    "    def attendance(self, days_present):\n",
    "        self.days_present = days_present\n",
    "        print(f\"Attendance recorded: {self.student_name} attended {days_present} days.\")\n",
    "\n",
    "    def generate_certificate(self):\n",
    "        certificate = f\"\"\"\n",
    "\n",
    "        Certificate of Attendance\n",
    "\n",
    "        This is to certify that {self.student_name} has attended {self.days_present} days of classes.\n",
    "        \n",
    "        Principal: {StudentKit.principal_name}\n",
    "\n",
    "        \"\"\"\n",
    "        print(certificate)\n",
    "\n",
    "# Taking input for student name\n",
    "student_name = input(\"Enter student name: \")\n",
    "student = StudentKit(student_name)\n",
    "\n",
    "# Taking input for attendance days\n",
    "days_present = int(input(\"Enter number of days present: \"))\n",
    "student.attendance(days_present)\n",
    "\n",
    "# Generating certificate\n",
    "student.generate_certificate()\n"
   ]
  },
  {
   "cell_type": "markdown",
   "metadata": {},
   "source": [
    "### 09) Define Time class with hour and minute as data member. Also define addition method to add two time objects."
   ]
  },
  {
   "cell_type": "code",
   "execution_count": 4,
   "metadata": {},
   "outputs": [
    {
     "name": "stdout",
     "output_type": "stream",
     "text": [
      "Resultant Time: 13:15\n"
     ]
    }
   ],
   "source": [
    "class Time:\n",
    "    def __init__(self, hour, minute):\n",
    "        self.hour = hour\n",
    "        self.minute = minute\n",
    "\n",
    "    def add(self, other):\n",
    "        total_minutes = self.minute + other.minute\n",
    "        total_hours = self.hour + other.hour + (total_minutes // 60)\n",
    "        total_minutes %= 60\n",
    "        total_hours %= 24 \n",
    "\n",
    "        return Time(total_hours, total_minutes)\n",
    "\n",
    "    def display(self):\n",
    "        print(f\"{self.hour:02d}:{self.minute:02d}\")\n",
    "\n",
    "# Example usage\n",
    "t1 = Time(10, 45)\n",
    "t2 = Time(2, 30)\n",
    "\n",
    "result = t1.add(t2)\n",
    "print(\"Resultant Time:\", end=\" \")\n",
    "result.display()\n"
   ]
  },
  {
   "cell_type": "code",
   "execution_count": null,
   "metadata": {},
   "outputs": [],
   "source": []
  }
 ],
 "metadata": {
  "kernelspec": {
   "display_name": "Python 3 (ipykernel)",
   "language": "python",
   "name": "python3"
  },
  "language_info": {
   "codemirror_mode": {
    "name": "ipython",
    "version": 3
   },
   "file_extension": ".py",
   "mimetype": "text/x-python",
   "name": "python",
   "nbconvert_exporter": "python",
   "pygments_lexer": "ipython3",
   "version": "3.12.7"
  }
 },
 "nbformat": 4,
 "nbformat_minor": 4
}
