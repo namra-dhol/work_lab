{
 "cells": [
  {
   "cell_type": "markdown",
   "metadata": {},
   "source": [
    "<a href='https://www.darshan.ac.in/'> <img src='https://www.darshan.ac.in/Content/media/DU_Logo.svg' width=\"250\" height=\"300\"/></a>\n",
    "<pre>\n",
    "<center><b><h1>Python Programming - 2301CS404</b></center>\n",
    "<center><b><h1>Lab - 7</b></center>    \n",
    "<center><b><h1>Dhol Namra</b></center>\n",
    "<center><b><h1>23010101407</b></center>\n",
    "<center><b><h1>06-01-1025</b></center>\n",
    "<pre>"
   ]
  },
  {
   "cell_type": "markdown",
   "metadata": {},
   "source": [
    "# Set & Dictionary"
   ]
  },
  {
   "cell_type": "markdown",
   "metadata": {},
   "source": [
    "### 01) WAP to iterate over a set."
   ]
  },
  {
   "cell_type": "code",
   "execution_count": 10,
   "metadata": {},
   "outputs": [
    {
     "name": "stdin",
     "output_type": "stream",
     "text": [
      "Enter size of set 3\n",
      "Enter set Element 1\n",
      "Enter set Element 2\n",
      "Enter set Element 3\n"
     ]
    },
    {
     "name": "stdout",
     "output_type": "stream",
     "text": [
      "2\n",
      "3\n",
      "1\n"
     ]
    }
   ],
   "source": [
    "size = int(input(\"Enter size of set\"))\n",
    "s1=set({})\n",
    "for i in range(size):\n",
    "    s1.add(input(\"Enter set Element\"))\n",
    "for i in s1:\n",
    "    print(i)"
   ]
  },
  {
   "cell_type": "markdown",
   "metadata": {},
   "source": [
    "### 02) WAP to convert set into list, string and tuple."
   ]
  },
  {
   "cell_type": "code",
   "execution_count": 19,
   "metadata": {},
   "outputs": [
    {
     "name": "stdin",
     "output_type": "stream",
     "text": [
      "Enter size of set 4\n",
      "Enter set Element 1\n",
      "Enter set Element 2\n",
      "Enter set Element 3\n",
      "Enter set Element 4\n"
     ]
    },
    {
     "name": "stdout",
     "output_type": "stream",
     "text": [
      "{'2', '3', '4', '1'}\n",
      "['2', '3', '4', '1']\n",
      "('2', '3', '4', '1')\n"
     ]
    }
   ],
   "source": [
    "size = int(input(\"Enter size of set\"))\n",
    "s1=set({})\n",
    "for i in range(size):\n",
    "    s1.add(input(\"Enter set Element\"))\n",
    "print(s1)\n",
    "l1 = list(s1)\n",
    "print(l1)\n",
    "t1 = tuple(s1)\n",
    "print(t1)"
   ]
  },
  {
   "cell_type": "markdown",
   "metadata": {},
   "source": [
    "### 03) WAP to find Maximum and Minimum from a set."
   ]
  },
  {
   "cell_type": "code",
   "execution_count": 17,
   "metadata": {},
   "outputs": [
    {
     "name": "stdout",
     "output_type": "stream",
     "text": [
      "Maximum: 98\n",
      "Minimum: 12\n"
     ]
    }
   ],
   "source": [
    "s1 = {22,34,12,98,34,88,67}\n",
    "print(\"Maximum:\",max(s1))\n",
    "print(\"Minimum:\",min(s1))"
   ]
  },
  {
   "cell_type": "markdown",
   "metadata": {},
   "source": [
    "### 04) WAP to perform union of two sets."
   ]
  },
  {
   "cell_type": "code",
   "execution_count": 20,
   "metadata": {},
   "outputs": [
    {
     "name": "stdout",
     "output_type": "stream",
     "text": [
      "{1, 2, 3, 4, 5, 6, 7, 8, 9, 10}\n"
     ]
    }
   ],
   "source": [
    "s1={1,2,3,4,5}\n",
    "s2={6,7,8,9,10}\n",
    "\n",
    "ans = s1.union(s2)\n",
    "print(ans)"
   ]
  },
  {
   "cell_type": "markdown",
   "metadata": {},
   "source": [
    "### 05) WAP to check if two lists have at-least one element common."
   ]
  },
  {
   "cell_type": "code",
   "execution_count": 24,
   "metadata": {},
   "outputs": [
    {
     "name": "stdout",
     "output_type": "stream",
     "text": [
      "[1, 4, 5]\n"
     ]
    }
   ],
   "source": [
    "l1=[1,2,3,4,5,6]\n",
    "l2=[10,4,7,19,1,5]\n",
    "\n",
    "s1 = set(l1)\n",
    "s2 = set(l2)\n",
    "\n",
    "ans = s1.intersection(s2)\n",
    "print(list(ans))"
   ]
  },
  {
   "cell_type": "markdown",
   "metadata": {},
   "source": [
    "### 06) WAP to remove duplicates from list."
   ]
  },
  {
   "cell_type": "code",
   "execution_count": 28,
   "metadata": {},
   "outputs": [
    {
     "name": "stdout",
     "output_type": "stream",
     "text": [
      "{1, 2, 3, 4, 5, 6}\n"
     ]
    }
   ],
   "source": [
    "l1 = [1,1,2,2,3,3,4,4,5,5,6,6,5]\n",
    "s1 = set(l1)\n",
    "print(set(l1))"
   ]
  },
  {
   "cell_type": "markdown",
   "metadata": {},
   "source": [
    "### 07) WAP to find unique words in the given string."
   ]
  },
  {
   "cell_type": "code",
   "execution_count": 33,
   "metadata": {},
   "outputs": [
    {
     "name": "stdout",
     "output_type": "stream",
     "text": [
      "{'Is', 'Red,', 'Apple', 'Fruit', 'Red'}\n"
     ]
    }
   ],
   "source": [
    "st = \"Apple Is Red, Apple Is Red Fruit\"\n",
    "words = st.split()\n",
    "unique_words = set(words)\n",
    "print(unique_words)"
   ]
  },
  {
   "cell_type": "markdown",
   "metadata": {},
   "source": [
    "### 08) WAP to remove common elements of set A & B from set A."
   ]
  },
  {
   "cell_type": "code",
   "execution_count": 34,
   "metadata": {},
   "outputs": [
    {
     "name": "stdout",
     "output_type": "stream",
     "text": [
      "{9, 3, 4, 6}\n"
     ]
    }
   ],
   "source": [
    "a={1,3,2,6,4,9,4}\n",
    "b={5,2,8,5,1,7,2}\n",
    "print(a-b)"
   ]
  },
  {
   "cell_type": "markdown",
   "metadata": {},
   "source": [
    "### 09) WAP to check whether two given strings are anagram or not using set."
   ]
  },
  {
   "cell_type": "code",
   "execution_count": 46,
   "metadata": {},
   "outputs": [
    {
     "name": "stdout",
     "output_type": "stream",
     "text": [
      "{'p', 'l', 'a', 'e'} {'p', 'l', 'a', 'e'}\n",
      "Anagram\n"
     ]
    }
   ],
   "source": [
    "s1 = \"apple\"\n",
    "s2 = \"pale\"\n",
    "ans1=set({})\n",
    "ans2=set({})\n",
    "for i in s1:\n",
    "    ans1.add(i)\n",
    "for i in s2:\n",
    "    ans2.add(i)\n",
    "print(ans1,ans2)\n",
    "if(ans1==ans2):\n",
    "    print(\"Anagram\")\n",
    "else:\n",
    "    print(\"Not Anagram\")"
   ]
  },
  {
   "cell_type": "markdown",
   "metadata": {},
   "source": [
    "### 10) WAP to find common elements in three lists using set."
   ]
  },
  {
   "cell_type": "code",
   "execution_count": 38,
   "metadata": {},
   "outputs": [
    {
     "name": "stdout",
     "output_type": "stream",
     "text": [
      "[4, 6]\n"
     ]
    }
   ],
   "source": [
    "l1 = [1,2,3,4,5,6]\n",
    "l2 = [2,6,0,9,11,4]\n",
    "l3 = [6,1,9,0,4,21,5]\n",
    "\n",
    "s1 = set(l1)\n",
    "s2 = set(l2)\n",
    "s3 = set(l3)\n",
    "\n",
    "ans1 = s1.intersection(s2)\n",
    "ans2 = ans1.intersection(s3)\n",
    "print(list(ans2))"
   ]
  },
  {
   "cell_type": "markdown",
   "metadata": {},
   "source": [
    "### 11) WAP to count number of vowels in given string using set."
   ]
  },
  {
   "cell_type": "code",
   "execution_count": 40,
   "metadata": {},
   "outputs": [
    {
     "name": "stdout",
     "output_type": "stream",
     "text": [
      "2\n"
     ]
    }
   ],
   "source": [
    "s1='Rutvik'\n",
    "vowel = {'a','e','i','o','u','A','E','I','O','U'}\n",
    "vcount = 0\n",
    "for i in s1:\n",
    "    if (i in vowel):\n",
    "        vcount+=1\n",
    "print(vcount)"
   ]
  },
  {
   "cell_type": "markdown",
   "metadata": {},
   "source": [
    "### 12) WAP to check if a given string is binary string or not."
   ]
  },
  {
   "cell_type": "code",
   "execution_count": 49,
   "metadata": {},
   "outputs": [
    {
     "name": "stdout",
     "output_type": "stream",
     "text": [
      "String is Binary\n"
     ]
    }
   ],
   "source": [
    "st = '1010101011'\n",
    "bi = {'0','1'}\n",
    "isBinary = True\n",
    "for i in st:\n",
    "    if i not in bi:\n",
    "        isBinary = False\n",
    "if(isBinary):\n",
    "    print(\"String is Binary\")\n",
    "else:\n",
    "    print(\"String is Not Binary\")"
   ]
  },
  {
   "cell_type": "markdown",
   "metadata": {},
   "source": [
    "### 13) WAP to sort dictionary by key or value."
   ]
  },
  {
   "cell_type": "code",
   "execution_count": 5,
   "metadata": {},
   "outputs": [
    {
     "name": "stdout",
     "output_type": "stream",
     "text": [
      "Sorted by keys: {'meet': 92, 'rishabh': 73, 'rutvik': 21, 'smit': 54, 'yash': 2}\n",
      "Sorted by values: {'yash': 2, 'rutvik': 21, 'smit': 54, 'rishabh': 73, 'meet': 92}\n"
     ]
    }
   ],
   "source": [
    "d1 = {\"rutvik\":21,\"rishabh\":73,\"yash\":2,\"smit\":54,\"meet\":92}\n",
    "sorted_key = dict(sorted(d1.items())) #because it will gives output in list of tuple so convert into dictionary\n",
    "sorted_value = dict(sorted(d1.items(),key=lambda x:x[1]))\n",
    "print(\"Sorted by keys:\",sorted_key)\n",
    "print(\"Sorted by values:\",sorted_value)"
   ]
  },
  {
   "cell_type": "markdown",
   "metadata": {},
   "source": [
    "### 14) WAP to find the sum of all items (values) in a dictionary given by user. (Assume: values are numeric)"
   ]
  },
  {
   "cell_type": "code",
   "execution_count": 7,
   "metadata": {},
   "outputs": [
    {
     "name": "stdout",
     "output_type": "stream",
     "text": [
      "38\n"
     ]
    }
   ],
   "source": [
    "d1 = {'a':1,'c':3,'f':6,'r':18,'j':10}\n",
    "sum_values = sum(d1.values())\n",
    "print(sum_values)"
   ]
  },
  {
   "cell_type": "markdown",
   "metadata": {},
   "source": [
    "### 15) WAP to handle missing keys in dictionaries.\n",
    "#### Example : Given, dict1 = {'a': 5, 'c': 8, 'e': 2} \n",
    "#### if you look for key = 'd', the message given should be 'Key Not Found', otherwise print the value of 'd' in dict1."
   ]
  },
  {
   "cell_type": "code",
   "execution_count": 9,
   "metadata": {},
   "outputs": [
    {
     "name": "stdin",
     "output_type": "stream",
     "text": [
      "Enter your key: w\n"
     ]
    },
    {
     "name": "stdout",
     "output_type": "stream",
     "text": [
      "Key is not found\n"
     ]
    }
   ],
   "source": [
    "d1 = {'k':12,'f':34,'s':56,'q':89,'r':87,'u':21,'v':9}\n",
    "key = input(\"Enter your key:\")\n",
    "if key in d1:\n",
    "    print(\"Key is \",key,\" and value is \",d1[key])\n",
    "else:\n",
    "    print(\"Key is not found\")"
   ]
  }
 ],
 "metadata": {
  "kernelspec": {
   "display_name": "Python 3 (ipykernel)",
   "language": "python",
   "name": "python3"
  },
  "language_info": {
   "codemirror_mode": {
    "name": "ipython",
    "version": 3
   },
   "file_extension": ".py",
   "mimetype": "text/x-python",
   "name": "python",
   "nbconvert_exporter": "python",
   "pygments_lexer": "ipython3",
   "version": "3.12.7"
  }
 },
 "nbformat": 4,
 "nbformat_minor": 4
}
