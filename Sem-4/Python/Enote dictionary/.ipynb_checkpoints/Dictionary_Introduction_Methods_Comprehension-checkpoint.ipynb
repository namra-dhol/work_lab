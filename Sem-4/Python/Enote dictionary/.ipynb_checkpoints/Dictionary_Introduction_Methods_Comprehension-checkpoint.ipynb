{
 "cells": [
  {
   "cell_type": "markdown",
   "id": "d641a109-7065-4b04-8d2c-c5c6f14b5499",
   "metadata": {},
   "source": [
    "## Dictionary"
   ]
  },
  {
   "cell_type": "code",
   "execution_count": 1,
   "id": "fbcb20db-07c3-49e3-bb51-0ae315b5003e",
   "metadata": {},
   "outputs": [],
   "source": [
    "d1 = {} # Empty Dictionary"
   ]
  },
  {
   "cell_type": "code",
   "execution_count": 3,
   "id": "84a59b1d-9437-4437-9918-b2d099526f30",
   "metadata": {},
   "outputs": [
    {
     "data": {
      "text/plain": [
       "dict"
      ]
     },
     "execution_count": 3,
     "metadata": {},
     "output_type": "execute_result"
    }
   ],
   "source": [
    "type(d1)"
   ]
  },
  {
   "cell_type": "code",
   "execution_count": 5,
   "id": "11af8c00-dfc6-46d7-98dd-fc751afa5bc2",
   "metadata": {},
   "outputs": [],
   "source": [
    "d1 = dict()"
   ]
  },
  {
   "cell_type": "code",
   "execution_count": 7,
   "id": "aa383e87-04fd-406b-8d45-1d87a4fc5696",
   "metadata": {},
   "outputs": [
    {
     "data": {
      "text/plain": [
       "dict"
      ]
     },
     "execution_count": 7,
     "metadata": {},
     "output_type": "execute_result"
    }
   ],
   "source": [
    "type(d1)"
   ]
  },
  {
   "cell_type": "code",
   "execution_count": 9,
   "id": "9ca78940-f716-47ac-b003-6b64e08fa0bc",
   "metadata": {},
   "outputs": [
    {
     "data": {
      "text/plain": [
       "{}"
      ]
     },
     "execution_count": 9,
     "metadata": {},
     "output_type": "execute_result"
    }
   ],
   "source": [
    "d1"
   ]
  },
  {
   "cell_type": "code",
   "execution_count": 11,
   "id": "e07e6d99-fc61-42b9-8d93-6b9aaa881332",
   "metadata": {},
   "outputs": [],
   "source": [
    "d1['name'] = 'Ajay'  # Add an element"
   ]
  },
  {
   "cell_type": "code",
   "execution_count": 13,
   "id": "d0af4936-5b58-48ed-b273-9b24fb5bac58",
   "metadata": {},
   "outputs": [
    {
     "data": {
      "text/plain": [
       "{'name': 'Ajay'}"
      ]
     },
     "execution_count": 13,
     "metadata": {},
     "output_type": "execute_result"
    }
   ],
   "source": [
    "d1"
   ]
  },
  {
   "cell_type": "code",
   "execution_count": 15,
   "id": "04e527cd-030a-4968-95b8-fcdddb8e45ae",
   "metadata": {},
   "outputs": [],
   "source": [
    "d1['rollno'] = 101"
   ]
  },
  {
   "cell_type": "code",
   "execution_count": 17,
   "id": "2505113a-e66b-461d-bf5f-4bdf8d65e039",
   "metadata": {},
   "outputs": [
    {
     "data": {
      "text/plain": [
       "{'name': 'Ajay', 'rollno': 101}"
      ]
     },
     "execution_count": 17,
     "metadata": {},
     "output_type": "execute_result"
    }
   ],
   "source": [
    "d1"
   ]
  },
  {
   "cell_type": "code",
   "execution_count": 19,
   "id": "cc4b1392-5a73-40db-92d1-974a8736122b",
   "metadata": {},
   "outputs": [],
   "source": [
    "d1['spi'] = 8.9"
   ]
  },
  {
   "cell_type": "code",
   "execution_count": 21,
   "id": "aa987902-0695-4d6a-a33d-180189176a02",
   "metadata": {},
   "outputs": [
    {
     "data": {
      "text/plain": [
       "{'name': 'Ajay', 'rollno': 101, 'spi': 8.9}"
      ]
     },
     "execution_count": 21,
     "metadata": {},
     "output_type": "execute_result"
    }
   ],
   "source": [
    "d1"
   ]
  },
  {
   "cell_type": "code",
   "execution_count": 25,
   "id": "2f2f34dd-8b8c-4677-880d-7b08e13f9a94",
   "metadata": {},
   "outputs": [
    {
     "ename": "KeyError",
     "evalue": "0",
     "output_type": "error",
     "traceback": [
      "\u001b[1;31m---------------------------------------------------------------------------\u001b[0m",
      "\u001b[1;31mKeyError\u001b[0m                                  Traceback (most recent call last)",
      "Cell \u001b[1;32mIn[25], line 1\u001b[0m\n\u001b[1;32m----> 1\u001b[0m d1[\u001b[38;5;241m0\u001b[39m]\n",
      "\u001b[1;31mKeyError\u001b[0m: 0"
     ]
    }
   ],
   "source": [
    "d1[0]  # can't be accessed using index"
   ]
  },
  {
   "cell_type": "code",
   "execution_count": 27,
   "id": "94f15248-11b4-4c24-9e12-3999c926f2cf",
   "metadata": {},
   "outputs": [
    {
     "data": {
      "text/plain": [
       "'Ajay'"
      ]
     },
     "execution_count": 27,
     "metadata": {},
     "output_type": "execute_result"
    }
   ],
   "source": [
    "d1['name'] # can be accessed using key"
   ]
  },
  {
   "cell_type": "code",
   "execution_count": 29,
   "id": "4dfb307e-4017-4a5e-9b13-1478ed8ad5d3",
   "metadata": {},
   "outputs": [],
   "source": [
    "d1['rollno'] = 102  # update the value using key"
   ]
  },
  {
   "cell_type": "code",
   "execution_count": 31,
   "id": "982db5c1-312b-469b-9194-d218ae9bcea9",
   "metadata": {},
   "outputs": [
    {
     "data": {
      "text/plain": [
       "{'name': 'Ajay', 'rollno': 102, 'spi': 8.9}"
      ]
     },
     "execution_count": 31,
     "metadata": {},
     "output_type": "execute_result"
    }
   ],
   "source": [
    "d1"
   ]
  },
  {
   "cell_type": "code",
   "execution_count": 33,
   "id": "d288912e-4ac7-4967-b92d-7d03531da5d8",
   "metadata": {},
   "outputs": [],
   "source": [
    "d1['fname'] = 'Ajay'"
   ]
  },
  {
   "cell_type": "code",
   "execution_count": 35,
   "id": "6210fa57-e082-4b7c-82d7-86ebf5ecf4fa",
   "metadata": {},
   "outputs": [
    {
     "data": {
      "text/plain": [
       "{'name': 'Ajay', 'rollno': 102, 'spi': 8.9, 'fname': 'Ajay'}"
      ]
     },
     "execution_count": 35,
     "metadata": {},
     "output_type": "execute_result"
    }
   ],
   "source": [
    "d1"
   ]
  },
  {
   "cell_type": "code",
   "execution_count": 37,
   "id": "e83ffc8e-9822-4583-a94b-47a4b70fedc2",
   "metadata": {},
   "outputs": [],
   "source": [
    "d2 = {101:'Ajay', 102:'Riya', 103:'Keyur', 104:'Shreya'}"
   ]
  },
  {
   "cell_type": "code",
   "execution_count": 39,
   "id": "828267f9-fec2-48e8-bcbb-9a164c0d45ed",
   "metadata": {},
   "outputs": [
    {
     "data": {
      "text/plain": [
       "{101: 'Ajay', 102: 'Riya', 103: 'Keyur', 104: 'Shreya'}"
      ]
     },
     "execution_count": 39,
     "metadata": {},
     "output_type": "execute_result"
    }
   ],
   "source": [
    "d2"
   ]
  },
  {
   "cell_type": "code",
   "execution_count": 41,
   "id": "73741bf9-6364-467c-9f24-3cf6b5412374",
   "metadata": {},
   "outputs": [
    {
     "name": "stdout",
     "output_type": "stream",
     "text": [
      "101 Ajay\n",
      "102 Riya\n",
      "103 Keyur\n",
      "104 Shreya\n"
     ]
    }
   ],
   "source": [
    "for i in d2:\n",
    "    print(i, d2[i])"
   ]
  },
  {
   "cell_type": "code",
   "execution_count": 43,
   "id": "7b77984e-4b22-4948-9d64-91271b7c8693",
   "metadata": {},
   "outputs": [
    {
     "name": "stdout",
     "output_type": "stream",
     "text": [
      "101 Ajay\n",
      "102 Riya\n",
      "103 Keyur\n",
      "104 Shreya\n"
     ]
    }
   ],
   "source": [
    "for i in d2:\n",
    "    print(i, d2.get(i))"
   ]
  },
  {
   "cell_type": "markdown",
   "id": "64660bcc-3042-4d23-9299-b39411c0dc46",
   "metadata": {},
   "source": [
    "### keys()"
   ]
  },
  {
   "cell_type": "code",
   "execution_count": 46,
   "id": "6677b4ca-6fa7-4d18-b2e3-996bfd2c8fc3",
   "metadata": {},
   "outputs": [
    {
     "name": "stdout",
     "output_type": "stream",
     "text": [
      "101 Ajay\n",
      "102 Riya\n",
      "103 Keyur\n",
      "104 Shreya\n"
     ]
    }
   ],
   "source": [
    "for i in d2.keys():\n",
    "    print(i, d2[i])"
   ]
  },
  {
   "cell_type": "markdown",
   "id": "a54089a0-8e7b-4043-97f9-c941c674abbc",
   "metadata": {},
   "source": [
    "### values()"
   ]
  },
  {
   "cell_type": "code",
   "execution_count": 49,
   "id": "5a942f75-1687-4f9f-a0a7-a2801c06efc9",
   "metadata": {},
   "outputs": [
    {
     "name": "stdout",
     "output_type": "stream",
     "text": [
      "Ajay\n",
      "Riya\n",
      "Keyur\n",
      "Shreya\n"
     ]
    }
   ],
   "source": [
    "for i in d2.values():\n",
    "    print(i)"
   ]
  },
  {
   "cell_type": "markdown",
   "id": "58715e17-00ac-462e-baf0-776980379d19",
   "metadata": {},
   "source": [
    "### items()"
   ]
  },
  {
   "cell_type": "code",
   "execution_count": 54,
   "id": "05b775e3-d88b-4a9b-b5f6-f11f52177d76",
   "metadata": {},
   "outputs": [
    {
     "name": "stdout",
     "output_type": "stream",
     "text": [
      "(101, 'Ajay')\n",
      "(102, 'Riya')\n",
      "(103, 'Keyur')\n",
      "(104, 'Shreya')\n"
     ]
    }
   ],
   "source": [
    "for i in d2.items(): # returns tuple of all elements, in the form of (key, value)\n",
    "    print(i)"
   ]
  },
  {
   "cell_type": "code",
   "execution_count": 58,
   "id": "c2ca534a-c5ba-4845-9367-7bec4a402c4d",
   "metadata": {},
   "outputs": [
    {
     "name": "stdout",
     "output_type": "stream",
     "text": [
      "101 Ajay\n",
      "102 Riya\n",
      "103 Keyur\n",
      "104 Shreya\n"
     ]
    }
   ],
   "source": [
    "for  a,b  in d2.items():  # can be unpacked\n",
    "    #a, b = i \n",
    "    print(a, b)"
   ]
  },
  {
   "cell_type": "code",
   "execution_count": 60,
   "id": "2aa5501d-b6b2-4aa9-a115-334d7b47e2b8",
   "metadata": {},
   "outputs": [
    {
     "data": {
      "text/plain": [
       "[101, 102, 103, 104]"
      ]
     },
     "execution_count": 60,
     "metadata": {},
     "output_type": "execute_result"
    }
   ],
   "source": [
    "list(d2.keys())"
   ]
  },
  {
   "cell_type": "markdown",
   "id": "87cee5ee-a65e-4dfd-a75d-7a39997cad8a",
   "metadata": {},
   "source": [
    "### copy()"
   ]
  },
  {
   "cell_type": "code",
   "execution_count": 63,
   "id": "28685047-be09-43de-bd28-8a8bc543cf54",
   "metadata": {},
   "outputs": [],
   "source": [
    "d = d1.copy()"
   ]
  },
  {
   "cell_type": "code",
   "execution_count": 65,
   "id": "09e96f6c-cd3f-4511-b065-ecf6e5ffadb4",
   "metadata": {},
   "outputs": [
    {
     "data": {
      "text/plain": [
       "{'name': 'Ajay', 'rollno': 102, 'spi': 8.9, 'fname': 'Ajay'}"
      ]
     },
     "execution_count": 65,
     "metadata": {},
     "output_type": "execute_result"
    }
   ],
   "source": [
    "d"
   ]
  },
  {
   "cell_type": "markdown",
   "id": "bdab1254-526f-43aa-ac40-ab4792765f8d",
   "metadata": {},
   "source": [
    "### update()"
   ]
  },
  {
   "cell_type": "code",
   "execution_count": 68,
   "id": "c4008efd-406f-4cc4-b2de-ed236be953e6",
   "metadata": {},
   "outputs": [],
   "source": [
    "d2['106'] = 'Raaj'"
   ]
  },
  {
   "cell_type": "code",
   "execution_count": 70,
   "id": "20222f4b-e7ed-4d47-b9e7-9ff164e09347",
   "metadata": {},
   "outputs": [
    {
     "data": {
      "text/plain": [
       "{101: 'Ajay', 102: 'Riya', 103: 'Keyur', 104: 'Shreya', '106': 'Raaj'}"
      ]
     },
     "execution_count": 70,
     "metadata": {},
     "output_type": "execute_result"
    }
   ],
   "source": [
    "d2"
   ]
  },
  {
   "cell_type": "code",
   "execution_count": 72,
   "id": "0f9e5726-e0c9-41ba-9bbd-ae414ffb22ec",
   "metadata": {},
   "outputs": [],
   "source": [
    "d2.update(d1)"
   ]
  },
  {
   "cell_type": "code",
   "execution_count": 74,
   "id": "d41b3572-5a00-47e8-9ab1-1d4e6b68e1ad",
   "metadata": {},
   "outputs": [
    {
     "data": {
      "text/plain": [
       "{101: 'Ajay',\n",
       " 102: 'Riya',\n",
       " 103: 'Keyur',\n",
       " 104: 'Shreya',\n",
       " '106': 'Raaj',\n",
       " 'name': 'Ajay',\n",
       " 'rollno': 102,\n",
       " 'spi': 8.9,\n",
       " 'fname': 'Ajay'}"
      ]
     },
     "execution_count": 74,
     "metadata": {},
     "output_type": "execute_result"
    }
   ],
   "source": [
    "d2"
   ]
  },
  {
   "cell_type": "markdown",
   "id": "95420d92-8f6a-4267-91ed-70b7bd304057",
   "metadata": {},
   "source": [
    "### get(key)"
   ]
  },
  {
   "cell_type": "code",
   "execution_count": 79,
   "id": "d02ca698-534b-413c-9af4-37bbffa5a419",
   "metadata": {},
   "outputs": [
    {
     "data": {
      "text/plain": [
       "'Raaj'"
      ]
     },
     "execution_count": 79,
     "metadata": {},
     "output_type": "execute_result"
    }
   ],
   "source": [
    "d2.get('106')  # returns valus of the key passed"
   ]
  },
  {
   "cell_type": "code",
   "execution_count": 81,
   "id": "7ce01153-8311-4837-8cef-42a4878ba920",
   "metadata": {},
   "outputs": [
    {
     "data": {
      "text/plain": [
       "'NA'"
      ]
     },
     "execution_count": 81,
     "metadata": {},
     "output_type": "execute_result"
    }
   ],
   "source": [
    "d2.get(110,'NA') # returns value specified in the second parameter if it is not available"
   ]
  },
  {
   "cell_type": "code",
   "execution_count": 83,
   "id": "032b37b2-675a-4ecf-baeb-c4016d90935b",
   "metadata": {},
   "outputs": [
    {
     "data": {
      "text/plain": [
       "{101: 'Ajay',\n",
       " 102: 'Riya',\n",
       " 103: 'Keyur',\n",
       " 104: 'Shreya',\n",
       " '106': 'Raaj',\n",
       " 'name': 'Ajay',\n",
       " 'rollno': 102,\n",
       " 'spi': 8.9,\n",
       " 'fname': 'Ajay'}"
      ]
     },
     "execution_count": 83,
     "metadata": {},
     "output_type": "execute_result"
    }
   ],
   "source": [
    "d2"
   ]
  },
  {
   "cell_type": "markdown",
   "id": "68522349-54b9-41bc-857e-71a5e554f9d6",
   "metadata": {},
   "source": [
    "### setdefault(key, value)"
   ]
  },
  {
   "cell_type": "code",
   "execution_count": 88,
   "id": "1ace8383-6b4b-4328-bec8-c870c9a1b766",
   "metadata": {},
   "outputs": [
    {
     "data": {
      "text/plain": [
       "'NA'"
      ]
     },
     "execution_count": 88,
     "metadata": {},
     "output_type": "execute_result"
    }
   ],
   "source": [
    "d2.setdefault(110, 'NA')   # also adds the same element in the dictionary"
   ]
  },
  {
   "cell_type": "code",
   "execution_count": 90,
   "id": "1ebf9ccc-513a-49af-b39e-6ae02f15ff70",
   "metadata": {},
   "outputs": [
    {
     "data": {
      "text/plain": [
       "{101: 'Ajay',\n",
       " 102: 'Riya',\n",
       " 103: 'Keyur',\n",
       " 104: 'Shreya',\n",
       " '106': 'Raaj',\n",
       " 'name': 'Ajay',\n",
       " 'rollno': 102,\n",
       " 'spi': 8.9,\n",
       " 'fname': 'Ajay',\n",
       " 110: 'NA'}"
      ]
     },
     "execution_count": 90,
     "metadata": {},
     "output_type": "execute_result"
    }
   ],
   "source": [
    "d2"
   ]
  },
  {
   "cell_type": "code",
   "execution_count": 92,
   "id": "f8f07fb8-f4ac-4e57-aee0-d8d70a11c309",
   "metadata": {},
   "outputs": [],
   "source": [
    "d2.setdefault(111)"
   ]
  },
  {
   "cell_type": "code",
   "execution_count": 94,
   "id": "cf9b9178-9cc1-417b-80ff-65ec67c3f571",
   "metadata": {},
   "outputs": [
    {
     "data": {
      "text/plain": [
       "{101: 'Ajay',\n",
       " 102: 'Riya',\n",
       " 103: 'Keyur',\n",
       " 104: 'Shreya',\n",
       " '106': 'Raaj',\n",
       " 'name': 'Ajay',\n",
       " 'rollno': 102,\n",
       " 'spi': 8.9,\n",
       " 'fname': 'Ajay',\n",
       " 110: 'NA',\n",
       " 111: None}"
      ]
     },
     "execution_count": 94,
     "metadata": {},
     "output_type": "execute_result"
    }
   ],
   "source": [
    "d2"
   ]
  },
  {
   "cell_type": "code",
   "execution_count": 96,
   "id": "b0c16058-69a5-4bd6-8dfe-3d9855aadc25",
   "metadata": {},
   "outputs": [
    {
     "data": {
      "text/plain": [
       "'Ajay'"
      ]
     },
     "execution_count": 96,
     "metadata": {},
     "output_type": "execute_result"
    }
   ],
   "source": [
    "d2.setdefault(101,'NA')"
   ]
  },
  {
   "cell_type": "code",
   "execution_count": 98,
   "id": "b6cc8ee2-a78d-4679-9b5b-2252a4a29e5a",
   "metadata": {},
   "outputs": [
    {
     "data": {
      "text/plain": [
       "{101: 'Ajay',\n",
       " 102: 'Riya',\n",
       " 103: 'Keyur',\n",
       " 104: 'Shreya',\n",
       " '106': 'Raaj',\n",
       " 'name': 'Ajay',\n",
       " 'rollno': 102,\n",
       " 'spi': 8.9,\n",
       " 'fname': 'Ajay',\n",
       " 110: 'NA',\n",
       " 111: None}"
      ]
     },
     "execution_count": 98,
     "metadata": {},
     "output_type": "execute_result"
    }
   ],
   "source": [
    "d2"
   ]
  },
  {
   "cell_type": "markdown",
   "id": "4775f307-8fff-4105-9c04-6993546bc36d",
   "metadata": {},
   "source": [
    "### fromkeys(iterable,value)"
   ]
  },
  {
   "cell_type": "code",
   "execution_count": 101,
   "id": "2145b879-d2eb-4ad8-909a-252b698528aa",
   "metadata": {},
   "outputs": [],
   "source": [
    "l1 = [1,2,3,4,5]"
   ]
  },
  {
   "cell_type": "code",
   "execution_count": 103,
   "id": "0e5f83c5-6c3c-4917-a78f-d9bf49287f6f",
   "metadata": {},
   "outputs": [],
   "source": [
    "d3 = dict.fromkeys(l1,'NA')"
   ]
  },
  {
   "cell_type": "code",
   "execution_count": 105,
   "id": "92f1c6e9-9e59-4b2a-804a-3d4cae44b9f1",
   "metadata": {},
   "outputs": [
    {
     "data": {
      "text/plain": [
       "{1: 'NA', 2: 'NA', 3: 'NA', 4: 'NA', 5: 'NA'}"
      ]
     },
     "execution_count": 105,
     "metadata": {},
     "output_type": "execute_result"
    }
   ],
   "source": [
    "d3"
   ]
  },
  {
   "cell_type": "markdown",
   "id": "2a00eaad-5b49-4f61-bd56-8c25a206440c",
   "metadata": {},
   "source": [
    "### pop() & popitem() & clear()"
   ]
  },
  {
   "cell_type": "code",
   "execution_count": 108,
   "id": "a6d40166-85b4-4984-89ed-fd1e7e354737",
   "metadata": {},
   "outputs": [
    {
     "data": {
      "text/plain": [
       "{1: 'NA', 2: 'NA', 3: 'NA', 4: 'NA', 5: 'NA'}"
      ]
     },
     "execution_count": 108,
     "metadata": {},
     "output_type": "execute_result"
    }
   ],
   "source": [
    "d3"
   ]
  },
  {
   "cell_type": "code",
   "execution_count": 110,
   "id": "9f8ff5b1-d7f2-4f77-b0f0-57c4ea56648d",
   "metadata": {},
   "outputs": [
    {
     "ename": "KeyError",
     "evalue": "6",
     "output_type": "error",
     "traceback": [
      "\u001b[1;31m---------------------------------------------------------------------------\u001b[0m",
      "\u001b[1;31mKeyError\u001b[0m                                  Traceback (most recent call last)",
      "Cell \u001b[1;32mIn[110], line 1\u001b[0m\n\u001b[1;32m----> 1\u001b[0m d3\u001b[38;5;241m.\u001b[39mpop(\u001b[38;5;241m6\u001b[39m)\n",
      "\u001b[1;31mKeyError\u001b[0m: 6"
     ]
    }
   ],
   "source": [
    "d3.pop(6)"
   ]
  },
  {
   "cell_type": "code",
   "execution_count": 112,
   "id": "eec4bc5f-d8d0-4cc6-a1ea-dc9220bd56d6",
   "metadata": {},
   "outputs": [
    {
     "data": {
      "text/plain": [
       "'NA'"
      ]
     },
     "execution_count": 112,
     "metadata": {},
     "output_type": "execute_result"
    }
   ],
   "source": [
    "d3.pop(3)"
   ]
  },
  {
   "cell_type": "code",
   "execution_count": 114,
   "id": "e10d64c6-9d9c-44a3-9628-b3641c80a4b6",
   "metadata": {},
   "outputs": [
    {
     "data": {
      "text/plain": [
       "{1: 'NA', 2: 'NA', 4: 'NA', 5: 'NA'}"
      ]
     },
     "execution_count": 114,
     "metadata": {},
     "output_type": "execute_result"
    }
   ],
   "source": [
    "d3"
   ]
  },
  {
   "cell_type": "code",
   "execution_count": 116,
   "id": "575229dc-7aa5-4e67-b921-743da5079c24",
   "metadata": {},
   "outputs": [
    {
     "data": {
      "text/plain": [
       "(5, 'NA')"
      ]
     },
     "execution_count": 116,
     "metadata": {},
     "output_type": "execute_result"
    }
   ],
   "source": [
    "d3.popitem()"
   ]
  },
  {
   "cell_type": "code",
   "execution_count": 118,
   "id": "229803ad-0f15-4090-9d3b-be0b76108262",
   "metadata": {},
   "outputs": [],
   "source": [
    "d3.clear()"
   ]
  },
  {
   "cell_type": "code",
   "execution_count": 120,
   "id": "834d723a-bd2f-4e00-b892-6f4f05fbd00e",
   "metadata": {},
   "outputs": [
    {
     "data": {
      "text/plain": [
       "{}"
      ]
     },
     "execution_count": 120,
     "metadata": {},
     "output_type": "execute_result"
    }
   ],
   "source": [
    "d3"
   ]
  },
  {
   "cell_type": "markdown",
   "id": "2f9f0da8-30da-4733-ac1b-3fbc0118af23",
   "metadata": {},
   "source": [
    "## Dictionary Comprehension"
   ]
  },
  {
   "cell_type": "code",
   "execution_count": 123,
   "id": "664e8e71-cdaa-4a31-b536-7522c3998502",
   "metadata": {},
   "outputs": [],
   "source": [
    "d1 = { i: i**2 for i in  range(1,6)}"
   ]
  },
  {
   "cell_type": "code",
   "execution_count": 125,
   "id": "4881849a-e5cf-4241-a49d-8a1220606b9e",
   "metadata": {},
   "outputs": [
    {
     "data": {
      "text/plain": [
       "{1: 1, 2: 4, 3: 9, 4: 16, 5: 25}"
      ]
     },
     "execution_count": 125,
     "metadata": {},
     "output_type": "execute_result"
    }
   ],
   "source": [
    "d1"
   ]
  },
  {
   "cell_type": "code",
   "execution_count": 127,
   "id": "7852458d-085b-43ea-bfcb-d0b9d2b3dfb3",
   "metadata": {},
   "outputs": [],
   "source": [
    "d2 = { i:i.upper() for i in 'abcdefabc'}"
   ]
  },
  {
   "cell_type": "code",
   "execution_count": 129,
   "id": "802822af-9a5b-49b8-83cd-6c3d1993244b",
   "metadata": {},
   "outputs": [
    {
     "data": {
      "text/plain": [
       "{'a': 'A', 'b': 'B', 'c': 'C', 'd': 'D', 'e': 'E', 'f': 'F'}"
      ]
     },
     "execution_count": 129,
     "metadata": {},
     "output_type": "execute_result"
    }
   ],
   "source": [
    "d2"
   ]
  },
  {
   "cell_type": "code",
   "execution_count": 131,
   "id": "ae6590d0-a1fa-4bbd-b487-fd5258c38bfe",
   "metadata": {},
   "outputs": [],
   "source": [
    "d3 = dict({ (i,i**2) for i in  range(1,6)})"
   ]
  },
  {
   "cell_type": "code",
   "execution_count": 133,
   "id": "c91c5d69-c3b9-4b2d-ad40-e024ed4a84d3",
   "metadata": {},
   "outputs": [
    {
     "data": {
      "text/plain": [
       "{2: 4, 4: 16, 1: 1, 3: 9, 5: 25}"
      ]
     },
     "execution_count": 133,
     "metadata": {},
     "output_type": "execute_result"
    }
   ],
   "source": [
    "d3"
   ]
  },
  {
   "cell_type": "code",
   "execution_count": 135,
   "id": "f4fef79b-12ab-4475-9bf6-96111eabaee7",
   "metadata": {},
   "outputs": [],
   "source": [
    "l1 = [1,2,3,4,5]"
   ]
  },
  {
   "cell_type": "code",
   "execution_count": 137,
   "id": "1bf7799d-2477-4e08-9656-2c70dfbde859",
   "metadata": {},
   "outputs": [],
   "source": [
    "l2 = [11,22,33,44,55]"
   ]
  },
  {
   "cell_type": "code",
   "execution_count": 139,
   "id": "7f8a80fc-1bcf-4e40-9ebe-62e320598fbd",
   "metadata": {},
   "outputs": [],
   "source": [
    "d3 = { i:j   for i,j in zip(l1,l2)}"
   ]
  },
  {
   "cell_type": "code",
   "execution_count": 141,
   "id": "34790be4-84fc-4e0a-81f2-b201a00fa91e",
   "metadata": {},
   "outputs": [
    {
     "data": {
      "text/plain": [
       "{1: 11, 2: 22, 3: 33, 4: 44, 5: 55}"
      ]
     },
     "execution_count": 141,
     "metadata": {},
     "output_type": "execute_result"
    }
   ],
   "source": [
    "d3"
   ]
  },
  {
   "cell_type": "code",
   "execution_count": 143,
   "id": "9b6e9f78-e61f-4727-93e6-907086851aa7",
   "metadata": {},
   "outputs": [],
   "source": [
    "d4 = { i:j for i,j in enumerate(l2)}"
   ]
  },
  {
   "cell_type": "code",
   "execution_count": 145,
   "id": "c67698d9-08e3-4de1-bc81-1de9a37a0f1f",
   "metadata": {},
   "outputs": [
    {
     "data": {
      "text/plain": [
       "{0: 11, 1: 22, 2: 33, 3: 44, 4: 55}"
      ]
     },
     "execution_count": 145,
     "metadata": {},
     "output_type": "execute_result"
    }
   ],
   "source": [
    "d4"
   ]
  },
  {
   "cell_type": "code",
   "execution_count": null,
   "id": "e20d502a-e70d-482d-ba9c-f26e28a9ef0d",
   "metadata": {},
   "outputs": [],
   "source": []
  }
 ],
 "metadata": {
  "kernelspec": {
   "display_name": "Python 3 (ipykernel)",
   "language": "python",
   "name": "python3"
  },
  "language_info": {
   "codemirror_mode": {
    "name": "ipython",
    "version": 3
   },
   "file_extension": ".py",
   "mimetype": "text/x-python",
   "name": "python",
   "nbconvert_exporter": "python",
   "pygments_lexer": "ipython3",
   "version": "3.12.7"
  }
 },
 "nbformat": 4,
 "nbformat_minor": 5
}
