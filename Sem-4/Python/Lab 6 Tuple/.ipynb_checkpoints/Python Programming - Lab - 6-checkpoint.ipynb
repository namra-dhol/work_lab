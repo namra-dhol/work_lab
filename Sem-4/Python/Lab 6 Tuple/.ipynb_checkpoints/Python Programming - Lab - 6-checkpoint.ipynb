{
 "cells": [
  {
   "attachments": {},
   "cell_type": "markdown",
   "metadata": {},
   "source": [
    "<a href='https://www.darshan.ac.in/'> <img src='https://www.darshan.ac.in/Content/media/DU_Logo.svg' width=\"250\" height=\"300\"/></a>\n",
    "<pre>\n",
    "<center><b><h1>Python Programming - 2301CS404</b></center>\n",
    "<center><b><h1>Lab - 6</b></center>    \n",
    "<pre>"
   ]
  },
  {
   "cell_type": "markdown",
   "metadata": {},
   "source": [
    "# Tuple"
   ]
  },
  {
   "cell_type": "markdown",
   "metadata": {},
   "source": [
    "### 01) WAP to find sum of tuple elements."
   ]
  },
  {
   "cell_type": "code",
   "execution_count": 14,
   "metadata": {},
   "outputs": [
    {
     "name": "stdout",
     "output_type": "stream",
     "text": [
      "15\n"
     ]
    }
   ],
   "source": [
    "t1 = (1,2,3,4,5)\n",
    "sum=0\n",
    "for i in t1:\n",
    "    sum+=i\n",
    "print(sum)"
   ]
  },
  {
   "cell_type": "markdown",
   "metadata": {},
   "source": [
    "### 02) WAP to find Maximum and Minimum K elements in a given tuple.\n",
    "\n"
   ]
  },
  {
   "cell_type": "code",
   "execution_count": 64,
   "metadata": {},
   "outputs": [
    {
     "name": "stdout",
     "output_type": "stream",
     "text": [
      "[20, 33, 44, 45, 56, 99, 101, 888]\n"
     ]
    },
    {
     "name": "stdin",
     "output_type": "stream",
     "text": [
      "Enter the value k: 2\n"
     ]
    },
    {
     "name": "stdout",
     "output_type": "stream",
     "text": [
      "=min:  [20, 33]\n",
      "max:  [101, 888]\n"
     ]
    }
   ],
   "source": [
    "t = (45,101,20,33,44,56,888,99)\n",
    "sorted_t = sorted(t)\n",
    "print(sorted_t)\n",
    "\n",
    "k = int(input(\"Enter the value k:\"))\n",
    "\n",
    "min_k = sorted_t[-k:]\n",
    "max_k = sorted_t[:k]\n",
    "\n",
    "print(\"=min: \" , max_k);\n",
    "print(\"max: \" , min_k)"
   ]
  },
  {
   "cell_type": "markdown",
   "metadata": {},
   "source": [
    "### 03) WAP to find tuples which have all elements divisible by K from a list of tuples."
   ]
  },
  {
   "cell_type": "code",
   "execution_count": 76,
   "metadata": {},
   "outputs": [
    {
     "name": "stdin",
     "output_type": "stream",
     "text": [
      "Enter the value k:  2\n"
     ]
    },
    {
     "name": "stdout",
     "output_type": "stream",
     "text": [
      "[(10, 20, 30)]\n"
     ]
    }
   ],
   "source": [
    "t1 = [(1, 2, 3), (7, 4, 3), (10, 20, 30)]\n",
    "flag = False  \n",
    "res = []\n",
    "k = int(input(\"Enter the value k: \"))\n",
    "for i in t1:\n",
    "    c=0\n",
    "    for j in i:\n",
    "        if(j%k==0):\n",
    "            c+=1\n",
    "    if(c==len(i)):\n",
    "        res.append(i)\n",
    "print(str(res))"
   ]
  },
  {
   "cell_type": "markdown",
   "metadata": {},
   "source": [
    "### 04) WAP to create a list of tuples from given list having number and its cube in each tuple."
   ]
  },
  {
   "cell_type": "code",
   "execution_count": 78,
   "metadata": {},
   "outputs": [
    {
     "name": "stdout",
     "output_type": "stream",
     "text": [
      "[(1, 1), (2, 8), (4, 64), (5, 125), (89, 704969), (7, 343), (5, 125), (3, 27)]\n"
     ]
    }
   ],
   "source": [
    "l1 = [1,2,4,5,89,7,5,3]\n",
    "res = [(i,i**3) for i in l1]\n",
    "print(res)"
   ]
  },
  {
   "cell_type": "markdown",
   "metadata": {},
   "source": [
    "### 05) WAP to find tuples with all positive elements from the given list of tuples."
   ]
  },
  {
   "cell_type": "code",
   "execution_count": 82,
   "metadata": {},
   "outputs": [
    {
     "name": "stdout",
     "output_type": "stream",
     "text": [
      "[(7, 4, 3), (10, 20, 30)]\n"
     ]
    }
   ],
   "source": [
    "t1 = [(-1, 2, 3), (7, 4, 3), (10, 20, 30)]\n",
    "flag = False  \n",
    "res = []\n",
    "for i in t1:\n",
    "    c=0\n",
    "    for j in i:\n",
    "        if(j>=0):\n",
    "            c+=1\n",
    "    if(c==len(i)):\n",
    "        res.append(i)\n",
    "print(str(res))"
   ]
  },
  {
   "cell_type": "markdown",
   "metadata": {},
   "source": [
    "### 06) WAP to add tuple to list and vice – versa."
   ]
  },
  {
   "cell_type": "code",
   "execution_count": null,
   "metadata": {},
   "outputs": [],
   "source": []
  },
  {
   "cell_type": "markdown",
   "metadata": {},
   "source": [
    "### 07) WAP to remove tuples of length K."
   ]
  },
  {
   "cell_type": "code",
   "execution_count": null,
   "metadata": {},
   "outputs": [
    {
     "name": "stdout",
     "output_type": "stream",
     "text": [
      "The list is : \n",
      "[(32, 51), (22,), (94, 65, 77), (70, 22), (80, 61, 13, 17)]\n"
     ]
    }
   ],
   "source": [
    "l1 = [(32, 51), (22), (94, 65, 77), (70,22), (80, 61, 13, 17)]\n",
    "print(\"The list is : \" )\n",
    "print(l1)\n",
    "K = int(input(\"Enter the Value of K:\"))\n",
    "print(\"The value of K is \")\n",
    "print(K)\n",
    "result = [ele for ele in l1 if len(ele) != K]\n",
    "\n",
    "print(\"The filtered list is : \")\n",
    "print(result)"
   ]
  },
  {
   "cell_type": "markdown",
   "metadata": {},
   "source": [
    "### 08) WAP to remove duplicates from tuple."
   ]
  },
  {
   "cell_type": "code",
   "execution_count": null,
   "metadata": {},
   "outputs": [],
   "source": []
  },
  {
   "cell_type": "markdown",
   "metadata": {},
   "source": [
    "### 09) WAP to multiply adjacent elements of a tuple and print that resultant tuple."
   ]
  },
  {
   "cell_type": "code",
   "execution_count": null,
   "metadata": {},
   "outputs": [],
   "source": []
  },
  {
   "cell_type": "markdown",
   "metadata": {},
   "source": [
    "### 10) WAP to test if the given tuple is distinct or not."
   ]
  },
  {
   "cell_type": "code",
   "execution_count": null,
   "metadata": {},
   "outputs": [],
   "source": []
  }
 ],
 "metadata": {
  "kernelspec": {
   "display_name": "Python 3 (ipykernel)",
   "language": "python",
   "name": "python3"
  },
  "language_info": {
   "codemirror_mode": {
    "name": "ipython",
    "version": 3
   },
   "file_extension": ".py",
   "mimetype": "text/x-python",
   "name": "python",
   "nbconvert_exporter": "python",
   "pygments_lexer": "ipython3",
   "version": "3.12.7"
  }
 },
 "nbformat": 4,
 "nbformat_minor": 4
}
