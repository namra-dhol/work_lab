{
 "cells": [
  {
   "cell_type": "markdown",
   "metadata": {},
   "source": [
    "\n",
    "<a href='https://www.darshan.ac.in/'> <img src='https://www.darshan.ac.in/Content/media/DU_Logo.svg' width=\"250\" height=\"300\"/></a>\n",
    "<pre>\n",
    "<center><b><h1>Python Programming - 2301CS404</b></center>\n",
    "<center><b><h1>Lab - 2</b></center>    \n",
    "<center><b><h1>Dhol Namra</b></center> \n",
    "<center><b><h1>23010101407</b></center>  \n",
    "<center><b><h1>2-12-2024</b></center>   \n",
    "<pre>"
   ]
  },
  {
   "cell_type": "markdown",
   "metadata": {},
   "source": [
    "### 01) WAP to check whether the given number is positive or negative."
   ]
  },
  {
   "cell_type": "code",
   "execution_count": 2,
   "metadata": {},
   "outputs": [
    {
     "name": "stdout",
     "output_type": "stream",
     "text": [
      "Enter number: -6\n",
      "Number is Negative\n"
     ]
    }
   ],
   "source": [
    "num = int(input(\"Enter number: \"))\n",
    "if(num>0):\n",
    "    print(\"Number is Positive\")\n",
    "else:\n",
    "    print(\"Number is Negative\")"
   ]
  },
  {
   "cell_type": "markdown",
   "metadata": {},
   "source": [
    "### 02) WAP to check whether the given number is odd or even."
   ]
  },
  {
   "cell_type": "code",
   "execution_count": 8,
   "metadata": {},
   "outputs": [
    {
     "name": "stdout",
     "output_type": "stream",
     "text": [
      "Enter number :6\n",
      "Number is Even\n"
     ]
    }
   ],
   "source": [
    "num = int(input(\"Enter number :\"))\n",
    "if(num%2==0):\n",
    "    print(\"Number is Even\")\n",
    "else:\n",
    "    print(\"Number is Odd\")"
   ]
  },
  {
   "cell_type": "markdown",
   "metadata": {},
   "source": [
    "### 03) WAP to find out largest number from given two numbers using simple if and ternary operator."
   ]
  },
  {
   "cell_type": "code",
   "execution_count": 10,
   "metadata": {},
   "outputs": [
    {
     "name": "stdout",
     "output_type": "stream",
     "text": [
      "Enter num 1:10\n",
      "Enter num 2:2\n",
      "Number 1 is largest\n"
     ]
    }
   ],
   "source": [
    "n1 = int(input(\"Enter num 1:\"))\n",
    "n2 = int(input(\"Enter num 2:\"))\n",
    "ans = (print(\"Number 1 is largest\")) if (n1>n2) else (print(\"Number 2 is Largest\"))"
   ]
  },
  {
   "cell_type": "markdown",
   "metadata": {},
   "source": [
    "### 04) WAP to find out largest number from given three numbers."
   ]
  },
  {
   "cell_type": "code",
   "execution_count": 12,
   "metadata": {},
   "outputs": [
    {
     "name": "stdout",
     "output_type": "stream",
     "text": [
      "Enter num1: 5\n",
      "Enter num2: 6\n",
      "Enter num3: 7\n",
      "Number  7  is largest\n"
     ]
    }
   ],
   "source": [
    "num1 = int(input(\"Enter num1: \"))\n",
    "num2 = int(input(\"Enter num2: \"))\n",
    "num3 = int(input(\"Enter num3: \"))\n",
    "if(num1>num2):\n",
    "    if(num1>num3):\n",
    "        print(\"Number \",num1,\" is largest\")\n",
    "    else:\n",
    "        print(\"Number \",num3,\" is largest\")\n",
    "else:\n",
    "    if(num2>num3):\n",
    "        print(\"Number \",num2,\" is largest\")\n",
    "    else:\n",
    "        print(\"Number \",num3,\" is largest\")"
   ]
  },
  {
   "cell_type": "markdown",
   "metadata": {},
   "source": [
    "### 05) WAP to check whether the given year is leap year or not.\n",
    "[If a year can be divisible by 4 but not divisible by 100 then it is leap year but if it is divisible by 400 then it is leap year]"
   ]
  },
  {
   "cell_type": "code",
   "execution_count": 17,
   "metadata": {},
   "outputs": [
    {
     "name": "stdout",
     "output_type": "stream",
     "text": [
      "Enter year:1900\n",
      "1900 is Not leap year\n"
     ]
    }
   ],
   "source": [
    "year = int(input(\"Enter year:\"))\n",
    "if((year%400==0) or (year%100!=0) and (year%4==0)):\n",
    "    print(year,\"is Leap year\")\n",
    "else:\n",
    "    print(year,\"is Not leap year\")"
   ]
  },
  {
   "cell_type": "markdown",
   "metadata": {},
   "source": [
    "### 06) WAP in python to display the name of the day according to the number given by the user."
   ]
  },
  {
   "cell_type": "code",
   "execution_count": 19,
   "metadata": {},
   "outputs": [
    {
     "name": "stdout",
     "output_type": "stream",
     "text": [
      "Enter day num:5\n",
      "Thursday\n"
     ]
    }
   ],
   "source": [
    "num = int(input(\"Enter day num:\"))\n",
    "if(num==1):\n",
    "    print(\"Sunday\")\n",
    "elif(num==2):\n",
    "    print(\"Monday\")\n",
    "elif(num==3):\n",
    "    print(\"Teuseday\")\n",
    "elif(num==4):\n",
    "    print(\"Wednesday\")\n",
    "elif(num==5):\n",
    "    print(\"Thursday\")\n",
    "elif(num==6):\n",
    "    print(\"Friday\")\n",
    "elif(num==7):\n",
    "    print(\"Saturday\")"
   ]
  },
  {
   "cell_type": "markdown",
   "metadata": {},
   "source": [
    "### 07) WAP to implement simple calculator which performs (add,sub,mul,div) of two no. based on user input."
   ]
  },
  {
   "cell_type": "code",
   "execution_count": 20,
   "metadata": {},
   "outputs": [
    {
     "name": "stdout",
     "output_type": "stream",
     "text": [
      "Enter num for condition1\n",
      "Enter num1: 2\n",
      "Enter num2: 3\n",
      "5\n"
     ]
    }
   ],
   "source": [
    "num = int(input(\"Enter num for condition\"))\n",
    "num1 = int(input(\"Enter num1: \"))\n",
    "num2 = int(input(\"Enter num2: \"))\n",
    "match(num):\n",
    "    case 1:\n",
    "        print(num1+num2)\n",
    "    case 2: \n",
    "        print(num1-num2)\n",
    "    case 3:\n",
    "        print(num1*num2)\n",
    "    case 4:\n",
    "        print(num1/num2)"
   ]
  },
  {
   "cell_type": "markdown",
   "metadata": {},
   "source": [
    "### 08) WAP to read marks of five subjects. Calculate percentage and print class accordingly. \n",
    "Fail below 35 </br>\n",
    "Pass Class between 35 to 45 </br>\n",
    "Second Class</br>\n",
    "between 45 to 60</br>\n",
    "First Class between 60 to 70</br> \n",
    "Distinction if more than 70"
   ]
  },
  {
   "cell_type": "code",
   "execution_count": 21,
   "metadata": {},
   "outputs": [
    {
     "name": "stdout",
     "output_type": "stream",
     "text": [
      "Enter marks50\n",
      "Second\n"
     ]
    }
   ],
   "source": [
    "mark = int(input(\"Enter marks\"))\n",
    "if(mark<35):\n",
    "    print(\"Fail\")\n",
    "elif(mark>35 and mark<45):\n",
    "    print(\"Pass\")\n",
    "elif(mark>45 and mark<60):\n",
    "    print(\"Second\")\n",
    "elif(mark>60 and mark<70):\n",
    "    print(\"First\")\n",
    "else:\n",
    "    print(\"Distinction\")"
   ]
  },
  {
   "cell_type": "markdown",
   "metadata": {},
   "source": [
    "### 09) Three sides of a triangle are entered through the keyboard, WAP to check whether the triangle is isosceles, equilateral, scalene or right-angled triangle."
   ]
  },
  {
   "cell_type": "code",
   "execution_count": 3,
   "metadata": {},
   "outputs": [
    {
     "name": "stdin",
     "output_type": "stream",
     "text": [
      "Enter the length of the first side:  2\n",
      "Enter the length of the second side:  3\n",
      "Enter the length of the third side:  5\n"
     ]
    },
    {
     "name": "stdout",
     "output_type": "stream",
     "text": [
      "The given sides do not form a valid triangle.\n"
     ]
    }
   ],
   "source": [
    "a = float(input(\"Enter the length of the first side: \"))\n",
    "b = float(input(\"Enter the length of the second side: \"))\n",
    "c = float(input(\"Enter the length of the third side: \"))\n",
    "\n",
    "if a + b > c and a + c > b and b + c > a:\n",
    "    if a == b == c:\n",
    "        print(\"The triangle is equilateral.\")\n",
    "    elif a == b or b == c or a == c:\n",
    "        print(\"The triangle is isosceles.\")\n",
    "    elif round(a**2, 5) == round(b**2 + c**2, 5) or round(b**2, 5) == round(a**2 + c**2, 5) or round(c**2, 5) == round(a**2 + b**2, 5):\n",
    "        print(\"The triangle is right-angled.\")\n",
    "    else:\n",
    "        print(\"The triangle is scalene.\")\n",
    "else:\n",
    "    print(\"The given sides do not form a valid triangle.\")\n"
   ]
  },
  {
   "cell_type": "markdown",
   "metadata": {},
   "source": [
    "### 10) WAP to find the second largest number among three user input numbers."
   ]
  },
  {
   "cell_type": "code",
   "execution_count": 29,
   "metadata": {},
   "outputs": [
    {
     "name": "stdout",
     "output_type": "stream",
     "text": [
      "Enter number1 :3\n",
      "Enter number2 :2\n",
      "Enter number3 :1\n",
      "2 is second largest\n"
     ]
    }
   ],
   "source": [
    "num1 = int(input(\"Enter number1 :\"))\n",
    "num2 = int(input(\"Enter number2 :\"))\n",
    "num3 = int(input(\"Enter number3 :\"))\n",
    "if((num1>num2 and num1<num3) or (num1<num2 and num1>num3)):\n",
    "    print(num1,\"is second largest\")\n",
    "elif((num2>num1 and num2<num3) or (num2<num1 and num2>num3)):\n",
    "    print(num2,\"is second largest\")\n",
    "elif((num3>num1 and num3<num2) or (num3<num1 and num3>num2)):\n",
    "    print(num3,\"is second largest\")\n",
    "else:\n",
    "     print(\"Not Find\")"
   ]
  },
  {
   "cell_type": "markdown",
   "metadata": {},
   "source": [
    "### 11) WAP to calculate electricity bill based on following criteria. Which takes the unit from the user.\n",
    "a. First 1 to 50 units – Rs. 2.60/unit</br>\n",
    "b. Next 50 to 100 units – Rs. 3.25/unit</br>\n",
    "c. Next 100 to 200 units – Rs. 5.26/unit</br>\n",
    "d. above 200 units – Rs. 8.45/unit"
   ]
  },
  {
   "cell_type": "code",
   "execution_count": 6,
   "metadata": {},
   "outputs": [
    {
     "name": "stdin",
     "output_type": "stream",
     "text": [
      "Enter the number of units consumed:  189\n"
     ]
    },
    {
     "name": "stdout",
     "output_type": "stream",
     "text": [
      "Total electricity bill: Rs.  760.64\n"
     ]
    }
   ],
   "source": [
    "units = float(input(\"Enter the number of units consumed: \"))\n",
    "bill = 0\n",
    "\n",
    "if units <= 50:\n",
    "    bill = units * 2.60\n",
    "elif units <= 100:\n",
    "    bill = (50 * 2.60) + ((units - 50) * 3.25)\n",
    "elif units <= 200:\n",
    "    bill = (50 * 2.60) + (50 * 3.25) + ((units - 100) * 5.26)\n",
    "else:\n",
    "    bill = (50 * 2.60) + (50 * 3.25) + (100 * 5.26) + ((units - 200) * 8.45)\n",
    "\n",
    "print(\"Total electricity bill: Rs. \",bill)\n"
   ]
  }
 ],
 "metadata": {
  "kernelspec": {
   "display_name": "Python 3 (ipykernel)",
   "language": "python",
   "name": "python3"
  },
  "language_info": {
   "codemirror_mode": {
    "name": "ipython",
    "version": 3
   },
   "file_extension": ".py",
   "mimetype": "text/x-python",
   "name": "python",
   "nbconvert_exporter": "python",
   "pygments_lexer": "ipython3",
   "version": "3.12.7"
  }
 },
 "nbformat": 4,
 "nbformat_minor": 4
}
