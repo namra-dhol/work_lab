{
 "cells": [
  {
   "attachments": {},
   "cell_type": "markdown",
   "metadata": {},
   "source": [
    "<a href='https://www.darshan.ac.in/'> <img src='https://www.darshan.ac.in/Content/media/DU_Logo.svg' width=\"250\" height=\"300\"/></a>\n",
    "<pre>\n",
    "<center><b><h1>Python Programming - 2301CS404</b></center>\n",
    "<center><b><h1>Lab - 6</b></center>    \n",
    "<center><b><h1>Dhol Namra</b></center> \n",
    "<center><b><h1>23010101407</b></center>\n",
    "<center><b><h1>30-12-2024</b></center>  \n",
    "<pre>"
   ]
  },
  {
   "cell_type": "markdown",
   "metadata": {},
   "source": [
    "# Tuple"
   ]
  },
  {
   "cell_type": "markdown",
   "metadata": {},
   "source": [
    "### 01) WAP to find sum of tuple elements."
   ]
  },
  {
   "cell_type": "code",
   "execution_count": 1,
   "metadata": {},
   "outputs": [
    {
     "name": "stdout",
     "output_type": "stream",
     "text": [
      "28\n"
     ]
    }
   ],
   "source": [
    "t1 = (1,2,3,4,5,6,7)\n",
    "sum=0\n",
    "for i in t1:\n",
    "    sum+=i\n",
    "print(sum)"
   ]
  },
  {
   "cell_type": "markdown",
   "metadata": {},
   "source": [
    "### 02) WAP to find Maximum and Minimum K elements in a given tuple."
   ]
  },
  {
   "cell_type": "code",
   "execution_count": 21,
   "metadata": {},
   "outputs": [
    {
     "name": "stdin",
     "output_type": "stream",
     "text": [
      "Enter elements k value: 2\n"
     ]
    },
    {
     "name": "stdout",
     "output_type": "stream",
     "text": [
      "Minimum elements: (3, 10) \n",
      "Maximun elements: (83, 99)\n"
     ]
    }
   ],
   "source": [
    "t1 = (83,99,41,3,10,23,63,65)\n",
    "k = int(input(\"Enter elements k value:\"))\n",
    "l1 = list(t1)\n",
    "l1.sort()\n",
    "t2 = tuple(l1)\n",
    "print(\"Minimum elements:\",t2[:k],\"\\nMaximun elements:\",t2[-k:])"
   ]
  },
  {
   "cell_type": "markdown",
   "metadata": {},
   "source": [
    "### 03) WAP to find tuples which have all elements divisible by K from a list of tuples."
   ]
  },
  {
   "cell_type": "code",
   "execution_count": 8,
   "metadata": {},
   "outputs": [
    {
     "name": "stdin",
     "output_type": "stream",
     "text": [
      "Enter divisible num: 2\n"
     ]
    },
    {
     "name": "stdout",
     "output_type": "stream",
     "text": [
      "[(2, 4, 6)]\n"
     ]
    }
   ],
   "source": [
    "t1=[(2,3,4),(2,4,6),(3,6,9)]\n",
    "k = int(input(\"Enter divisible num:\"))\n",
    "ans=[]\n",
    "for tup in t1:\n",
    "    count=0\n",
    "    for i in tup:\n",
    "        if(i%k!=0):\n",
    "            count+=1\n",
    "    if(count == 0):\n",
    "        ans.append(tup)\n",
    "print(ans)"
   ]
  },
  {
   "cell_type": "markdown",
   "metadata": {},
   "source": [
    "### 04) WAP to create a list of tuples from given list having number and its cube in each tuple."
   ]
  },
  {
   "cell_type": "code",
   "execution_count": 32,
   "metadata": {},
   "outputs": [
    {
     "name": "stdout",
     "output_type": "stream",
     "text": [
      "[(1, 1), (2, 8), (3, 27), (4, 64), (5, 125), (6, 216), (7, 343), (8, 512), (9, 729)]\n"
     ]
    }
   ],
   "source": [
    "li = [1,2,3,4,5,6,7,8,9]\n",
    "t1 = [(i,i**3) for i in li]\n",
    "print(t1)"
   ]
  },
  {
   "cell_type": "markdown",
   "metadata": {},
   "source": [
    "### 05) WAP to find tuples with all positive elements from the given list of tuples."
   ]
  },
  {
   "cell_type": "code",
   "execution_count": 10,
   "metadata": {},
   "outputs": [
    {
     "name": "stdout",
     "output_type": "stream",
     "text": [
      "Positive Elements Tuple: [(4, 5, 6), (10, 11, 12)]\n"
     ]
    }
   ],
   "source": [
    "t1 = [(-1, 2, 3), (4, 5, 6), (7, -8, 9), (10, 11, 12)]\n",
    "pt = []\n",
    "for tup in t1:\n",
    "    count=0\n",
    "    for i in tup:\n",
    "        if(i<0):\n",
    "            count+=1\n",
    "    if(count==0):\n",
    "        pt.append(tup)\n",
    "print(\"Positive Elements List of Tuple:\", pt)\n"
   ]
  },
  {
   "cell_type": "markdown",
   "metadata": {},
   "source": [
    "### 06) WAP to add tuple to list and vice – versa."
   ]
  },
  {
   "cell_type": "code",
   "execution_count": 34,
   "metadata": {},
   "outputs": [
    {
     "name": "stdout",
     "output_type": "stream",
     "text": [
      "List after adding tuple: [1, 2, 3, (4, 5, 6)]\n",
      "Tuple after adding list: (4, 5, 6, 1, 2, 3, (4, 5, 6))\n"
     ]
    }
   ],
   "source": [
    "l = [1, 2, 3]\n",
    "t = (4, 5, 6)\n",
    "l.append(t)\n",
    "print(\"List after adding tuple:\",l)\n",
    "\n",
    "t2 = t + tuple(l)\n",
    "print(\"Tuple after adding list:\", t2)\n"
   ]
  },
  {
   "cell_type": "markdown",
   "metadata": {},
   "source": [
    "### 07) WAP to remove tuples of length K."
   ]
  },
  {
   "cell_type": "code",
   "execution_count": 19,
   "metadata": {},
   "outputs": [
    {
     "name": "stdin",
     "output_type": "stream",
     "text": [
      "Length of tuple to remove:  3\n"
     ]
    },
    {
     "name": "stdout",
     "output_type": "stream",
     "text": [
      "List after removing: [(4, 5), (6, 7, 8, 9), (10, 11)]\n"
     ]
    }
   ],
   "source": [
    "t1 = [(1, 2, 3), (4, 5), (6, 7, 8, 9), (10, 11)]\n",
    "k = int(input(\"Length of tuple to remove: \"))\n",
    "li=[]\n",
    "for i in t1:\n",
    "    if len(i)!=k:\n",
    "        li.append(i)\n",
    "print(\"List after removing:\", li)\n"
   ]
  },
  {
   "cell_type": "markdown",
   "metadata": {},
   "source": [
    "### 08) WAP to remove duplicates from tuple."
   ]
  },
  {
   "cell_type": "code",
   "execution_count": 24,
   "metadata": {},
   "outputs": [
    {
     "name": "stdout",
     "output_type": "stream",
     "text": [
      "(1, 2, 3, 4, 5, 8, 6, 9)\n"
     ]
    }
   ],
   "source": [
    "t1 = (1,1,2,3,3,4,5,2,4,1,8,6,9,2,3,5,1,4)\n",
    "li = []\n",
    "for tup in t1:\n",
    "    if tup not in li:\n",
    "        li.append(tup)\n",
    "t2 = tuple(li)\n",
    "print(t2)"
   ]
  },
  {
   "cell_type": "markdown",
   "metadata": {},
   "source": [
    "### 09) WAP to multiply adjacent elements of a tuple and print that resultant tuple."
   ]
  },
  {
   "cell_type": "code",
   "execution_count": 28,
   "metadata": {},
   "outputs": [
    {
     "name": "stdout",
     "output_type": "stream",
     "text": [
      "(2, 6, 12, 20, 30)\n"
     ]
    }
   ],
   "source": [
    "t1 = (1,2,3,4,5,6)\n",
    "li=[]\n",
    "for i in range(0,len(t1)-1):\n",
    "    li.append(t1[i]*t1[i+1])\n",
    "t2 = tuple(li)\n",
    "print(t2)"
   ]
  },
  {
   "cell_type": "markdown",
   "metadata": {},
   "source": [
    "### 10) WAP to test if the given tuple is distinct or not."
   ]
  },
  {
   "cell_type": "code",
   "execution_count": 39,
   "metadata": {},
   "outputs": [
    {
     "name": "stdout",
     "output_type": "stream",
     "text": [
      "Distinct\n"
     ]
    }
   ],
   "source": [
    "t1 = (1,6,3,9,2,5,0)\n",
    "li = list(t1)\n",
    "distinct = True\n",
    "for i in range(0,len(t1)):\n",
    "    for j in range(i+1,len(t1)):\n",
    "        if(t1[i]==t1[j]):\n",
    "            distinct = False\n",
    "            break\n",
    "if (distinct):\n",
    "    print(\"Distinct\")\n",
    "else:\n",
    "    print(\"Not Distinct\")"
   ]
  },
  {
   "cell_type": "code",
   "execution_count": null,
   "metadata": {},
   "outputs": [],
   "source": []
  }
 ],
 "metadata": {
  "kernelspec": {
   "display_name": "Python 3 (ipykernel)",
   "language": "python",
   "name": "python3"
  },
  "language_info": {
   "codemirror_mode": {
    "name": "ipython",
    "version": 3
   },
   "file_extension": ".py",
   "mimetype": "text/x-python",
   "name": "python",
   "nbconvert_exporter": "python",
   "pygments_lexer": "ipython3",
   "version": "3.12.7"
  }
 },
 "nbformat": 4,
 "nbformat_minor": 4
}
