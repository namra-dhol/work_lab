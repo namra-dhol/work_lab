{
 "cells": [
  {
   "cell_type": "markdown",
   "metadata": {},
   "source": [
    "<a href='https://www.darshan.ac.in/'> <img src='https://www.darshan.ac.in/Content/media/DU_Logo.svg' width=\"250\" height=\"300\"/></a>\n",
    "<pre>\n",
    "<center><b><h1>Python Programming - 2301CS404</b></center>\n",
    "<center><b><h1>Lab - 8</b></center>   \n",
    "<center><b><h1>Dhol Namra</b></center>\n",
    "<center><b><h1>Enroll:23010101407</b></center>\n",
    "<center><b><h1>11-01-2025</b></center>\n",
    "<pre>"
   ]
  },
  {
   "cell_type": "markdown",
   "metadata": {},
   "source": [
    "# User Defined Function"
   ]
  },
  {
   "cell_type": "markdown",
   "metadata": {},
   "source": [
    "### 01) Write a function to calculate BMI given mass and height. (BMI = mass/h**2)"
   ]
  },
  {
   "cell_type": "code",
   "execution_count": 1,
   "metadata": {},
   "outputs": [
    {
     "data": {
      "text/plain": [
       "2.0"
      ]
     },
     "execution_count": 1,
     "metadata": {},
     "output_type": "execute_result"
    }
   ],
   "source": [
    "def BMI (mass,h):\n",
    "        return mass/(h**2)\n",
    "\n",
    "BMI(50,5)\n"
   ]
  },
  {
   "cell_type": "markdown",
   "metadata": {},
   "source": [
    "### 02) Write a function that add first n numbers."
   ]
  },
  {
   "cell_type": "code",
   "execution_count": 3,
   "metadata": {},
   "outputs": [
    {
     "data": {
      "text/plain": [
       "6.0"
      ]
     },
     "execution_count": 3,
     "metadata": {},
     "output_type": "execute_result"
    }
   ],
   "source": [
    "def sum(n):\n",
    "    \n",
    "    return (n*(n+1)/2)\n",
    "sum(3)\n",
    "    "
   ]
  },
  {
   "cell_type": "markdown",
   "metadata": {},
   "source": [
    "### 03) Write a function that returns 1 if the given number is Prime or 0 otherwise."
   ]
  },
  {
   "cell_type": "code",
   "execution_count": 39,
   "metadata": {},
   "outputs": [
    {
     "name": "stdin",
     "output_type": "stream",
     "text": [
      "Enter a number to check:  7\n"
     ]
    }
   ],
   "source": [
    "number = int(input(\"Enter a number to check: \"))\n",
    "def is_prime(number):\n",
    "  if number >1:\n",
    "    for i in range(2,number):\n",
    "      if (number % i) == 0:\n",
    "        return False    \n",
    "      else:\n",
    "        return True\n",
    "\n",
    "\n",
    "\n",
    "\n",
    "\n"
   ]
  },
  {
   "cell_type": "markdown",
   "metadata": {},
   "source": [
    "### 04) Write a function that returns the list of Prime numbers between given two numbers."
   ]
  },
  {
   "cell_type": "code",
   "execution_count": null,
   "metadata": {},
   "outputs": [],
   "source": [
    "number = int(input(\"Enter a number to check: \"))\n",
    "def is_prime(number):\n",
    "  if number >1:\n",
    "    for i in range(2,number):\n",
    "      if (number % i) == 0:\n",
    "        return False    \n",
    "      else:\n",
    "        return True"
   ]
  },
  {
   "cell_type": "markdown",
   "metadata": {},
   "source": [
    "### 05) Write a function that returns True if the given string is Palindrome or False otherwise."
   ]
  },
  {
   "cell_type": "code",
   "execution_count": 7,
   "metadata": {},
   "outputs": [
    {
     "name": "stdin",
     "output_type": "stream",
     "text": [
      "Enter a number to check:  asdf\n"
     ]
    },
    {
     "name": "stdout",
     "output_type": "stream",
     "text": [
      "The string is not a palindrome.\n"
     ]
    }
   ],
   "source": [
    "number = input(\"Enter a number to check: \")\n",
    "def is_palindrom(number):\n",
    "    if (number == number[::-1]):  \n",
    "        print(\"The string is a palindrome.\")\n",
    "    else:\n",
    "        print(\"The string is not a palindrome.\")\n",
    "is_palindrom(number)"
   ]
  },
  {
   "cell_type": "markdown",
   "metadata": {},
   "source": [
    "### 06) Write a function that returns the sum of all the elements of the list."
   ]
  },
  {
   "cell_type": "code",
   "execution_count": 20,
   "metadata": {},
   "outputs": [
    {
     "name": "stdout",
     "output_type": "stream",
     "text": [
      "The sum of the list is: 15\n"
     ]
    }
   ],
   "source": [
    "def sum_of_list(numbers):\n",
    "    return sum(numbers)\n",
    "    \n",
    "numbers = [1, 2, 3, 4, 5]\n",
    "print(f\"The sum of the list is: {sum_of_list(numbers)}\")\n"
   ]
  },
  {
   "cell_type": "markdown",
   "metadata": {},
   "source": [
    "### 07) Write a function to calculate the sum of the first element of each tuples inside the list."
   ]
  },
  {
   "cell_type": "code",
   "execution_count": 26,
   "metadata": {},
   "outputs": [
    {
     "name": "stdout",
     "output_type": "stream",
     "text": [
      "The sum of the first elements is: 14\n"
     ]
    }
   ],
   "source": [
    "def sum_of_first_elements(tuple_list):\n",
    "    return sum(t[0] for t in tuple_list)\n",
    "tuples = [(1, 2), (3, 4), (10, 6)]\n",
    "print(f\"The sum of the first elements is: {sum_of_first_elements(tuples)}\")\n"
   ]
  },
  {
   "cell_type": "markdown",
   "metadata": {},
   "source": [
    "### 08) Write a recursive function to find nth term of Fibonacci Series."
   ]
  },
  {
   "cell_type": "code",
   "execution_count": 30,
   "metadata": {},
   "outputs": [
    {
     "data": {
      "text/plain": [
       "3"
      ]
     },
     "execution_count": 30,
     "metadata": {},
     "output_type": "execute_result"
    }
   ],
   "source": [
    "def fibonacci(n):\n",
    "    if n <= 0:\n",
    "        return 0\n",
    "    elif n == 1:\n",
    "        return 1\n",
    "    else:\n",
    "        return fibonacci(n - 1) + fibonacci(n - 2)\n",
    "\n",
    "fibonacci(4)"
   ]
  },
  {
   "cell_type": "markdown",
   "metadata": {},
   "source": [
    "### 09) Write a function to get the name of the student based on the given rollno.\n",
    "#### Example: Given dict1 = {101:'Ajay', 102:'Rahul', 103:'Jay', 104:'Pooja'} find name of student whose rollno = 103"
   ]
  },
  {
   "cell_type": "code",
   "execution_count": 34,
   "metadata": {},
   "outputs": [
    {
     "name": "stdout",
     "output_type": "stream",
     "text": [
      "Jay\n"
     ]
    }
   ],
   "source": [
    "def get_student_name(rollno, student_dict):\n",
    "    return student_dict.get(rollno, \"Roll number not found\")\n",
    "\n",
    "dict1 = {101: 'Ajay', 102: 'Rahul', 103: 'Jay', 104: 'Pooja'}\n",
    "print(get_student_name(103, dict1))"
   ]
  },
  {
   "cell_type": "markdown",
   "metadata": {},
   "source": [
    "### 10) Write a function to get the sum of the scores ending with zero.\n",
    "#### Example : scores = [200, 456, 300, 100, 234, 678] \n",
    "#### Ans = 200 + 300 + 100 = 600"
   ]
  },
  {
   "cell_type": "code",
   "execution_count": 41,
   "metadata": {},
   "outputs": [
    {
     "name": "stdout",
     "output_type": "stream",
     "text": [
      "600\n"
     ]
    }
   ],
   "source": [
    "def sum_scores_ending_with_zero(scores):\n",
    "    total = 0\n",
    "    for score in scores:\n",
    "        if score % 10 == 0:\n",
    "            total += score\n",
    "    return total\n",
    "print(sum_scores_ending_with_zero([200, 456, 300, 100, 234, 678]))"
   ]
  },
  {
   "cell_type": "markdown",
   "metadata": {},
   "source": [
    "### 11) Write a function to invert a given Dictionary.\n",
    "#### hint: keys to values & values to keys\n",
    "#### Before : {'a': 10, 'b':20, 'c':30, 'd':40}\n",
    "#### After : {10:'a', 20:'b', 30:'c', 40:'d'}"
   ]
  },
  {
   "cell_type": "code",
   "execution_count": 43,
   "metadata": {},
   "outputs": [
    {
     "data": {
      "text/plain": [
       "{10: 'a', 20: 'b'}"
      ]
     },
     "execution_count": 43,
     "metadata": {},
     "output_type": "execute_result"
    }
   ],
   "source": [
    "def invert_dictionary(d):\n",
    "    \"\"\"\n",
    "    Invert keys and values in a dictionary.\n",
    "    \n",
    "    :param d: Dictionary to invert\n",
    "    :return: Inverted dictionary\n",
    "    \"\"\"\n",
    "    return {v: k for k, v in d.items()}\n",
    "invert_dictionary({'a':10,'b':20})"
   ]
  },
  {
   "cell_type": "markdown",
   "metadata": {},
   "source": [
    "### 12) Write a function to check whether the given string is Pangram or not.\n",
    "#### hint: Pangram is a string containing all the characters a-z atlest once.\n",
    "#### \"the quick brown fox jumps over the lazy dog\" is a Pangram string."
   ]
  },
  {
   "cell_type": "code",
   "execution_count": null,
   "metadata": {},
   "outputs": [],
   "source": [
    "def is_pangram(s):\n",
    "    \n",
    "    return set(\"abcdefghijklmnopqrstuvwxyz\").issubset(s.lower())\n",
    "is_pangram('the quick brown fox jumps over the lazy dog')\n"
   ]
  },
  {
   "cell_type": "markdown",
   "metadata": {},
   "source": [
    "### 13) Write a function that returns the number of uppercase and lowercase letters in the given string. \n",
    "#### example : Input : s1 = AbcDEfgh ,Ouptput : no_upper = 3, no_lower = 5"
   ]
  },
  {
   "cell_type": "code",
   "execution_count": null,
   "metadata": {},
   "outputs": [],
   "source": [
    "s1  = AbcDEfgh\n",
    "def "
   ]
  },
  {
   "cell_type": "markdown",
   "metadata": {},
   "source": [
    "### 14) Write a lambda function to get smallest number from the given two numbers."
   ]
  },
  {
   "cell_type": "code",
   "execution_count": null,
   "metadata": {},
   "outputs": [],
   "source": [
    "x=2\n",
    "y=5\n",
    "smallest = lambda x, y: x if x < y else y\n",
    "\n",
    "print(smallest(x,y))"
   ]
  },
  {
   "cell_type": "markdown",
   "metadata": {},
   "source": [
    "### 15) For the given list of names of students, extract the names having more that 7 characters. Use filter()."
   ]
  },
  {
   "cell_type": "code",
   "execution_count": null,
   "metadata": {},
   "outputs": [],
   "source": [
    "def filter_long_names(names):\n",
    "   \n",
    "    return list(filter(lambda name: len(name) > 7, names))\n",
    "filter_long_names(['harry','sejal','marko jansen'])\n",
    "\n"
   ]
  },
  {
   "cell_type": "markdown",
   "metadata": {},
   "source": [
    "### 16) For the given list of names of students, convert the first letter of all the names into uppercase. use map()."
   ]
  },
  {
   "cell_type": "code",
   "execution_count": 1,
   "metadata": {},
   "outputs": [
    {
     "name": "stdout",
     "output_type": "stream",
     "text": [
      "['Alice', 'Bob', 'Charlie', 'Dave', 'Eve']\n"
     ]
    }
   ],
   "source": [
    "students = [\"alice\", \"bob\", \"charlie\", \"dave\", \"eve\"]\n",
    "\n",
    "capitalized_students = list(map(lambda name: name.capitalize(), students))\n",
    "\n",
    "print(capitalized_students)\n",
    "\n"
   ]
  },
  {
   "cell_type": "markdown",
   "metadata": {},
   "source": [
    "### 17) Write udfs to call the functions with following types of arguments:\n",
    "1. Positional Arguments\n",
    "2. Keyword Arguments\n",
    "3. Default Arguments\n",
    "4. Variable Legngth Positional(*args) & variable length Keyword Arguments (**kwargs)\n",
    "5. Keyword-Only & Positional Only Arguments"
   ]
  },
  {
   "cell_type": "code",
   "execution_count": 3,
   "metadata": {},
   "outputs": [
    {
     "name": "stdout",
     "output_type": "stream",
     "text": [
      "Alice 25\n",
      "Bob 30\n",
      "Charlie 20\n",
      "David 35\n",
      "(10, 20, 30)\n",
      "{'name': 'Eve', 'age': 22}\n",
      "Frank 28\n",
      "Grace 24\n"
     ]
    }
   ],
   "source": [
    "def pos_args(name, age):\n",
    "    print(name, age)\n",
    "\n",
    "pos_args(\"Alice\", 25)\n",
    "\n",
    "\n",
    "def kw_args(name, age):\n",
    "    print(name, age)\n",
    "\n",
    "kw_args(age=30, name=\"Bob\")\n",
    "\n",
    "\n",
    "def default_args(name, age=20):\n",
    "    print(name, age)\n",
    "\n",
    "default_args(\"Charlie\")\n",
    "default_args(\"David\", 35)\n",
    "\n",
    "\n",
    "def var_pos_args(*args):\n",
    "    print(args)\n",
    "\n",
    "var_pos_args(10, 20, 30)\n",
    "\n",
    "\n",
    "def var_kw_args(**kwargs):\n",
    "    print(kwargs)\n",
    "\n",
    "var_kw_args(name=\"Eve\", age=22)\n",
    "\n",
    "\n",
    "def kw_only(*, name, age):\n",
    "    print(name, age)\n",
    "\n",
    "kw_only(name=\"Frank\", age=28)\n",
    "\n",
    "\n",
    "def pos_only(name, age, /):\n",
    "    print(name, age)\n",
    "\n",
    "pos_only(\"Grace\", 24)\n"
   ]
  },
  {
   "cell_type": "code",
   "execution_count": null,
   "metadata": {},
   "outputs": [],
   "source": []
  }
 ],
 "metadata": {
  "kernelspec": {
   "display_name": "Python 3 (ipykernel)",
   "language": "python",
   "name": "python3"
  },
  "language_info": {
   "codemirror_mode": {
    "name": "ipython",
    "version": 3
   },
   "file_extension": ".py",
   "mimetype": "text/x-python",
   "name": "python",
   "nbconvert_exporter": "python",
   "pygments_lexer": "ipython3",
   "version": "3.12.7"
  }
 },
 "nbformat": 4,
 "nbformat_minor": 4
}
