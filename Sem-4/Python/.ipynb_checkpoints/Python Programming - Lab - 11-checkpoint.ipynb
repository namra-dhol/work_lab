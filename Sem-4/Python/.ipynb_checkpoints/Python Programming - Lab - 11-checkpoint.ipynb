{
 "cells": [
  {
   "attachments": {},
   "cell_type": "markdown",
   "metadata": {},
   "source": [
    "<a href='https://www.darshan.ac.in/'> <img src='https://www.darshan.ac.in/Content/media/DU_Logo.svg' width=\"250\" height=\"300\"/></a>\n",
    "<pre>\n",
    "<center><b><h1>Python Programming - 2301CS404</b></center>\n",
    "<center><b><h1>Lab - 11</b></center> \n",
    "<center><b><h1>Dhol Namra</b></center>\n",
    "<center><b><h1>Enroll:23010101407</b></center>\n",
    "<center><b><h1>09-02-2025</b></center>\n",
    "<pre>"
   ]
  },
  {
   "cell_type": "markdown",
   "metadata": {},
   "source": [
    "# Modules"
   ]
  },
  {
   "cell_type": "markdown",
   "metadata": {},
   "source": [
    "### 01) WAP to create Calculator module which defines functions like add, sub,mul and div. \n",
    "### Create another .py file that uses the functions available in Calculator module."
   ]
  },
  {
   "cell_type": "code",
   "execution_count": 9,
   "metadata": {},
   "outputs": [
    {
     "name": "stdout",
     "output_type": "stream",
     "text": [
      "10\n",
      "25\n",
      "-1\n"
     ]
    }
   ],
   "source": [
    "import Calculator\n",
    "print(Calculator.add(5,5))\n",
    "print(Calculator.mul(5,5))\n",
    "print(Calculator.sub(2,3))"
   ]
  },
  {
   "cell_type": "markdown",
   "metadata": {},
   "source": [
    "### 02) WAP to pick a random character from a given String."
   ]
  },
  {
   "cell_type": "code",
   "execution_count": 33,
   "metadata": {},
   "outputs": [
    {
     "name": "stdin",
     "output_type": "stream",
     "text": [
      "enter the string asdfghjkl;\n"
     ]
    },
    {
     "name": "stdout",
     "output_type": "stream",
     "text": [
      "l\n"
     ]
    }
   ],
   "source": [
    "import random\n",
    "s1 = input(\"enter the string\")\n",
    "print(s1[random.randint(0,len(s1)-1)])"
   ]
  },
  {
   "cell_type": "markdown",
   "metadata": {},
   "source": [
    "### 03) WAP to pick a random element from a given list."
   ]
  },
  {
   "cell_type": "code",
   "execution_count": 31,
   "metadata": {},
   "outputs": [
    {
     "name": "stdout",
     "output_type": "stream",
     "text": [
      "9620\n"
     ]
    }
   ],
   "source": [
    "l1 = [10,20,30,410,740,620,9620,8520] \n",
    "print(random.choice(l1)) "
   ]
  },
  {
   "cell_type": "markdown",
   "metadata": {},
   "source": [
    "### 04) WAP to roll a dice in such a way that every time you get the same number."
   ]
  },
  {
   "cell_type": "code",
   "execution_count": 81,
   "metadata": {},
   "outputs": [
    {
     "name": "stdout",
     "output_type": "stream",
     "text": [
      "3\n"
     ]
    }
   ],
   "source": [
    "random.seed(1)\n",
    "print(random.randint(1,10))"
   ]
  },
  {
   "cell_type": "markdown",
   "metadata": {},
   "source": [
    "### 05) WAP to generate 3 random integers between 100 and 999 which is divisible by 5."
   ]
  },
  {
   "cell_type": "code",
   "execution_count": 74,
   "metadata": {},
   "outputs": [
    {
     "name": "stdout",
     "output_type": "stream",
     "text": [
      "Generated Numbers: 825 180 425\n"
     ]
    }
   ],
   "source": [
    "a = random.randrange(100, 999, 5)\n",
    "b = random.randrange(100, 999, 5)\n",
    "c = random.randrange(100, 999, 5)\n",
    "\n",
    "print(\"Generated Numbers:\", a, b, c)"
   ]
  },
  {
   "cell_type": "markdown",
   "metadata": {},
   "source": [
    "### 06) WAP to generate 100 random lottery tickets and pick two lucky tickets from it and announce them as Winner and Runner up respectively."
   ]
  },
  {
   "cell_type": "code",
   "execution_count": 107,
   "metadata": {},
   "outputs": [
    {
     "name": "stdout",
     "output_type": "stream",
     "text": [
      "[679, 459, 400, 338, 647, 275, 993, 267, 658, 651, 249, 252, 62, 603, 958, 807, 605, 180, 359, 439, 620, 715, 574, 654, 535, 63, 927, 362, 561, 423, 552, 205, 729, 902, 550, 435, 942, 72, 731, 274, 762, 626, 739, 996, 771, 75, 258, 182, 1000, 99, 155, 61, 941, 209, 876, 873, 46, 55, 653, 94, 935, 833, 526, 481, 514, 380, 102, 321, 42, 130, 545, 34, 454, 681, 132, 917, 405, 782, 725, 921, 904, 457, 26, 755, 538, 277, 93, 257, 820, 334, 88, 310, 36, 881, 394, 60, 751, 268, 753, 134]\n",
      "Winner :  902\n",
      "Runners up :  99\n"
     ]
    }
   ],
   "source": [
    "l1 = []\n",
    "while len(l1)!=100:\n",
    "    n = random.randint(1,1000)\n",
    "    if n not in l1:\n",
    "        l1.append(n)\n",
    "print(l1)\n",
    "\n",
    "winner = random.choice(l1)\n",
    "print('Winner : ',winner)\n",
    "l1.remove(winner)\n",
    "runnerup = random.choice(l1)\n",
    "print('Runners up : ',runnerup)\n",
    "\n",
    "# if n1 and n2 in l1 :\n",
    "#     print(\"you are winner :\")\n",
    "# else:\n",
    "#     print(\"you are looser \")\n",
    "   \n",
    "    "
   ]
  },
  {
   "cell_type": "markdown",
   "metadata": {},
   "source": [
    "### 07) WAP to print current date and time in Python."
   ]
  },
  {
   "cell_type": "code",
   "execution_count": 111,
   "metadata": {},
   "outputs": [
    {
     "name": "stdout",
     "output_type": "stream",
     "text": [
      "2025-02-10 13:18:46.334151\n"
     ]
    }
   ],
   "source": [
    "import datetime\n",
    "print(datetime.datetime.now())"
   ]
  },
  {
   "cell_type": "markdown",
   "metadata": {},
   "source": [
    "### 08) Subtract a week (7 days) from a given date in Python."
   ]
  },
  {
   "cell_type": "code",
   "execution_count": 133,
   "metadata": {},
   "outputs": [
    {
     "name": "stdout",
     "output_type": "stream",
     "text": [
      "2025-02-03 13:22:34.202856\n"
     ]
    }
   ],
   "source": [
    "import datetime\n",
    "\n",
    "today = datetime.datetime.now()  # Get the current date and time\n",
    "df2 = datetime.timedelta(days=7)  # Define a timedelta of 7 days\n",
    "\n",
    "future_date = today-df2# Add timedelta to today's date\n",
    "print(future_date)\n"
   ]
  },
  {
   "cell_type": "markdown",
   "metadata": {},
   "source": [
    "### 09) WAP to Calculate number of days between two given dates."
   ]
  },
  {
   "cell_type": "code",
   "execution_count": 164,
   "metadata": {},
   "outputs": [
    {
     "name": "stdout",
     "output_type": "stream",
     "text": [
      "2\n"
     ]
    }
   ],
   "source": [
    "a = datetime.datetime(2025,2,8)\n",
    "b = datetime.datetime(2025,2,10)\n",
    "print(abs(a-b).days)"
   ]
  },
  {
   "cell_type": "markdown",
   "metadata": {},
   "source": [
    "### 10) WAP to Find the day of the week of a given date.(i.e. wether it is sunday/monday/tuesday/etc.)"
   ]
  },
  {
   "cell_type": "code",
   "execution_count": 168,
   "metadata": {},
   "outputs": [
    {
     "name": "stdout",
     "output_type": "stream",
     "text": [
      "Monday\n"
     ]
    }
   ],
   "source": [
    "a = datetime.datetime(2005,6,20)\n",
    "print(a.strftime('%A'))"
   ]
  },
  {
   "cell_type": "markdown",
   "metadata": {},
   "source": [
    "### 11) WAP to demonstrate the use of date time module."
   ]
  },
  {
   "cell_type": "code",
   "execution_count": 171,
   "metadata": {},
   "outputs": [
    {
     "name": "stdout",
     "output_type": "stream",
     "text": [
      "Monday\n"
     ]
    }
   ],
   "source": [
    "a = datetime.datetime(2005,6,20)\n",
    "print(a.strftime('%A'))"
   ]
  },
  {
   "cell_type": "markdown",
   "metadata": {},
   "source": [
    "### 12) WAP to demonstrate the use of the math module."
   ]
  },
  {
   "cell_type": "code",
   "execution_count": 173,
   "metadata": {},
   "outputs": [
    {
     "name": "stdout",
     "output_type": "stream",
     "text": [
      "3.141592653589793\n"
     ]
    }
   ],
   "source": [
    "import math\n",
    "print(math.pi)"
   ]
  },
  {
   "cell_type": "code",
   "execution_count": null,
   "metadata": {},
   "outputs": [],
   "source": []
  }
 ],
 "metadata": {
  "kernelspec": {
   "display_name": "Python 3 (ipykernel)",
   "language": "python",
   "name": "python3"
  },
  "language_info": {
   "codemirror_mode": {
    "name": "ipython",
    "version": 3
   },
   "file_extension": ".py",
   "mimetype": "text/x-python",
   "name": "python",
   "nbconvert_exporter": "python",
   "pygments_lexer": "ipython3",
   "version": "3.12.7"
  }
 },
 "nbformat": 4,
 "nbformat_minor": 4
}
