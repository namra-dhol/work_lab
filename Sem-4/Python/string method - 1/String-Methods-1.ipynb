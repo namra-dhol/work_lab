{
 "cells": [
  {
   "cell_type": "markdown",
   "id": "be6c9acf-e627-42be-a4de-95dd718f097b",
   "metadata": {},
   "source": [
    "## Iterating a String"
   ]
  },
  {
   "cell_type": "code",
   "execution_count": 1,
   "id": "1965c6c8-ac79-4ef0-9922-d1733e462104",
   "metadata": {},
   "outputs": [],
   "source": [
    "s = 'Hello'"
   ]
  },
  {
   "cell_type": "code",
   "execution_count": 3,
   "id": "5e04ce7f-e6fe-4012-9abc-97343e797bec",
   "metadata": {},
   "outputs": [
    {
     "data": {
      "text/plain": [
       "'Hello'"
      ]
     },
     "execution_count": 3,
     "metadata": {},
     "output_type": "execute_result"
    }
   ],
   "source": [
    "s"
   ]
  },
  {
   "cell_type": "code",
   "execution_count": 5,
   "id": "4234e2f2-0371-4cf9-a463-0c00d8ae506d",
   "metadata": {},
   "outputs": [
    {
     "name": "stdout",
     "output_type": "stream",
     "text": [
      "H\n",
      "e\n",
      "l\n",
      "l\n",
      "o\n"
     ]
    }
   ],
   "source": [
    "for i in s:\n",
    "    print(i)"
   ]
  },
  {
   "cell_type": "code",
   "execution_count": 7,
   "id": "8edd770b-32e4-4bca-985a-94d5795ee612",
   "metadata": {},
   "outputs": [
    {
     "name": "stdout",
     "output_type": "stream",
     "text": [
      "H\n",
      "e\n",
      "l\n",
      "l\n",
      "o\n"
     ]
    }
   ],
   "source": [
    "for i in range(len(s)):\n",
    "    print(s[i])"
   ]
  },
  {
   "cell_type": "code",
   "execution_count": 9,
   "id": "86a76945-858d-4224-8768-570f322b8f35",
   "metadata": {},
   "outputs": [
    {
     "name": "stdout",
     "output_type": "stream",
     "text": [
      "0\n",
      "2\n",
      "4\n"
     ]
    }
   ],
   "source": [
    "for i in range(0,5,2):\n",
    "    print(i)"
   ]
  },
  {
   "cell_type": "markdown",
   "id": "7d548295-f944-49d4-a672-b49b11818503",
   "metadata": {},
   "source": [
    "## String Concatenation"
   ]
  },
  {
   "cell_type": "code",
   "execution_count": 12,
   "id": "b5de3a3c-a873-48f5-97c4-e2c03426451a",
   "metadata": {},
   "outputs": [],
   "source": [
    "s1 = 'Hello '"
   ]
  },
  {
   "cell_type": "code",
   "execution_count": 14,
   "id": "20172cdf-656d-4db7-b682-750cbe9c6bfd",
   "metadata": {},
   "outputs": [],
   "source": [
    "s2 = ' World'"
   ]
  },
  {
   "cell_type": "code",
   "execution_count": 24,
   "id": "5a5c6425-abad-48c5-a2cd-f5a246574c00",
   "metadata": {},
   "outputs": [],
   "source": [
    "s = s1 , s2"
   ]
  },
  {
   "cell_type": "code",
   "execution_count": 26,
   "id": "acb3ea28-7abc-4a4d-8d39-b752ce95ae5c",
   "metadata": {},
   "outputs": [
    {
     "data": {
      "text/plain": [
       "('Hello ', ' World')"
      ]
     },
     "execution_count": 26,
     "metadata": {},
     "output_type": "execute_result"
    }
   ],
   "source": [
    "s"
   ]
  },
  {
   "cell_type": "code",
   "execution_count": 28,
   "id": "3b93d11b-0a75-4459-ba42-3980647aac5d",
   "metadata": {},
   "outputs": [
    {
     "name": "stdout",
     "output_type": "stream",
     "text": [
      "<class 'tuple'>\n"
     ]
    }
   ],
   "source": [
    "print(type(s))"
   ]
  },
  {
   "cell_type": "code",
   "execution_count": 32,
   "id": "6fbb71c1-e4b9-415b-87b2-49fcdc600935",
   "metadata": {},
   "outputs": [],
   "source": [
    "s = s1 + s2"
   ]
  },
  {
   "cell_type": "code",
   "execution_count": 34,
   "id": "7e6ab281-7323-401d-a087-6317eb3ffe4f",
   "metadata": {},
   "outputs": [
    {
     "data": {
      "text/plain": [
       "'Hello  World'"
      ]
     },
     "execution_count": 34,
     "metadata": {},
     "output_type": "execute_result"
    }
   ],
   "source": [
    "s"
   ]
  },
  {
   "cell_type": "code",
   "execution_count": 36,
   "id": "a5cd9aae-845e-409e-9333-a258f6228bcb",
   "metadata": {},
   "outputs": [
    {
     "name": "stdout",
     "output_type": "stream",
     "text": [
      "<class 'str'>\n"
     ]
    }
   ],
   "source": [
    "print(type(s))"
   ]
  },
  {
   "cell_type": "markdown",
   "id": "289ca829-a856-474d-8ab3-e4a9a01c87b1",
   "metadata": {},
   "source": [
    "## String Repitition"
   ]
  },
  {
   "cell_type": "code",
   "execution_count": 39,
   "id": "d98f102d-a112-481e-b224-1d515c985dfa",
   "metadata": {},
   "outputs": [],
   "source": [
    "s1 = 'Hi'"
   ]
  },
  {
   "cell_type": "code",
   "execution_count": 41,
   "id": "eaf36e57-de27-415b-a43d-241d02feba9c",
   "metadata": {},
   "outputs": [
    {
     "ename": "TypeError",
     "evalue": "can't multiply sequence by non-int of type 'float'",
     "output_type": "error",
     "traceback": [
      "\u001b[1;31m---------------------------------------------------------------------------\u001b[0m",
      "\u001b[1;31mTypeError\u001b[0m                                 Traceback (most recent call last)",
      "Cell \u001b[1;32mIn[41], line 1\u001b[0m\n\u001b[1;32m----> 1\u001b[0m s1 \u001b[38;5;241m=\u001b[39m s1\u001b[38;5;241m*\u001b[39m\u001b[38;5;241m5.2\u001b[39m\n",
      "\u001b[1;31mTypeError\u001b[0m: can't multiply sequence by non-int of type 'float'"
     ]
    }
   ],
   "source": [
    "s1 = s1*5.2"
   ]
  },
  {
   "cell_type": "code",
   "execution_count": 43,
   "id": "316d8595-11bf-4db1-99a9-c046bf6e3ca7",
   "metadata": {},
   "outputs": [
    {
     "data": {
      "text/plain": [
       "'HiHiHi'"
      ]
     },
     "execution_count": 43,
     "metadata": {},
     "output_type": "execute_result"
    }
   ],
   "source": [
    "s1*3"
   ]
  },
  {
   "cell_type": "markdown",
   "id": "41e5ac5d-f4a6-4df7-ae1f-255e7a28cd17",
   "metadata": {},
   "source": [
    "## String Slicing"
   ]
  },
  {
   "cell_type": "code",
   "execution_count": 46,
   "id": "e1cc8b5e-5eb4-497b-bada-ca90f4c6a452",
   "metadata": {},
   "outputs": [],
   "source": [
    "s1 = 'Hello World'"
   ]
  },
  {
   "cell_type": "code",
   "execution_count": 48,
   "id": "400da56e-3069-48db-868e-836b12536876",
   "metadata": {},
   "outputs": [
    {
     "data": {
      "text/plain": [
       "'World'"
      ]
     },
     "execution_count": 48,
     "metadata": {},
     "output_type": "execute_result"
    }
   ],
   "source": [
    "s1[6::]"
   ]
  },
  {
   "cell_type": "code",
   "execution_count": 56,
   "id": "046ae07b-c3e2-48e2-9c8a-34398ffeffdd",
   "metadata": {},
   "outputs": [
    {
     "data": {
      "text/plain": [
       "'Hello World'"
      ]
     },
     "execution_count": 56,
     "metadata": {},
     "output_type": "execute_result"
    }
   ],
   "source": [
    "s1[0:len(s1):]"
   ]
  },
  {
   "cell_type": "code",
   "execution_count": 58,
   "id": "0c9b9852-a70a-4242-bb51-20ecb3787dc3",
   "metadata": {},
   "outputs": [
    {
     "data": {
      "text/plain": [
       "'Hello World'"
      ]
     },
     "execution_count": 58,
     "metadata": {},
     "output_type": "execute_result"
    }
   ],
   "source": [
    "s1[:len(s1):]"
   ]
  },
  {
   "cell_type": "code",
   "execution_count": 60,
   "id": "5138c41d-01d7-4b8b-93ac-8fd9974704c5",
   "metadata": {},
   "outputs": [
    {
     "data": {
      "text/plain": [
       "'Hello World'"
      ]
     },
     "execution_count": 60,
     "metadata": {},
     "output_type": "execute_result"
    }
   ],
   "source": [
    "s1[0::]"
   ]
  },
  {
   "cell_type": "code",
   "execution_count": 68,
   "id": "a40ca40d-88bc-4d4d-a580-c5ce61182cdd",
   "metadata": {},
   "outputs": [
    {
     "data": {
      "text/plain": [
       "'dlroW olle'"
      ]
     },
     "execution_count": 68,
     "metadata": {},
     "output_type": "execute_result"
    }
   ],
   "source": [
    "s1[len(s1)-1:0:-1]"
   ]
  },
  {
   "cell_type": "code",
   "execution_count": 70,
   "id": "5916aaa6-1a18-4802-be25-c1a395ead8ec",
   "metadata": {},
   "outputs": [
    {
     "data": {
      "text/plain": [
       "'dlroW olleH'"
      ]
     },
     "execution_count": 70,
     "metadata": {},
     "output_type": "execute_result"
    }
   ],
   "source": [
    "s1[-1:-len(s1)-1:-1]"
   ]
  },
  {
   "cell_type": "code",
   "execution_count": 72,
   "id": "ff728b11-db3c-425d-b663-d1bbf80fb514",
   "metadata": {},
   "outputs": [
    {
     "data": {
      "text/plain": [
       "'dlroW olleH'"
      ]
     },
     "execution_count": 72,
     "metadata": {},
     "output_type": "execute_result"
    }
   ],
   "source": [
    "s1[::-1]"
   ]
  },
  {
   "cell_type": "code",
   "execution_count": 74,
   "id": "50c84ea2-8570-4e78-a2fe-2b567d7219cc",
   "metadata": {},
   "outputs": [
    {
     "data": {
      "text/plain": [
       "11"
      ]
     },
     "execution_count": 74,
     "metadata": {},
     "output_type": "execute_result"
    }
   ],
   "source": [
    "len(s1)"
   ]
  },
  {
   "cell_type": "markdown",
   "id": "13fefdd4-d04c-4812-860f-89a6f4b8e764",
   "metadata": {},
   "source": [
    "## in and not in operator"
   ]
  },
  {
   "cell_type": "code",
   "execution_count": 77,
   "id": "8ef18e67-be0f-4a0c-ad00-cdb478273d8f",
   "metadata": {},
   "outputs": [],
   "source": [
    "s1 = 'Hello World'"
   ]
  },
  {
   "cell_type": "code",
   "execution_count": 79,
   "id": "6d7467e0-012a-4d1f-96b6-9848253dc13d",
   "metadata": {},
   "outputs": [
    {
     "data": {
      "text/plain": [
       "False"
      ]
     },
     "execution_count": 79,
     "metadata": {},
     "output_type": "execute_result"
    }
   ],
   "source": [
    "'World' not in s1"
   ]
  },
  {
   "cell_type": "code",
   "execution_count": 83,
   "id": "f6fec01f-dcb7-4102-8e1b-07ca40245fb5",
   "metadata": {},
   "outputs": [
    {
     "data": {
      "text/plain": [
       "True"
      ]
     },
     "execution_count": 83,
     "metadata": {},
     "output_type": "execute_result"
    }
   ],
   "source": [
    "'o' in s1"
   ]
  },
  {
   "cell_type": "markdown",
   "id": "faf83551-378d-4e84-87e4-bf692f8c78fe",
   "metadata": {},
   "source": [
    "## help()"
   ]
  },
  {
   "cell_type": "code",
   "execution_count": 86,
   "id": "eea68493-2730-47e9-9ce6-b8efdd7717e4",
   "metadata": {},
   "outputs": [
    {
     "name": "stdout",
     "output_type": "stream",
     "text": [
      "Help on built-in function rfind:\n",
      "\n",
      "rfind(...) method of builtins.str instance\n",
      "    S.rfind(sub[, start[, end]]) -> int\n",
      "\n",
      "    Return the highest index in S where substring sub is found,\n",
      "    such that sub is contained within S[start:end].  Optional\n",
      "    arguments start and end are interpreted as in slice notation.\n",
      "\n",
      "    Return -1 on failure.\n",
      "\n"
     ]
    }
   ],
   "source": [
    "help(s1.rfind)"
   ]
  },
  {
   "cell_type": "markdown",
   "id": "d897d7c8-3a8a-404a-8b5a-a621699b65ae",
   "metadata": {},
   "source": [
    "## find(), rfind(), index(), rindex(), count()"
   ]
  },
  {
   "cell_type": "code",
   "execution_count": 89,
   "id": "17a1761f-b965-4f02-8512-cf74f972457d",
   "metadata": {},
   "outputs": [],
   "source": [
    "s = 'hello, how are you'"
   ]
  },
  {
   "cell_type": "code",
   "execution_count": 95,
   "id": "3f35d801-f83a-4ef0-942a-9c40de54285f",
   "metadata": {},
   "outputs": [
    {
     "data": {
      "text/plain": [
       "4"
      ]
     },
     "execution_count": 95,
     "metadata": {},
     "output_type": "execute_result"
    }
   ],
   "source": [
    "s.find('o')"
   ]
  },
  {
   "cell_type": "code",
   "execution_count": 97,
   "id": "f5f33e9c-590a-49df-9fa4-9d6bfaaf5fda",
   "metadata": {},
   "outputs": [
    {
     "data": {
      "text/plain": [
       "8"
      ]
     },
     "execution_count": 97,
     "metadata": {},
     "output_type": "execute_result"
    }
   ],
   "source": [
    "s.find('o',7)"
   ]
  },
  {
   "cell_type": "code",
   "execution_count": 91,
   "id": "507e7760-3dda-42cd-bef9-eef3abddc355",
   "metadata": {},
   "outputs": [
    {
     "data": {
      "text/plain": [
       "-1"
      ]
     },
     "execution_count": 91,
     "metadata": {},
     "output_type": "execute_result"
    }
   ],
   "source": [
    "s.find('z')"
   ]
  },
  {
   "cell_type": "code",
   "execution_count": 99,
   "id": "13de091a-25dd-4ec6-ba38-6151621a2c5a",
   "metadata": {},
   "outputs": [
    {
     "data": {
      "text/plain": [
       "4"
      ]
     },
     "execution_count": 99,
     "metadata": {},
     "output_type": "execute_result"
    }
   ],
   "source": [
    "s.index('o')"
   ]
  },
  {
   "cell_type": "code",
   "execution_count": 101,
   "id": "3e20a8f7-d305-404a-b4c8-2a69dcb7f738",
   "metadata": {},
   "outputs": [
    {
     "ename": "ValueError",
     "evalue": "substring not found",
     "output_type": "error",
     "traceback": [
      "\u001b[1;31m---------------------------------------------------------------------------\u001b[0m",
      "\u001b[1;31mValueError\u001b[0m                                Traceback (most recent call last)",
      "Cell \u001b[1;32mIn[101], line 1\u001b[0m\n\u001b[1;32m----> 1\u001b[0m s\u001b[38;5;241m.\u001b[39mindex(\u001b[38;5;124m'\u001b[39m\u001b[38;5;124mz\u001b[39m\u001b[38;5;124m'\u001b[39m)\n",
      "\u001b[1;31mValueError\u001b[0m: substring not found"
     ]
    }
   ],
   "source": [
    "s.index('z')"
   ]
  },
  {
   "cell_type": "code",
   "execution_count": 103,
   "id": "36fc8c5c-041f-45c2-9057-46cef2ecd8ce",
   "metadata": {},
   "outputs": [
    {
     "data": {
      "text/plain": [
       "3"
      ]
     },
     "execution_count": 103,
     "metadata": {},
     "output_type": "execute_result"
    }
   ],
   "source": [
    "s.count('o')"
   ]
  },
  {
   "cell_type": "markdown",
   "id": "2e7c0fa7-9b0d-4aa8-83cc-3b542b648eff",
   "metadata": {},
   "source": [
    "## Alignment --> ljust(), rjust(), center()"
   ]
  },
  {
   "cell_type": "code",
   "execution_count": 106,
   "id": "6ebf4080-c998-418d-aee6-4f73d5fdf219",
   "metadata": {},
   "outputs": [],
   "source": [
    "s = 'python'"
   ]
  },
  {
   "cell_type": "code",
   "execution_count": 108,
   "id": "42b806c4-36c3-4b38-8cc8-e00b6944de3a",
   "metadata": {},
   "outputs": [
    {
     "data": {
      "text/plain": [
       "'python'"
      ]
     },
     "execution_count": 108,
     "metadata": {},
     "output_type": "execute_result"
    }
   ],
   "source": [
    "s"
   ]
  },
  {
   "cell_type": "code",
   "execution_count": 112,
   "id": "8bc1f437-e065-4525-8d54-84604cb901de",
   "metadata": {},
   "outputs": [
    {
     "data": {
      "text/plain": [
       "'python    '"
      ]
     },
     "execution_count": 112,
     "metadata": {},
     "output_type": "execute_result"
    }
   ],
   "source": [
    "s.ljust(10)"
   ]
  },
  {
   "cell_type": "code",
   "execution_count": 116,
   "id": "731cdc50-577a-422f-ade3-09e23978dbaa",
   "metadata": {},
   "outputs": [
    {
     "data": {
      "text/plain": [
       "'python****'"
      ]
     },
     "execution_count": 116,
     "metadata": {},
     "output_type": "execute_result"
    }
   ],
   "source": [
    "s.ljust(10,'*')"
   ]
  },
  {
   "cell_type": "code",
   "execution_count": 118,
   "id": "c23bfd42-952b-4469-af1d-bd1718feff9c",
   "metadata": {},
   "outputs": [
    {
     "data": {
      "text/plain": [
       "'****python'"
      ]
     },
     "execution_count": 118,
     "metadata": {},
     "output_type": "execute_result"
    }
   ],
   "source": [
    "s.rjust(10,'*')"
   ]
  },
  {
   "cell_type": "code",
   "execution_count": 120,
   "id": "2c81c94d-9116-4464-b4ba-83b603c1eeb3",
   "metadata": {},
   "outputs": [
    {
     "data": {
      "text/plain": [
       "'**python**'"
      ]
     },
     "execution_count": 120,
     "metadata": {},
     "output_type": "execute_result"
    }
   ],
   "source": [
    "s.center(10,'*')"
   ]
  },
  {
   "cell_type": "markdown",
   "id": "02aeb26c-80b3-4015-ac98-55ed51e58da3",
   "metadata": {},
   "source": [
    "## strip(), lstrip(), rstrip()"
   ]
  },
  {
   "cell_type": "code",
   "execution_count": 125,
   "id": "3bf6e69e-d5ec-473d-a85a-dae2810dd24a",
   "metadata": {},
   "outputs": [],
   "source": [
    "s = '     python      '"
   ]
  },
  {
   "cell_type": "code",
   "execution_count": 127,
   "id": "01a379dd-6c98-45c2-8c57-714c71df3ba4",
   "metadata": {},
   "outputs": [],
   "source": [
    "s = s.lstrip()"
   ]
  },
  {
   "cell_type": "code",
   "execution_count": 129,
   "id": "3394260e-7ef1-4d68-9cb5-3437d3a3d32a",
   "metadata": {},
   "outputs": [
    {
     "data": {
      "text/plain": [
       "'python      '"
      ]
     },
     "execution_count": 129,
     "metadata": {},
     "output_type": "execute_result"
    }
   ],
   "source": [
    "s"
   ]
  },
  {
   "cell_type": "code",
   "execution_count": 131,
   "id": "5368c4bd-7697-4f8e-8ad4-3020c3d17f9c",
   "metadata": {},
   "outputs": [],
   "source": [
    "s = s.rstrip()"
   ]
  },
  {
   "cell_type": "code",
   "execution_count": 133,
   "id": "43d6b76b-e364-439e-9869-ca8960213fbc",
   "metadata": {},
   "outputs": [
    {
     "data": {
      "text/plain": [
       "'python'"
      ]
     },
     "execution_count": 133,
     "metadata": {},
     "output_type": "execute_result"
    }
   ],
   "source": [
    "s"
   ]
  },
  {
   "cell_type": "code",
   "execution_count": 135,
   "id": "dc9c384d-2733-45f7-930e-30d912c57c6c",
   "metadata": {},
   "outputs": [],
   "source": [
    "s = '     python      '"
   ]
  },
  {
   "cell_type": "code",
   "execution_count": 137,
   "id": "6cf0101e-8367-4d30-ba89-85e874022d64",
   "metadata": {},
   "outputs": [
    {
     "data": {
      "text/plain": [
       "'python'"
      ]
     },
     "execution_count": 137,
     "metadata": {},
     "output_type": "execute_result"
    }
   ],
   "source": [
    "s.strip()"
   ]
  },
  {
   "cell_type": "code",
   "execution_count": 139,
   "id": "ec503cd8-989d-48df-9f7b-b2d1d0b16b20",
   "metadata": {},
   "outputs": [],
   "source": [
    "s1 = '...   ....    +++++aaapython'"
   ]
  },
  {
   "cell_type": "code",
   "execution_count": 141,
   "id": "87585a63-c245-46fc-914b-d8bfbeb9d8b8",
   "metadata": {},
   "outputs": [
    {
     "data": {
      "text/plain": [
       "'...   ....    +++++aaapython'"
      ]
     },
     "execution_count": 141,
     "metadata": {},
     "output_type": "execute_result"
    }
   ],
   "source": [
    "s1.lstrip()"
   ]
  },
  {
   "cell_type": "code",
   "execution_count": 143,
   "id": "98c5025f-aa01-4e4c-a347-a234cd714a1e",
   "metadata": {},
   "outputs": [
    {
     "data": {
      "text/plain": [
       "'   ....    +++++aaapython'"
      ]
     },
     "execution_count": 143,
     "metadata": {},
     "output_type": "execute_result"
    }
   ],
   "source": [
    "s1.lstrip('.')"
   ]
  },
  {
   "cell_type": "code",
   "execution_count": 145,
   "id": "d36813d6-6add-4609-9419-c2851b18bc65",
   "metadata": {},
   "outputs": [
    {
     "data": {
      "text/plain": [
       "'+++++aaapython'"
      ]
     },
     "execution_count": 145,
     "metadata": {},
     "output_type": "execute_result"
    }
   ],
   "source": [
    "s1.lstrip('. ')"
   ]
  },
  {
   "cell_type": "code",
   "execution_count": 147,
   "id": "69f484b8-4e8d-4915-a388-dd620c79d9f9",
   "metadata": {},
   "outputs": [
    {
     "data": {
      "text/plain": [
       "'aaapython'"
      ]
     },
     "execution_count": 147,
     "metadata": {},
     "output_type": "execute_result"
    }
   ],
   "source": [
    "s1.lstrip('. +')"
   ]
  },
  {
   "cell_type": "code",
   "execution_count": 149,
   "id": "346de9af-571f-44c2-a581-cfe9675d8e71",
   "metadata": {},
   "outputs": [
    {
     "data": {
      "text/plain": [
       "'python'"
      ]
     },
     "execution_count": 149,
     "metadata": {},
     "output_type": "execute_result"
    }
   ],
   "source": [
    "s1.lstrip('. +a')"
   ]
  }
 ],
 "metadata": {
  "kernelspec": {
   "display_name": "Python 3 (ipykernel)",
   "language": "python",
   "name": "python3"
  },
  "language_info": {
   "codemirror_mode": {
    "name": "ipython",
    "version": 3
   },
   "file_extension": ".py",
   "mimetype": "text/x-python",
   "name": "python",
   "nbconvert_exporter": "python",
   "pygments_lexer": "ipython3",
   "version": "3.12.7"
  }
 },
 "nbformat": 4,
 "nbformat_minor": 5
}
