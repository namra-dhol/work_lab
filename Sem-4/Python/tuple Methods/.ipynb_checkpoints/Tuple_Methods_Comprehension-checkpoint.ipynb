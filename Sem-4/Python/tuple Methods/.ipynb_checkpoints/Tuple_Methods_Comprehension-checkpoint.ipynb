{
 "cells": [
  {
   "cell_type": "markdown",
   "id": "7e81fbbb-b85d-46b7-a6c6-233b5f2d8ade",
   "metadata": {},
   "source": [
    "## Tuple Comprehension"
   ]
  },
  {
   "cell_type": "code",
   "execution_count": 2,
   "id": "ece22344-4b9e-4c12-bf97-d96bfcee6d3a",
   "metadata": {},
   "outputs": [],
   "source": [
    "l1 = [i for i in range(5)]"
   ]
  },
  {
   "cell_type": "code",
   "execution_count": 4,
   "id": "49835509-ff34-4072-a488-cf2f6b014670",
   "metadata": {},
   "outputs": [
    {
     "data": {
      "text/plain": [
       "[0, 1, 2, 3, 4]"
      ]
     },
     "execution_count": 4,
     "metadata": {},
     "output_type": "execute_result"
    }
   ],
   "source": [
    "l1"
   ]
  },
  {
   "cell_type": "code",
   "execution_count": 6,
   "id": "1fc4b43d-4b89-4140-a79f-c29335b4e994",
   "metadata": {},
   "outputs": [],
   "source": [
    "t1 = (i for i in range(5))"
   ]
  },
  {
   "cell_type": "code",
   "execution_count": 8,
   "id": "adf0386a-f29d-4c4e-bbeb-c37ee89b509c",
   "metadata": {},
   "outputs": [
    {
     "data": {
      "text/plain": [
       "<generator object <genexpr> at 0x000002A1F3569540>"
      ]
     },
     "execution_count": 8,
     "metadata": {},
     "output_type": "execute_result"
    }
   ],
   "source": [
    "t1"
   ]
  },
  {
   "cell_type": "code",
   "execution_count": 10,
   "id": "cf543f5d-8e2b-4d29-a52d-a0d55f72af47",
   "metadata": {},
   "outputs": [],
   "source": [
    "t1 = tuple(i for i in range(5))"
   ]
  },
  {
   "cell_type": "code",
   "execution_count": 12,
   "id": "ee6a2439-42ca-46a3-b636-873f4f784ffa",
   "metadata": {},
   "outputs": [
    {
     "data": {
      "text/plain": [
       "(0, 1, 2, 3, 4)"
      ]
     },
     "execution_count": 12,
     "metadata": {},
     "output_type": "execute_result"
    }
   ],
   "source": [
    "t1"
   ]
  },
  {
   "cell_type": "code",
   "execution_count": 14,
   "id": "58395281-4cc7-41b6-b079-0c63d815f3ba",
   "metadata": {},
   "outputs": [],
   "source": [
    "t2 =(*(i for i in range(5)),)"
   ]
  },
  {
   "cell_type": "code",
   "execution_count": 16,
   "id": "6c3f79fa-dcb3-43ed-8c53-8e2a86af16e7",
   "metadata": {},
   "outputs": [
    {
     "data": {
      "text/plain": [
       "(0, 1, 2, 3, 4)"
      ]
     },
     "execution_count": 16,
     "metadata": {},
     "output_type": "execute_result"
    }
   ],
   "source": [
    "t2"
   ]
  },
  {
   "cell_type": "code",
   "execution_count": 18,
   "id": "1661c10b-ab67-4edf-9593-40058952d73e",
   "metadata": {},
   "outputs": [],
   "source": [
    "t3 = (*(i for i in range(1,11,2)),)"
   ]
  },
  {
   "cell_type": "code",
   "execution_count": 20,
   "id": "ac44e648-d000-42a7-a4fa-36fb3d689c64",
   "metadata": {},
   "outputs": [
    {
     "data": {
      "text/plain": [
       "(1, 3, 5, 7, 9)"
      ]
     },
     "execution_count": 20,
     "metadata": {},
     "output_type": "execute_result"
    }
   ],
   "source": [
    "t3"
   ]
  },
  {
   "cell_type": "code",
   "execution_count": 22,
   "id": "20cb40c5-1ddc-4813-a20e-77c71904501f",
   "metadata": {},
   "outputs": [],
   "source": [
    "t4 = (*(i for i in 'Python'),)"
   ]
  },
  {
   "cell_type": "code",
   "execution_count": 24,
   "id": "2529b07a-91db-49e2-ace0-05262185909f",
   "metadata": {},
   "outputs": [
    {
     "data": {
      "text/plain": [
       "('P', 'y', 't', 'h', 'o', 'n')"
      ]
     },
     "execution_count": 24,
     "metadata": {},
     "output_type": "execute_result"
    }
   ],
   "source": [
    "t4"
   ]
  },
  {
   "cell_type": "code",
   "execution_count": 26,
   "id": "018edbbb-07dc-40bf-8a8a-f3579e9d1392",
   "metadata": {},
   "outputs": [],
   "source": [
    "t5 = (*(i for i in 'PyThoN' if i.islower()),)"
   ]
  },
  {
   "cell_type": "code",
   "execution_count": 28,
   "id": "4b0bfb98-a6a1-4d9d-8a55-365ceccff3a9",
   "metadata": {},
   "outputs": [
    {
     "data": {
      "text/plain": [
       "('y', 'h', 'o')"
      ]
     },
     "execution_count": 28,
     "metadata": {},
     "output_type": "execute_result"
    }
   ],
   "source": [
    "t5"
   ]
  },
  {
   "cell_type": "code",
   "execution_count": 30,
   "id": "c2b49f18-2e17-4344-b689-87cee95282fb",
   "metadata": {},
   "outputs": [],
   "source": [
    "t6 = tuple(i for i in 'PyThoN' if i.islower())"
   ]
  },
  {
   "cell_type": "code",
   "execution_count": 32,
   "id": "5960a0ac-48eb-48d2-a4df-6b496188b0d7",
   "metadata": {},
   "outputs": [
    {
     "data": {
      "text/plain": [
       "('y', 'h', 'o')"
      ]
     },
     "execution_count": 32,
     "metadata": {},
     "output_type": "execute_result"
    }
   ],
   "source": [
    "t6"
   ]
  },
  {
   "cell_type": "code",
   "execution_count": 34,
   "id": "f6fc51f5-7af1-4c0a-8809-6bc8ca1628a4",
   "metadata": {},
   "outputs": [],
   "source": [
    "t7 = tuple(i**2 for i in (1,2,3,4,5,6))"
   ]
  },
  {
   "cell_type": "code",
   "execution_count": 36,
   "id": "fc0f0ff1-bbbc-4706-b6bc-d69b5f367a9b",
   "metadata": {},
   "outputs": [
    {
     "data": {
      "text/plain": [
       "(1, 4, 9, 16, 25, 36)"
      ]
     },
     "execution_count": 36,
     "metadata": {},
     "output_type": "execute_result"
    }
   ],
   "source": [
    "t7"
   ]
  },
  {
   "cell_type": "markdown",
   "id": "a4d25b72-8bc9-43e8-b781-9c647764098f",
   "metadata": {},
   "source": [
    "## Tuple Methods"
   ]
  },
  {
   "cell_type": "code",
   "execution_count": 39,
   "id": "b4636a0e-fef9-4f0e-809b-6113b86560cb",
   "metadata": {},
   "outputs": [],
   "source": [
    "t8 =  (1,2,3,4,5,4,4,5,6,7)"
   ]
  },
  {
   "cell_type": "code",
   "execution_count": 41,
   "id": "858ae2f3-b671-4f96-a69d-be551c61a775",
   "metadata": {},
   "outputs": [
    {
     "data": {
      "text/plain": [
       "3"
      ]
     },
     "execution_count": 41,
     "metadata": {},
     "output_type": "execute_result"
    }
   ],
   "source": [
    "t8.count(4)"
   ]
  },
  {
   "cell_type": "code",
   "execution_count": 43,
   "id": "ef2906ad-9dc2-4667-88c7-75925abb71b3",
   "metadata": {},
   "outputs": [
    {
     "data": {
      "text/plain": [
       "2"
      ]
     },
     "execution_count": 43,
     "metadata": {},
     "output_type": "execute_result"
    }
   ],
   "source": [
    "t8.count(5)"
   ]
  },
  {
   "cell_type": "code",
   "execution_count": 45,
   "id": "7463abed-da1a-4b9e-902c-7fed9e76263d",
   "metadata": {},
   "outputs": [
    {
     "data": {
      "text/plain": [
       "2"
      ]
     },
     "execution_count": 45,
     "metadata": {},
     "output_type": "execute_result"
    }
   ],
   "source": [
    "t8.index(3)"
   ]
  },
  {
   "cell_type": "code",
   "execution_count": 47,
   "id": "5eee8e00-1396-4dae-8442-1f5fd0145e28",
   "metadata": {},
   "outputs": [
    {
     "data": {
      "text/plain": [
       "5"
      ]
     },
     "execution_count": 47,
     "metadata": {},
     "output_type": "execute_result"
    }
   ],
   "source": [
    "t8.index(4,4)"
   ]
  },
  {
   "cell_type": "code",
   "execution_count": 49,
   "id": "f587f07d-11e3-4444-b601-1301ff47c96e",
   "metadata": {},
   "outputs": [
    {
     "ename": "ValueError",
     "evalue": "tuple.index(x): x not in tuple",
     "output_type": "error",
     "traceback": [
      "\u001b[1;31m---------------------------------------------------------------------------\u001b[0m",
      "\u001b[1;31mValueError\u001b[0m                                Traceback (most recent call last)",
      "Cell \u001b[1;32mIn[49], line 1\u001b[0m\n\u001b[1;32m----> 1\u001b[0m t8\u001b[38;5;241m.\u001b[39mindex(\u001b[38;5;241m10\u001b[39m)\n",
      "\u001b[1;31mValueError\u001b[0m: tuple.index(x): x not in tuple"
     ]
    }
   ],
   "source": [
    "t8.index(10)"
   ]
  },
  {
   "cell_type": "markdown",
   "id": "3a877231-ed21-4eed-802e-0080da4357ec",
   "metadata": {},
   "source": [
    "## Tuple Iteration"
   ]
  },
  {
   "cell_type": "code",
   "execution_count": 52,
   "id": "bd171273-e683-4eb7-92d7-a4e0846414f7",
   "metadata": {},
   "outputs": [],
   "source": [
    "tuple1 = ('John',45, 89.3,False,5+6j,'Smith',45)"
   ]
  },
  {
   "cell_type": "code",
   "execution_count": 54,
   "id": "6f20d6ae-28a7-49a6-b5ea-bd3be0c813b1",
   "metadata": {},
   "outputs": [
    {
     "name": "stdout",
     "output_type": "stream",
     "text": [
      "John\n",
      "45\n",
      "89.3\n",
      "False\n",
      "(5+6j)\n",
      "Smith\n",
      "45\n"
     ]
    }
   ],
   "source": [
    "for i in tuple1:\n",
    "    print(i)"
   ]
  },
  {
   "cell_type": "code",
   "execution_count": 56,
   "id": "c58f8819-864b-4fb4-b595-0b41f7f83794",
   "metadata": {},
   "outputs": [
    {
     "name": "stdout",
     "output_type": "stream",
     "text": [
      "0 John\n",
      "1 45\n",
      "2 89.3\n",
      "3 False\n",
      "4 (5+6j)\n",
      "5 Smith\n",
      "6 45\n"
     ]
    }
   ],
   "source": [
    "for i in range(len(tuple1)):\n",
    "    print(i,tuple1[i])"
   ]
  },
  {
   "cell_type": "markdown",
   "id": "c557b080-347c-42bc-9130-f003fbf11af2",
   "metadata": {},
   "source": [
    "## Tuple Operators"
   ]
  },
  {
   "cell_type": "code",
   "execution_count": 59,
   "id": "9f755c7c-52ab-4637-a1bd-852fab0a2d18",
   "metadata": {},
   "outputs": [
    {
     "data": {
      "text/plain": [
       "45"
      ]
     },
     "execution_count": 59,
     "metadata": {},
     "output_type": "execute_result"
    }
   ],
   "source": [
    "tuple1[1]"
   ]
  },
  {
   "cell_type": "code",
   "execution_count": 61,
   "id": "3d9f972c-438b-407f-9700-4676d5873393",
   "metadata": {},
   "outputs": [
    {
     "data": {
      "text/plain": [
       "'John'"
      ]
     },
     "execution_count": 61,
     "metadata": {},
     "output_type": "execute_result"
    }
   ],
   "source": [
    "tuple1[0]"
   ]
  },
  {
   "cell_type": "code",
   "execution_count": 63,
   "id": "1aaafca7-f94c-4c83-a88b-890c0e243a8f",
   "metadata": {},
   "outputs": [
    {
     "data": {
      "text/plain": [
       "(5+6j)"
      ]
     },
     "execution_count": 63,
     "metadata": {},
     "output_type": "execute_result"
    }
   ],
   "source": [
    "tuple1[4]"
   ]
  },
  {
   "cell_type": "code",
   "execution_count": 65,
   "id": "b9efafcc-ca36-445e-9f6f-20dc66203665",
   "metadata": {},
   "outputs": [
    {
     "ename": "TypeError",
     "evalue": "'tuple' object does not support item assignment",
     "output_type": "error",
     "traceback": [
      "\u001b[1;31m---------------------------------------------------------------------------\u001b[0m",
      "\u001b[1;31mTypeError\u001b[0m                                 Traceback (most recent call last)",
      "Cell \u001b[1;32mIn[65], line 1\u001b[0m\n\u001b[1;32m----> 1\u001b[0m tuple1[\u001b[38;5;241m4\u001b[39m] \u001b[38;5;241m=\u001b[39m \u001b[38;5;241m78\u001b[39m\n",
      "\u001b[1;31mTypeError\u001b[0m: 'tuple' object does not support item assignment"
     ]
    }
   ],
   "source": [
    "tuple1[4] = 78"
   ]
  },
  {
   "cell_type": "code",
   "execution_count": 67,
   "id": "8dd7b193-dc80-459a-bb1e-1098d87932dd",
   "metadata": {},
   "outputs": [
    {
     "data": {
      "text/plain": [
       "45"
      ]
     },
     "execution_count": 67,
     "metadata": {},
     "output_type": "execute_result"
    }
   ],
   "source": [
    "tuple1[-1]"
   ]
  },
  {
   "cell_type": "code",
   "execution_count": 69,
   "id": "e4654cdc-7075-4140-a1a7-1ae773bb08b5",
   "metadata": {},
   "outputs": [
    {
     "data": {
      "text/plain": [
       "'Smith'"
      ]
     },
     "execution_count": 69,
     "metadata": {},
     "output_type": "execute_result"
    }
   ],
   "source": [
    "tuple1[-2]"
   ]
  },
  {
   "cell_type": "code",
   "execution_count": 71,
   "id": "803b8047-e1fb-4ce6-a5af-e7f0b51e67d8",
   "metadata": {},
   "outputs": [
    {
     "data": {
      "text/plain": [
       "('John', 45, 89.3, False, (5+6j), 'Smith', 45)"
      ]
     },
     "execution_count": 71,
     "metadata": {},
     "output_type": "execute_result"
    }
   ],
   "source": [
    "tuple1[::]"
   ]
  },
  {
   "cell_type": "code",
   "execution_count": 73,
   "id": "68b6ba47-9846-4c88-8af6-850c68a8e162",
   "metadata": {},
   "outputs": [
    {
     "data": {
      "text/plain": [
       "(45, 'Smith', (5+6j), False, 89.3, 45, 'John')"
      ]
     },
     "execution_count": 73,
     "metadata": {},
     "output_type": "execute_result"
    }
   ],
   "source": [
    "tuple1[::-1]"
   ]
  },
  {
   "cell_type": "code",
   "execution_count": 75,
   "id": "b5bd6b69-613a-44d4-b811-3a2fe45091e3",
   "metadata": {},
   "outputs": [
    {
     "data": {
      "text/plain": [
       "(False, (5+6j), 'Smith', 45)"
      ]
     },
     "execution_count": 75,
     "metadata": {},
     "output_type": "execute_result"
    }
   ],
   "source": [
    "tuple1[3::]"
   ]
  },
  {
   "cell_type": "code",
   "execution_count": 77,
   "id": "5e7380e8-0c68-40cc-8850-97c3507bee94",
   "metadata": {},
   "outputs": [
    {
     "data": {
      "text/plain": [
       "((5+6j), False, 89.3, 45, 'John')"
      ]
     },
     "execution_count": 77,
     "metadata": {},
     "output_type": "execute_result"
    }
   ],
   "source": [
    "tuple1[-3:-len(tuple1)-1:-1]"
   ]
  },
  {
   "cell_type": "code",
   "execution_count": 79,
   "id": "1214f21d-aeb8-406b-9678-4aafddb6f7ca",
   "metadata": {},
   "outputs": [
    {
     "data": {
      "text/plain": [
       "('John', 89.3, (5+6j), 45)"
      ]
     },
     "execution_count": 79,
     "metadata": {},
     "output_type": "execute_result"
    }
   ],
   "source": [
    "tuple1[::2]"
   ]
  },
  {
   "cell_type": "code",
   "execution_count": 81,
   "id": "b4321528-b086-459a-ab31-751892e6ca70",
   "metadata": {},
   "outputs": [],
   "source": [
    "t1 = (1,2,3)"
   ]
  },
  {
   "cell_type": "code",
   "execution_count": 83,
   "id": "e2a5aae6-2d69-42c0-8119-26daa57d87b0",
   "metadata": {},
   "outputs": [],
   "source": [
    "t2 = (4,5,6)"
   ]
  },
  {
   "cell_type": "code",
   "execution_count": 87,
   "id": "0e4fcea4-9267-404f-802a-12bd6ace6b22",
   "metadata": {},
   "outputs": [
    {
     "data": {
      "text/plain": [
       "(1, 2, 3, 4, 5, 6)"
      ]
     },
     "execution_count": 87,
     "metadata": {},
     "output_type": "execute_result"
    }
   ],
   "source": [
    "t1 + t2  # Concatenation"
   ]
  },
  {
   "cell_type": "code",
   "execution_count": 89,
   "id": "51587e46-7992-41de-981f-4c7e6ff671f3",
   "metadata": {},
   "outputs": [
    {
     "data": {
      "text/plain": [
       "(1, 2, 3)"
      ]
     },
     "execution_count": 89,
     "metadata": {},
     "output_type": "execute_result"
    }
   ],
   "source": [
    "t1"
   ]
  },
  {
   "cell_type": "code",
   "execution_count": 91,
   "id": "c0d85770-ba65-424f-8a85-2112c977db72",
   "metadata": {},
   "outputs": [
    {
     "data": {
      "text/plain": [
       "(4, 5, 6)"
      ]
     },
     "execution_count": 91,
     "metadata": {},
     "output_type": "execute_result"
    }
   ],
   "source": [
    "t2"
   ]
  },
  {
   "cell_type": "code",
   "execution_count": 93,
   "id": "5106cb37-4354-41ea-bea4-2505a5a0f8fc",
   "metadata": {},
   "outputs": [
    {
     "ename": "TypeError",
     "evalue": "can only concatenate tuple (not \"list\") to tuple",
     "output_type": "error",
     "traceback": [
      "\u001b[1;31m---------------------------------------------------------------------------\u001b[0m",
      "\u001b[1;31mTypeError\u001b[0m                                 Traceback (most recent call last)",
      "Cell \u001b[1;32mIn[93], line 1\u001b[0m\n\u001b[1;32m----> 1\u001b[0m t1 \u001b[38;5;241m+\u001b[39m [\u001b[38;5;241m4\u001b[39m,\u001b[38;5;241m5\u001b[39m,\u001b[38;5;241m6\u001b[39m]\n",
      "\u001b[1;31mTypeError\u001b[0m: can only concatenate tuple (not \"list\") to tuple"
     ]
    }
   ],
   "source": [
    "t1 + [4,5,6]"
   ]
  },
  {
   "cell_type": "code",
   "execution_count": 95,
   "id": "2c8f4692-845d-4201-a698-f13e0138af77",
   "metadata": {},
   "outputs": [
    {
     "data": {
      "text/plain": [
       "(1, 2, 3, 4, 5, 6)"
      ]
     },
     "execution_count": 95,
     "metadata": {},
     "output_type": "execute_result"
    }
   ],
   "source": [
    "t1 + tuple([4,5,6])"
   ]
  },
  {
   "cell_type": "code",
   "execution_count": 97,
   "id": "fbfe2b6a-2473-4872-bde2-05b16c33fe9a",
   "metadata": {},
   "outputs": [
    {
     "data": {
      "text/plain": [
       "(1, 2, 3, 1, 2, 3)"
      ]
     },
     "execution_count": 97,
     "metadata": {},
     "output_type": "execute_result"
    }
   ],
   "source": [
    "t1 * 2"
   ]
  },
  {
   "cell_type": "code",
   "execution_count": 99,
   "id": "d597e115-0fce-4f3e-9c76-080fd4cb135b",
   "metadata": {},
   "outputs": [
    {
     "data": {
      "text/plain": [
       "(1, 2, 3, 1, 2, 3, 1, 2, 3)"
      ]
     },
     "execution_count": 99,
     "metadata": {},
     "output_type": "execute_result"
    }
   ],
   "source": [
    "t1 * 3"
   ]
  },
  {
   "cell_type": "code",
   "execution_count": 101,
   "id": "9ace7195-c0e9-4d3d-bad5-ff4e41387ebb",
   "metadata": {},
   "outputs": [
    {
     "ename": "TypeError",
     "evalue": "can't multiply sequence by non-int of type 'float'",
     "output_type": "error",
     "traceback": [
      "\u001b[1;31m---------------------------------------------------------------------------\u001b[0m",
      "\u001b[1;31mTypeError\u001b[0m                                 Traceback (most recent call last)",
      "Cell \u001b[1;32mIn[101], line 1\u001b[0m\n\u001b[1;32m----> 1\u001b[0m t1 \u001b[38;5;241m*\u001b[39m \u001b[38;5;241m2.5\u001b[39m\n",
      "\u001b[1;31mTypeError\u001b[0m: can't multiply sequence by non-int of type 'float'"
     ]
    }
   ],
   "source": [
    "t1 * 2.5"
   ]
  },
  {
   "cell_type": "code",
   "execution_count": 103,
   "id": "deba3bd3-8fd3-476d-ba91-3b63a02ca506",
   "metadata": {},
   "outputs": [
    {
     "data": {
      "text/plain": [
       "True"
      ]
     },
     "execution_count": 103,
     "metadata": {},
     "output_type": "execute_result"
    }
   ],
   "source": [
    "3 in t1"
   ]
  },
  {
   "cell_type": "code",
   "execution_count": 105,
   "id": "b6f354f8-32a6-44fc-9be5-65f1fc251612",
   "metadata": {},
   "outputs": [
    {
     "data": {
      "text/plain": [
       "False"
      ]
     },
     "execution_count": 105,
     "metadata": {},
     "output_type": "execute_result"
    }
   ],
   "source": [
    "5 in t1"
   ]
  },
  {
   "cell_type": "code",
   "execution_count": 107,
   "id": "fdf39a34-baa3-444a-9fd2-69c7d5ef3393",
   "metadata": {},
   "outputs": [
    {
     "data": {
      "text/plain": [
       "True"
      ]
     },
     "execution_count": 107,
     "metadata": {},
     "output_type": "execute_result"
    }
   ],
   "source": [
    "5 not in t1"
   ]
  },
  {
   "cell_type": "code",
   "execution_count": 109,
   "id": "d40e7734-c281-4b59-b2d3-28a8a10b8f4b",
   "metadata": {},
   "outputs": [
    {
     "data": {
      "text/plain": [
       "False"
      ]
     },
     "execution_count": 109,
     "metadata": {},
     "output_type": "execute_result"
    }
   ],
   "source": [
    "3 not in t1"
   ]
  }
 ],
 "metadata": {
  "kernelspec": {
   "display_name": "Python 3 (ipykernel)",
   "language": "python",
   "name": "python3"
  },
  "language_info": {
   "codemirror_mode": {
    "name": "ipython",
    "version": 3
   },
   "file_extension": ".py",
   "mimetype": "text/x-python",
   "name": "python",
   "nbconvert_exporter": "python",
   "pygments_lexer": "ipython3",
   "version": "3.12.7"
  }
 },
 "nbformat": 4,
 "nbformat_minor": 5
}
