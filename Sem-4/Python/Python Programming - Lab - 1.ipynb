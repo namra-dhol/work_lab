{
 "cells": [
  {
   "cell_type": "markdown",
   "metadata": {},
   "source": [
    "<a href='https://www.darshan.ac.in/'> <img src='https://www.darshan.ac.in/Content/media/DU_Logo.svg' width=\"250\" height=\"10\"/></a>\n",
    "<pre>\n",
    "<center><b><h1>Python Programming - 2301CS404</b></center>\n",
    "<center><b><h1>Lab - 1</b></center>\n",
    "<center><b><h1>Dhol Namra</b></center>\n",
    "<center><b><h1>Enroll:23010101407</b></center>\n",
    "<center><b><h1>25-11-2024</b></center>\n",
    "<pre>"
   ]
  },
  {
   "cell_type": "markdown",
   "metadata": {},
   "source": [
    "### 01) WAP to print “Hello World”"
   ]
  },
  {
   "cell_type": "code",
   "execution_count": 12,
   "metadata": {},
   "outputs": [
    {
     "name": "stdout",
     "output_type": "stream",
     "text": [
      "Hello World\n"
     ]
    }
   ],
   "source": [
    "print('Hello World')"
   ]
  },
  {
   "cell_type": "markdown",
   "metadata": {},
   "source": [
    "### 02) WAP to print addition of two numbers with and without using input()."
   ]
  },
  {
   "cell_type": "code",
   "execution_count": 3,
   "metadata": {},
   "outputs": [
    {
     "name": "stdout",
     "output_type": "stream",
     "text": [
      "10\n",
      "Enter first number5\n",
      "Enter second number5\n",
      "10\n"
     ]
    }
   ],
   "source": [
    "#without input\n",
    "a,b=4,6\n",
    "print(a+b)\n",
    "\n",
    "#with input\n",
    "a = int(input('Enter first number'))\n",
    "b = int(input('Enter second number'))\n",
    "print(a+b)"
   ]
  },
  {
   "cell_type": "markdown",
   "metadata": {},
   "source": [
    "### 03) WAP to check the type of the variable."
   ]
  },
  {
   "cell_type": "code",
   "execution_count": 11,
   "metadata": {},
   "outputs": [
    {
     "name": "stdout",
     "output_type": "stream",
     "text": [
      "<class 'str'>\n",
      "<class 'int'>\n",
      "<class 'float'>\n"
     ]
    }
   ],
   "source": [
    "print(type('abc'))\n",
    "print(type(3))\n",
    "print(type(3.745))"
   ]
  },
  {
   "cell_type": "markdown",
   "metadata": {},
   "source": [
    "### 04) WAP to calculate simple interest."
   ]
  },
  {
   "cell_type": "code",
   "execution_count": 18,
   "metadata": {},
   "outputs": [
    {
     "name": "stdout",
     "output_type": "stream",
     "text": [
      "0.4\n"
     ]
    }
   ],
   "source": [
    "p = 500\n",
    "r = 0.04\n",
    "t = 2\n",
    "\n",
    "ans = (p*r*t)/100\n",
    "print(ans)"
   ]
  },
  {
   "cell_type": "markdown",
   "metadata": {},
   "source": [
    "### 05) WAP to calculate area and perimeter of a circle."
   ]
  },
  {
   "cell_type": "code",
   "execution_count": 17,
   "metadata": {},
   "outputs": [
    {
     "name": "stdout",
     "output_type": "stream",
     "text": [
      "Enter Radius Of Circle1\n",
      "3.14\n",
      "6.28\n"
     ]
    }
   ],
   "source": [
    "r = float(input('Enter Radius Of Circle'))\n",
    "print(3.14*r*r)\n",
    "print(2*3.14*r)"
   ]
  },
  {
   "cell_type": "markdown",
   "metadata": {},
   "source": [
    "### 06) WAP to calculate area of a triangle."
   ]
  },
  {
   "cell_type": "code",
   "execution_count": 16,
   "metadata": {},
   "outputs": [
    {
     "name": "stdout",
     "output_type": "stream",
     "text": [
      "Enter value of base3\n",
      "Enter value of height2\n",
      "3.0\n"
     ]
    }
   ],
   "source": [
    "b = float(input('Enter value of base'))\n",
    "h = float(input('Enter value of height'))\n",
    "print(0.5*b*h)"
   ]
  },
  {
   "cell_type": "markdown",
   "metadata": {},
   "source": [
    "### 07) WAP to compute quotient and remainder."
   ]
  },
  {
   "cell_type": "code",
   "execution_count": 1,
   "metadata": {},
   "outputs": [
    {
     "name": "stdin",
     "output_type": "stream",
     "text": [
      "Enter the number 1\n"
     ]
    },
    {
     "name": "stdout",
     "output_type": "stream",
     "text": [
      "1\n",
      "0.1\n"
     ]
    }
   ],
   "source": [
    "a = int(input('Enter the number'))\n",
    "print(a/10)\n",
    "print(a%10)"
   ]
  },
  {
   "cell_type": "markdown",
   "metadata": {},
   "source": [
    "### 08) WAP to convert degree into Fahrenheit and vice versa."
   ]
  },
  {
   "cell_type": "code",
   "execution_count": 14,
   "metadata": {},
   "outputs": [
    {
     "name": "stdin",
     "output_type": "stream",
     "text": [
      "Enter celcius: -18\n"
     ]
    },
    {
     "name": "stdout",
     "output_type": "stream",
     "text": [
      "Fahrenheit is: -0.3999999999999986\n"
     ]
    },
    {
     "name": "stdin",
     "output_type": "stream",
     "text": [
      "Enter Fahrenheit: 30\n"
     ]
    },
    {
     "name": "stdout",
     "output_type": "stream",
     "text": [
      "Celcius is: -1.1111111111111112\n"
     ]
    }
   ],
   "source": [
    "fah=0;\n",
    "cel = int(input(\"Enter celcius:\"))\n",
    "fah = (9/5)*cel +32;\n",
    "print(\"Fahrenheit is:\",fah)\n",
    "\n",
    "fah = int(input(\"Enter Fahrenheit:\"))\n",
    "cel = (fah-32)*(5/9)\n",
    "print(\"Celcius is:\",cel)"
   ]
  },
  {
   "cell_type": "markdown",
   "metadata": {},
   "source": [
    "### 09) WAP to find the distance between two points in 2-D space."
   ]
  },
  {
   "cell_type": "code",
   "execution_count": null,
   "metadata": {},
   "outputs": [],
   "source": [
    "import math\n",
    "\n",
    "\n",
    "def calculate_distance(x1, y1, x2, y2):\n",
    "    distance = math.sqrt((x2 - x1) ** 2 + (y2 - y1) ** 2)\n",
    "    return distance\n",
    "\n",
    "\n",
    "try:\n",
    "    print(\"Enter the coordinates of the first point:\")\n",
    "    x1 = float(input(\"x1: \"))\n",
    "    y1 = float(input(\"y1: \"))\n",
    "    \n",
    "    print(\"Enter the coordinates of the second point:\")\n",
    "    x2 = float(input(\"x2: \"))\n",
    "    y2 = float(input(\"y2: \"))\n",
    "\n",
    "    distance = calculate_distance(x1, y1, x2, y2)\n",
    "    print(f\"The distance between ({x1}, {y1}) and ({x2}, {y2}) is: {distance:.2f}\")\n",
    "except ValueError:\n",
    "    print(\"Please enter valid numeric inputs!\")"
   ]
  },
  {
   "cell_type": "markdown",
   "metadata": {},
   "source": [
    "### 10) WAP to print sum of n natural numbers."
   ]
  },
  {
   "cell_type": "code",
   "execution_count": 2,
   "metadata": {},
   "outputs": [
    {
     "name": "stdin",
     "output_type": "stream",
     "text": [
      "Enter Range: 5\n"
     ]
    },
    {
     "name": "stdout",
     "output_type": "stream",
     "text": [
      "15\n"
     ]
    }
   ],
   "source": [
    "num = int(input(\"Enter Range:\"))\n",
    "total=0;\n",
    "for i in range(1,num+1):\n",
    "    total=total+i\n",
    "print(total)"
   ]
  },
  {
   "cell_type": "markdown",
   "metadata": {},
   "source": [
    "### 11) WAP to print sum of square of n natural numbers."
   ]
  },
  {
   "cell_type": "code",
   "execution_count": 3,
   "metadata": {},
   "outputs": [
    {
     "name": "stdin",
     "output_type": "stream",
     "text": [
      "Enter Range: 3\n"
     ]
    },
    {
     "name": "stdout",
     "output_type": "stream",
     "text": [
      "14\n"
     ]
    }
   ],
   "source": [
    "num = int(input(\"Enter Range:\"))\n",
    "total=0;\n",
    "for i in range(1,num+1):\n",
    "    total=total+(i*i)\n",
    "print(total)"
   ]
  },
  {
   "cell_type": "markdown",
   "metadata": {},
   "source": [
    "### 12) WAP to concate the first and last name of the student."
   ]
  },
  {
   "cell_type": "code",
   "execution_count": 19,
   "metadata": {},
   "outputs": [
    {
     "name": "stdout",
     "output_type": "stream",
     "text": [
      "Enter First namerutvik\n",
      "Enter Last namebhagiya\n",
      "rutvikbhagiya\n"
     ]
    }
   ],
   "source": [
    "firstname = input('Enter First name')\n",
    "lastname = input('Enter Last name')\n",
    "print(firstname+lastname)"
   ]
  },
  {
   "cell_type": "markdown",
   "metadata": {},
   "source": [
    "### 13) WAP to swap two numbers."
   ]
  },
  {
   "cell_type": "code",
   "execution_count": 15,
   "metadata": {},
   "outputs": [
    {
     "name": "stdout",
     "output_type": "stream",
     "text": [
      "Enter First Number5\n",
      "Enter second Number2\n",
      "before swapped 5 2\n",
      "After swapped 2 5\n"
     ]
    }
   ],
   "source": [
    "a = input('Enter First Number')\n",
    "b = input('Enter second Number')\n",
    "print('before swapped',a,b)\n",
    "temp = a\n",
    "a = b\n",
    "b = temp\n",
    "print('After swapped',a,b)"
   ]
  },
  {
   "cell_type": "markdown",
   "metadata": {},
   "source": [
    "### 14) WAP to get the distance from user into kilometer, and convert it into meter, feet, inches and centimeter."
   ]
  },
  {
   "cell_type": "code",
   "execution_count": 3,
   "metadata": {},
   "outputs": [
    {
     "name": "stdin",
     "output_type": "stream",
     "text": [
      "Enter Kilometer: 10\n"
     ]
    },
    {
     "name": "stdout",
     "output_type": "stream",
     "text": [
      "Meter:  10000.0\n",
      "Feet:  32808.4\n",
      "Inch:  393701.0\n",
      "Centimeter:  1000000.0\n"
     ]
    }
   ],
   "source": [
    "kilometer = float(input(\"Enter Kilometer:\"))\n",
    "meter = kilometer * 1000\n",
    "feet = kilometer * 3280.84\n",
    "inch = kilometer * 39370.1\n",
    "centimeter = kilometer * 100000\n",
    "\n",
    "print(\"Meter: \",meter)\n",
    "print(\"Feet: \",feet)\n",
    "print(\"Inch: \",inch)\n",
    "print(\"Centimeter: \",centimeter)"
   ]
  },
  {
   "cell_type": "markdown",
   "metadata": {},
   "source": [
    "### 15) WAP to get day, month and year from the user and print the date in the given format: 23-11-2024."
   ]
  },
  {
   "cell_type": "code",
   "execution_count": 6,
   "metadata": {},
   "outputs": [
    {
     "name": "stdin",
     "output_type": "stream",
     "text": [
      "Enter Day: 10\n",
      "Enter Month: 10\n",
      "Enter Year: 10\n"
     ]
    },
    {
     "name": "stdout",
     "output_type": "stream",
     "text": [
      "10 - 10 - 10\n"
     ]
    }
   ],
   "source": [
    "day = input(\"Enter Day:\")\n",
    "month = input(\"Enter Month:\")\n",
    "year = input(\"Enter Year:\")\n",
    "\n",
    "print(day,\"-\",month,\"-\",year)"
   ]
  }
 ],
 "metadata": {
  "kernelspec": {
   "display_name": "Python 3 (ipykernel)",
   "language": "python",
   "name": "python3"
  },
  "language_info": {
   "codemirror_mode": {
    "name": "ipython",
    "version": 3
   },
   "file_extension": ".py",
   "mimetype": "text/x-python",
   "name": "python",
   "nbconvert_exporter": "python",
   "pygments_lexer": "ipython3",
   "version": "3.12.7"
  },
  "vscode": {
   "interpreter": {
    "hash": "31f2aee4e71d21fbe5cf8b01ff0e069b9275f58929596ceb00d14d90e3e16cd6"
   }
  }
 },
 "nbformat": 4,
 "nbformat_minor": 4
}
