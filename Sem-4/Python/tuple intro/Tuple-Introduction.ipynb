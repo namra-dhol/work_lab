{
 "cells": [
  {
   "cell_type": "code",
   "execution_count": 1,
   "id": "d7a24bbd-1452-495f-922a-f335a95f0def",
   "metadata": {},
   "outputs": [],
   "source": [
    "#immutable -> values can not be changed, added or removed from the tuple"
   ]
  },
  {
   "cell_type": "code",
   "execution_count": 3,
   "id": "ca4fa0c7-e529-4e84-872c-9e8ebafb4757",
   "metadata": {},
   "outputs": [],
   "source": [
    "# Similar to List - > Ordered - heterogeneous collection of elements"
   ]
  },
  {
   "cell_type": "code",
   "execution_count": 5,
   "id": "7788d0f3-cc6e-4d6c-906a-b4def0a19adc",
   "metadata": {},
   "outputs": [],
   "source": [
    "tuple1 = ('John',45, 89.3,False,5+6j,'Smith',45)"
   ]
  },
  {
   "cell_type": "code",
   "execution_count": 7,
   "id": "1169921a-c10b-478a-9b72-1109434a9bbc",
   "metadata": {},
   "outputs": [
    {
     "name": "stdout",
     "output_type": "stream",
     "text": [
      "0 John\n",
      "1 45\n",
      "2 89.3\n",
      "3 False\n",
      "4 (5+6j)\n",
      "5 Smith\n",
      "6 45\n"
     ]
    }
   ],
   "source": [
    "for i in range(len(tuple1)):\n",
    "    print(i,tuple1[i])"
   ]
  },
  {
   "cell_type": "code",
   "execution_count": 9,
   "id": "f075a17a-ffd1-415d-8bb6-d6ec36fc8375",
   "metadata": {},
   "outputs": [
    {
     "data": {
      "text/plain": [
       "45"
      ]
     },
     "execution_count": 9,
     "metadata": {},
     "output_type": "execute_result"
    }
   ],
   "source": [
    "tuple1[-1]"
   ]
  },
  {
   "cell_type": "code",
   "execution_count": 13,
   "id": "9770d2ae-4fcf-4a0b-9b3a-f6da0b74b3a4",
   "metadata": {},
   "outputs": [
    {
     "ename": "TypeError",
     "evalue": "'tuple' object does not support item assignment",
     "output_type": "error",
     "traceback": [
      "\u001b[1;31m---------------------------------------------------------------------------\u001b[0m",
      "\u001b[1;31mTypeError\u001b[0m                                 Traceback (most recent call last)",
      "Cell \u001b[1;32mIn[13], line 1\u001b[0m\n\u001b[1;32m----> 1\u001b[0m tuple1[\u001b[38;5;241m0\u001b[39m] \u001b[38;5;241m=\u001b[39m \u001b[38;5;124m'\u001b[39m\u001b[38;5;124mSmith\u001b[39m\u001b[38;5;124m'\u001b[39m\n",
      "\u001b[1;31mTypeError\u001b[0m: 'tuple' object does not support item assignment"
     ]
    }
   ],
   "source": [
    "tuple1[0] = 'Smith'  # immutable"
   ]
  },
  {
   "cell_type": "markdown",
   "id": "97115d76-efc2-4db1-98a5-28699bc9f597",
   "metadata": {},
   "source": [
    "## Tuple Creation"
   ]
  },
  {
   "cell_type": "code",
   "execution_count": 16,
   "id": "497c9b0f-0b83-4577-aaf6-79b743e2efc1",
   "metadata": {},
   "outputs": [],
   "source": [
    "t1 = (1,2,3,4,5)"
   ]
  },
  {
   "cell_type": "code",
   "execution_count": 18,
   "id": "d79b3817-611d-44da-9d1e-0674f12dc32c",
   "metadata": {},
   "outputs": [],
   "source": [
    "t2=()"
   ]
  },
  {
   "cell_type": "code",
   "execution_count": 20,
   "id": "d851c691-bea0-40c4-9ce3-c433f90ea85f",
   "metadata": {},
   "outputs": [
    {
     "data": {
      "text/plain": [
       "()"
      ]
     },
     "execution_count": 20,
     "metadata": {},
     "output_type": "execute_result"
    }
   ],
   "source": [
    "t2"
   ]
  },
  {
   "cell_type": "code",
   "execution_count": 24,
   "id": "7b2149d9-b749-48dc-b44c-2b1402138d9a",
   "metadata": {},
   "outputs": [],
   "source": [
    "t3 = (10)"
   ]
  },
  {
   "cell_type": "code",
   "execution_count": 26,
   "id": "8f42efd8-731e-43ee-b5e5-a9691ab29206",
   "metadata": {},
   "outputs": [
    {
     "name": "stdout",
     "output_type": "stream",
     "text": [
      "<class 'int'>\n"
     ]
    }
   ],
   "source": [
    "print(type(t3))"
   ]
  },
  {
   "cell_type": "code",
   "execution_count": 28,
   "id": "bcce3127-7176-4673-b09c-4cc33fb9429c",
   "metadata": {},
   "outputs": [],
   "source": [
    "t3 = (10,)"
   ]
  },
  {
   "cell_type": "code",
   "execution_count": 30,
   "id": "f8479c9f-7454-41e5-9396-d5afcb59e3ff",
   "metadata": {},
   "outputs": [
    {
     "data": {
      "text/plain": [
       "(10,)"
      ]
     },
     "execution_count": 30,
     "metadata": {},
     "output_type": "execute_result"
    }
   ],
   "source": [
    "t3"
   ]
  },
  {
   "cell_type": "code",
   "execution_count": 32,
   "id": "467a4b79-6275-46d0-b2b5-791966bbc9e2",
   "metadata": {},
   "outputs": [
    {
     "name": "stdout",
     "output_type": "stream",
     "text": [
      "<class 'tuple'>\n"
     ]
    }
   ],
   "source": [
    "print(type(t3))"
   ]
  },
  {
   "cell_type": "code",
   "execution_count": 34,
   "id": "b577a790-fb0e-481d-8db8-0d86b64c5ecd",
   "metadata": {},
   "outputs": [],
   "source": [
    "t4 = tuple((1,2,3,4,5))"
   ]
  },
  {
   "cell_type": "code",
   "execution_count": 36,
   "id": "07fb9d95-d98e-4d9b-a197-f80d63e5d267",
   "metadata": {},
   "outputs": [],
   "source": [
    "t5 = tuple([1,2,3,4,5])"
   ]
  },
  {
   "cell_type": "code",
   "execution_count": 38,
   "id": "654af7ce-e877-4c20-9475-5c0fe727a5fb",
   "metadata": {},
   "outputs": [
    {
     "data": {
      "text/plain": [
       "(1, 2, 3, 4, 5)"
      ]
     },
     "execution_count": 38,
     "metadata": {},
     "output_type": "execute_result"
    }
   ],
   "source": [
    "t5"
   ]
  },
  {
   "cell_type": "code",
   "execution_count": 40,
   "id": "02573783-907f-4cd7-8522-dcc91df9275a",
   "metadata": {},
   "outputs": [
    {
     "data": {
      "text/plain": [
       "tuple"
      ]
     },
     "execution_count": 40,
     "metadata": {},
     "output_type": "execute_result"
    }
   ],
   "source": [
    "type(t5)"
   ]
  },
  {
   "cell_type": "code",
   "execution_count": 42,
   "id": "80b0e3d4-3e09-418b-b6f2-f2d1ee60f9ba",
   "metadata": {},
   "outputs": [],
   "source": [
    "t6 = tuple('Python')"
   ]
  },
  {
   "cell_type": "code",
   "execution_count": 44,
   "id": "5a93a4a2-77b6-40bd-ad2e-a2c1e3509276",
   "metadata": {},
   "outputs": [
    {
     "data": {
      "text/plain": [
       "('P', 'y', 't', 'h', 'o', 'n')"
      ]
     },
     "execution_count": 44,
     "metadata": {},
     "output_type": "execute_result"
    }
   ],
   "source": [
    "t6"
   ]
  },
  {
   "cell_type": "code",
   "execution_count": 46,
   "id": "6b4a6513-8be5-4055-9ee7-97f7625de57f",
   "metadata": {},
   "outputs": [],
   "source": [
    "t7 = tuple((1,2,33,4))"
   ]
  },
  {
   "cell_type": "code",
   "execution_count": 48,
   "id": "f7bfe444-5736-4c17-995f-024492544992",
   "metadata": {},
   "outputs": [
    {
     "data": {
      "text/plain": [
       "(1, 2, 33, 4)"
      ]
     },
     "execution_count": 48,
     "metadata": {},
     "output_type": "execute_result"
    }
   ],
   "source": [
    "t7"
   ]
  },
  {
   "cell_type": "markdown",
   "id": "fd2010e9-d055-4787-bb5d-6b35bc1a0f92",
   "metadata": {},
   "source": [
    "## Tuple Packing & Unpacking"
   ]
  },
  {
   "cell_type": "code",
   "execution_count": 51,
   "id": "458e9397-e324-4971-8fcb-0c5a35e72f6f",
   "metadata": {},
   "outputs": [],
   "source": [
    "t1 = 10"
   ]
  },
  {
   "cell_type": "code",
   "execution_count": 53,
   "id": "7517b365-e4e8-4861-b20a-1779d38b9d6e",
   "metadata": {},
   "outputs": [],
   "source": [
    "t1 = 10,20,30,40,50  # Tuple Packing "
   ]
  },
  {
   "cell_type": "code",
   "execution_count": 55,
   "id": "444b2088-785b-4fc5-adf2-c6c355ca3110",
   "metadata": {},
   "outputs": [
    {
     "data": {
      "text/plain": [
       "(10, 20, 30, 40, 50)"
      ]
     },
     "execution_count": 55,
     "metadata": {},
     "output_type": "execute_result"
    }
   ],
   "source": [
    "t1  "
   ]
  },
  {
   "cell_type": "code",
   "execution_count": 57,
   "id": "a88e96c1-972f-44fb-b60b-c5c2cb1d7961",
   "metadata": {},
   "outputs": [
    {
     "data": {
      "text/plain": [
       "tuple"
      ]
     },
     "execution_count": 57,
     "metadata": {},
     "output_type": "execute_result"
    }
   ],
   "source": [
    "type(t1)"
   ]
  },
  {
   "cell_type": "code",
   "execution_count": 59,
   "id": "06106681-a317-44ec-a379-9f0868d17f06",
   "metadata": {},
   "outputs": [],
   "source": [
    "a,b,c,d,e = t1  # Tuple Unpacking"
   ]
  },
  {
   "cell_type": "code",
   "execution_count": 61,
   "id": "41550ab4-c717-446a-9a23-f1f02814ec0b",
   "metadata": {},
   "outputs": [
    {
     "data": {
      "text/plain": [
       "10"
      ]
     },
     "execution_count": 61,
     "metadata": {},
     "output_type": "execute_result"
    }
   ],
   "source": [
    "a"
   ]
  },
  {
   "cell_type": "code",
   "execution_count": 63,
   "id": "fa4a1cb0-82b1-49a7-a1c6-1e2ab6fba93d",
   "metadata": {},
   "outputs": [
    {
     "data": {
      "text/plain": [
       "20"
      ]
     },
     "execution_count": 63,
     "metadata": {},
     "output_type": "execute_result"
    }
   ],
   "source": [
    "b"
   ]
  },
  {
   "cell_type": "code",
   "execution_count": 65,
   "id": "2da5b3b3-0ef8-45ce-bc93-ce66d544c407",
   "metadata": {},
   "outputs": [
    {
     "data": {
      "text/plain": [
       "30"
      ]
     },
     "execution_count": 65,
     "metadata": {},
     "output_type": "execute_result"
    }
   ],
   "source": [
    "c"
   ]
  },
  {
   "cell_type": "code",
   "execution_count": 67,
   "id": "b22a1431-e9ad-465e-a8f0-2073d61fe248",
   "metadata": {},
   "outputs": [
    {
     "data": {
      "text/plain": [
       "40"
      ]
     },
     "execution_count": 67,
     "metadata": {},
     "output_type": "execute_result"
    }
   ],
   "source": [
    "d"
   ]
  },
  {
   "cell_type": "code",
   "execution_count": 69,
   "id": "ae4ad0ac-01e8-4f65-b86f-2a674bdb0c21",
   "metadata": {},
   "outputs": [
    {
     "data": {
      "text/plain": [
       "50"
      ]
     },
     "execution_count": 69,
     "metadata": {},
     "output_type": "execute_result"
    }
   ],
   "source": [
    "e"
   ]
  },
  {
   "cell_type": "code",
   "execution_count": 71,
   "id": "b463150f-713b-41be-82b6-75254cd0a17e",
   "metadata": {},
   "outputs": [],
   "source": [
    "l1 = [1,2,3] #unpacking list"
   ]
  },
  {
   "cell_type": "code",
   "execution_count": 73,
   "id": "4684baf3-dc4b-41ba-97bd-32565946ce1c",
   "metadata": {},
   "outputs": [],
   "source": [
    "a,b,c = l1"
   ]
  },
  {
   "cell_type": "code",
   "execution_count": 75,
   "id": "27ab7830-2137-4281-bc75-9f8dd4ddb803",
   "metadata": {},
   "outputs": [
    {
     "data": {
      "text/plain": [
       "1"
      ]
     },
     "execution_count": 75,
     "metadata": {},
     "output_type": "execute_result"
    }
   ],
   "source": [
    "a"
   ]
  },
  {
   "cell_type": "code",
   "execution_count": 77,
   "id": "9ff6404b-7cc1-4f64-b60f-b0b8df9c5d4c",
   "metadata": {},
   "outputs": [
    {
     "data": {
      "text/plain": [
       "2"
      ]
     },
     "execution_count": 77,
     "metadata": {},
     "output_type": "execute_result"
    }
   ],
   "source": [
    "b"
   ]
  },
  {
   "cell_type": "code",
   "execution_count": 79,
   "id": "fa271aa6-750a-4d73-af5c-0b6b86f971b5",
   "metadata": {},
   "outputs": [
    {
     "data": {
      "text/plain": [
       "3"
      ]
     },
     "execution_count": 79,
     "metadata": {},
     "output_type": "execute_result"
    }
   ],
   "source": [
    "c"
   ]
  },
  {
   "cell_type": "code",
   "execution_count": 81,
   "id": "d9a00ce2-f101-45fa-a5dd-baf1e7fd3dbb",
   "metadata": {},
   "outputs": [],
   "source": [
    "a,b,c = \"pyt\"  # unpacking string"
   ]
  },
  {
   "cell_type": "code",
   "execution_count": 83,
   "id": "aa440bac-c36d-446d-8578-448823174710",
   "metadata": {},
   "outputs": [
    {
     "data": {
      "text/plain": [
       "'p'"
      ]
     },
     "execution_count": 83,
     "metadata": {},
     "output_type": "execute_result"
    }
   ],
   "source": [
    "a"
   ]
  },
  {
   "cell_type": "code",
   "execution_count": 85,
   "id": "1309c2ed-3aa6-4204-b11e-f712598356f5",
   "metadata": {},
   "outputs": [
    {
     "data": {
      "text/plain": [
       "'y'"
      ]
     },
     "execution_count": 85,
     "metadata": {},
     "output_type": "execute_result"
    }
   ],
   "source": [
    "b"
   ]
  },
  {
   "cell_type": "code",
   "execution_count": 87,
   "id": "87cad903-bc11-4885-aaaa-118253f575fe",
   "metadata": {},
   "outputs": [
    {
     "data": {
      "text/plain": [
       "'t'"
      ]
     },
     "execution_count": 87,
     "metadata": {},
     "output_type": "execute_result"
    }
   ],
   "source": [
    "c"
   ]
  },
  {
   "cell_type": "code",
   "execution_count": 89,
   "id": "d1cf9105-2b00-46a5-a420-910c4f531b8c",
   "metadata": {},
   "outputs": [],
   "source": [
    "# Packing is done in tuple only but unpacking can be done for list, tuple and string too."
   ]
  },
  {
   "cell_type": "code",
   "execution_count": 91,
   "id": "929e1f54-7786-4360-94f3-c8fa687265c7",
   "metadata": {},
   "outputs": [],
   "source": [
    "t1 = 10,20,30,40,50"
   ]
  },
  {
   "cell_type": "code",
   "execution_count": 93,
   "id": "64c200c0-b07f-4888-9348-38416616f131",
   "metadata": {},
   "outputs": [
    {
     "ename": "ValueError",
     "evalue": "too many values to unpack (expected 3)",
     "output_type": "error",
     "traceback": [
      "\u001b[1;31m---------------------------------------------------------------------------\u001b[0m",
      "\u001b[1;31mValueError\u001b[0m                                Traceback (most recent call last)",
      "Cell \u001b[1;32mIn[93], line 1\u001b[0m\n\u001b[1;32m----> 1\u001b[0m a,b,c \u001b[38;5;241m=\u001b[39m t1\n",
      "\u001b[1;31mValueError\u001b[0m: too many values to unpack (expected 3)"
     ]
    }
   ],
   "source": [
    "a,b,c = t1"
   ]
  },
  {
   "cell_type": "code",
   "execution_count": 95,
   "id": "0d522b73-1a48-4730-8b80-a2ec808c5bfe",
   "metadata": {},
   "outputs": [],
   "source": [
    "a,b,*c = t1"
   ]
  },
  {
   "cell_type": "code",
   "execution_count": 97,
   "id": "64245867-ef3b-49b3-b5de-d30465e0385d",
   "metadata": {},
   "outputs": [
    {
     "data": {
      "text/plain": [
       "10"
      ]
     },
     "execution_count": 97,
     "metadata": {},
     "output_type": "execute_result"
    }
   ],
   "source": [
    "a"
   ]
  },
  {
   "cell_type": "code",
   "execution_count": 99,
   "id": "9feb0a3c-f948-40ae-a297-2cd35fa09034",
   "metadata": {},
   "outputs": [
    {
     "data": {
      "text/plain": [
       "20"
      ]
     },
     "execution_count": 99,
     "metadata": {},
     "output_type": "execute_result"
    }
   ],
   "source": [
    "b"
   ]
  },
  {
   "cell_type": "code",
   "execution_count": 103,
   "id": "85a2760c-211a-49b0-882f-22da6a629b15",
   "metadata": {},
   "outputs": [
    {
     "data": {
      "text/plain": [
       "[30, 40, 50]"
      ]
     },
     "execution_count": 103,
     "metadata": {},
     "output_type": "execute_result"
    }
   ],
   "source": [
    "c # returns a list for the remaining elements "
   ]
  },
  {
   "cell_type": "code",
   "execution_count": 105,
   "id": "1a74fb4d-5349-46a2-b443-d63f6eb39d94",
   "metadata": {},
   "outputs": [],
   "source": [
    "a,*b,c = t1"
   ]
  },
  {
   "cell_type": "code",
   "execution_count": 107,
   "id": "87803cad-37ba-4882-9cc2-00dffb1eaf1c",
   "metadata": {},
   "outputs": [
    {
     "data": {
      "text/plain": [
       "10"
      ]
     },
     "execution_count": 107,
     "metadata": {},
     "output_type": "execute_result"
    }
   ],
   "source": [
    "a"
   ]
  },
  {
   "cell_type": "code",
   "execution_count": 109,
   "id": "768cffb6-a6d5-42f4-b34a-58c668338bcf",
   "metadata": {},
   "outputs": [
    {
     "data": {
      "text/plain": [
       "50"
      ]
     },
     "execution_count": 109,
     "metadata": {},
     "output_type": "execute_result"
    }
   ],
   "source": [
    "c"
   ]
  },
  {
   "cell_type": "code",
   "execution_count": 111,
   "id": "8998ddc4-5355-497c-b580-d1b91d8f5f2d",
   "metadata": {},
   "outputs": [
    {
     "data": {
      "text/plain": [
       "[20, 30, 40]"
      ]
     },
     "execution_count": 111,
     "metadata": {},
     "output_type": "execute_result"
    }
   ],
   "source": [
    "b"
   ]
  },
  {
   "cell_type": "code",
   "execution_count": 113,
   "id": "b3c27581-311d-4144-9e55-7b39a6aa8012",
   "metadata": {},
   "outputs": [
    {
     "ename": "SyntaxError",
     "evalue": "multiple starred expressions in assignment (842391392.py, line 1)",
     "output_type": "error",
     "traceback": [
      "\u001b[1;36m  Cell \u001b[1;32mIn[113], line 1\u001b[1;36m\u001b[0m\n\u001b[1;33m    a,*b,*c = t1\u001b[0m\n\u001b[1;37m    ^\u001b[0m\n\u001b[1;31mSyntaxError\u001b[0m\u001b[1;31m:\u001b[0m multiple starred expressions in assignment\n"
     ]
    }
   ],
   "source": [
    "a,*b,*c = t1"
   ]
  }
 ],
 "metadata": {
  "kernelspec": {
   "display_name": "Python 3 (ipykernel)",
   "language": "python",
   "name": "python3"
  },
  "language_info": {
   "codemirror_mode": {
    "name": "ipython",
    "version": 3
   },
   "file_extension": ".py",
   "mimetype": "text/x-python",
   "name": "python",
   "nbconvert_exporter": "python",
   "pygments_lexer": "ipython3",
   "version": "3.12.7"
  }
 },
 "nbformat": 4,
 "nbformat_minor": 5
}
